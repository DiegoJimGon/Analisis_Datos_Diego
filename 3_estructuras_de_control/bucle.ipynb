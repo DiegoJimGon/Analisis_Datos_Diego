{
 "cells": [
  {
   "cell_type": "markdown",
   "metadata": {},
   "source": [
    "# Estructuras de control iterativas\n",
    "Las Estructuras de Control while (mientras) y for (para) nos van a permitir repetir una instrucción o conjunto de instrucciones mientras una expresión booleana resulte verdadera. Se las suele denominar Bucle While y Bucle For con el objetivo de destacar su naturaleza iterativa."
   ]
  },
  {
   "cell_type": "markdown",
   "metadata": {},
   "source": [
    "## For\n",
    "El bucle for nos permitirá establecer cuántas veces queremos o tenemos que iterar, sus componentes son:\n",
    "* Expresión inicial\n",
    "* Condición\n",
    "* Incremento o paso  \n",
    "\n",
    "En pseudocódigo: Para i = 1 Hasta i <= 10 Con Paso 1 Hacer  \n",
    "\n",
    "En Python con todos sus componentes:  \n",
    "```python\n",
    "for expresion in range(valor_inicial,condicion,paso):\n",
    "    instrucciones\n",
    "```\n",
    "Para poder usar este bucle solo es necesario poner la condición de paro, por defecto el valor_inicial = 0 y el paso = 1\n",
    "```python\n",
    "# siempre la condicion es menor que: i < condición\n",
    "for i in range(condicion):\n",
    "    instrucciones\n",
    "# si el paso es -1 es mayor que: i>condición\n",
    "for i in range(valor_inicial,condicion, -1):\n",
    "    instrucciones\n",
    "```\n",
    "\n",
    "En Python, ésta Estructura de Control Iterativa se caracteriza por iterar para cada uno de los elementos de una lista (o Tupla) sin que sea necesario modificar ninguna condición dentro del conjunto de instrucciones que dicho bucle contiene. Es decir, que nos mantendremos dentro del bucle siempre y cuando la lista siga teniendo elementos.\n",
    "\n",
    "Este bucle será de gran utilidad cuando iteremos sobre las filas y columnas de matrices.\n",
    "```python\n",
    "for i in range(n):\n",
    "    instrucciones\n",
    " \n",
    "```"
   ]
  },
  {
   "cell_type": "code",
   "execution_count": 1,
   "metadata": {},
   "outputs": [
    {
     "name": "stdout",
     "output_type": "stream",
     "text": [
      "0\n",
      "1\n",
      "2\n",
      "3\n",
      "4\n",
      "5\n",
      "6\n",
      "7\n",
      "8\n",
      "9\n"
     ]
    }
   ],
   "source": [
    "#Ejemplo, i tomara valores de 0 a 9, el valor incia es 0 por defecto\n",
    "# i tomara valores menores a 10\n",
    "for i in range(10):\n",
    "    print(i)"
   ]
  },
  {
   "cell_type": "code",
   "execution_count": null,
   "metadata": {},
   "outputs": [],
   "source": []
  },
  {
   "cell_type": "code",
   "execution_count": 2,
   "metadata": {},
   "outputs": [
    {
     "name": "stdout",
     "output_type": "stream",
     "text": [
      "6\n",
      "8\n",
      "10\n",
      "12\n",
      "14\n",
      "16\n",
      "18\n"
     ]
    }
   ],
   "source": [
    "# Ejemplo con todos sus componentes\n",
    "for i in range(6,20,2):\n",
    "    print(i)"
   ]
  },
  {
   "cell_type": "code",
   "execution_count": null,
   "metadata": {},
   "outputs": [],
   "source": []
  },
  {
   "cell_type": "code",
   "execution_count": 3,
   "metadata": {},
   "outputs": [
    {
     "name": "stdout",
     "output_type": "stream",
     "text": [
      "10\n",
      "9\n",
      "8\n",
      "7\n",
      "6\n",
      "5\n",
      "4\n",
      "3\n",
      "2\n",
      "1\n"
     ]
    }
   ],
   "source": [
    "# Ejemplo con el paso -1\n",
    "for i in range(10,0,-1):\n",
    "    print(i)"
   ]
  },
  {
   "cell_type": "code",
   "execution_count": null,
   "metadata": {},
   "outputs": [],
   "source": []
  },
  {
   "cell_type": "markdown",
   "metadata": {},
   "source": [
    "## While\n",
    "Esta Estructura de Control Iterativa es muy útil cuando se requiere que un algoritmo se mantenga iterando una cantidad de n-veces hasta que deje de ser verdadera una cierta expresión booleana.\n",
    "```python\n",
    "while(condicion):\n",
    "    instrucciones\n",
    " \n",
    "```"
   ]
  },
  {
   "cell_type": "code",
   "execution_count": 4,
   "metadata": {},
   "outputs": [
    {
     "name": "stdout",
     "output_type": "stream",
     "text": [
      "Hola mundo\n",
      "Hola mundo\n",
      "Hola mundo\n"
     ]
    }
   ],
   "source": [
    "# Ejemplo\n",
    "continuar = 1\n",
    "while(continuar):\n",
    "    continuar = int(input(\"Introduce 1 o 0 \"))\n",
    "    print(\"Hola mundo\")"
   ]
  },
  {
   "cell_type": "code",
   "execution_count": null,
   "metadata": {},
   "outputs": [],
   "source": []
  },
  {
   "cell_type": "code",
   "execution_count": 6,
   "metadata": {},
   "outputs": [
    {
     "name": "stdout",
     "output_type": "stream",
     "text": [
      "Hola mundo\n"
     ]
    }
   ],
   "source": [
    "continuar = \"y\"\n",
    "while(continuar == \"y\"):\n",
    "    continuar = input(\"Quieres continuar y/n:\")\n",
    "    print(\"Hola mundo\")"
   ]
  },
  {
   "cell_type": "code",
   "execution_count": null,
   "metadata": {},
   "outputs": [],
   "source": []
  },
  {
   "cell_type": "code",
   "execution_count": null,
   "metadata": {},
   "outputs": [],
   "source": []
  },
  {
   "cell_type": "code",
   "execution_count": null,
   "metadata": {},
   "outputs": [],
   "source": [
    "y\n"
   ]
  },
  {
   "cell_type": "code",
   "execution_count": 7,
   "metadata": {},
   "outputs": [
    {
     "name": "stdout",
     "output_type": "stream",
     "text": [
      "Hola mundo\n",
      "Hola mundo\n",
      "Hola mundo\n",
      "Hola mundo\n",
      "Hola mundo\n",
      "Hola mundo\n",
      "Hola mundo\n",
      "Hola mundo\n",
      "Hola mundo\n",
      "Hola mundo\n"
     ]
    }
   ],
   "source": [
    "cont = 0\n",
    "while(cont<10):\n",
    "    print(\"Hola mundo\")\n",
    "    cont+=1"
   ]
  },
  {
   "cell_type": "code",
   "execution_count": null,
   "metadata": {},
   "outputs": [],
   "source": []
  },
  {
   "cell_type": "markdown",
   "metadata": {},
   "source": [
    "## Do while\n",
    "Se usa cuando el problema a resolver requiere que se ejecute por lo menos una vez el ciclo. Se compone por una condicional cuya expresión se evalúa después de ejecutar el bloque de instrucciones.  \n",
    "\n",
    "Para crear un bucle do while en Python, necesitas modificar el bucle while un con el propósito de obtener un comportamiento similar al de los bucles do while en otros lenguajes.\n",
    "\n",
    "```python\n",
    " while(True):\n",
    "    instrucciones\n",
    "    if condicion:\n",
    "        break\n",
    "```"
   ]
  },
  {
   "cell_type": "code",
   "execution_count": 9,
   "metadata": {},
   "outputs": [
    {
     "name": "stdout",
     "output_type": "stream",
     "text": [
      "Palabra secreta: incorrecta\n",
      "Palabra secreta: incorrecta\n",
      "Palabra secreta: incorrecta\n",
      "Palabra secreta: incorrecta\n",
      "Palabra secreta: incorrecta\n",
      "Palabra secreta: incorrecta\n",
      "Palabra secreta: incorrecta\n",
      "Palabra secreta: incorrecta\n",
      "Palabra secreta: incorrecta\n",
      "Palabra secreta: incorrecta\n",
      "Palabra secreta: incorrecta\n",
      "Palabra secreta: incorrecta\n",
      "Palabra secreta: incorrecta\n",
      "Palabra secreta: incorrecta\n",
      "Palabra secreta: incorrecta\n",
      "Palabra secreta: incorrecta\n",
      "Palabra secreta: incorrecta\n",
      "Palabra secreta: incorrecta\n",
      "Palabra secreta: incorrecta\n",
      "Palabra secreta: incorrecta\n",
      "Palabra secreta: incorrecta\n",
      "Palabra secreta: incorrecta\n",
      "Palabra secreta: incorrecta\n",
      "Palabra secreta: incorrecta\n",
      "Palabra secreta: incorrecta\n",
      "Palabra secreta: incorrecta\n",
      "Palabra secreta: correcta\n"
     ]
    }
   ],
   "source": [
    "# Ejemplo\n",
    "palabra_secreta = \"python\"\n",
    "while(True):\n",
    "    dame_palabra = input(\"Ingresa la palabra secreta: \")\n",
    "    if dame_palabra == palabra_secreta:\n",
    "        break\n",
    "    print(\"Palabra secreta: incorrecta\")\n",
    "print(\"Palabra secreta: correcta\")"
   ]
  },
  {
   "cell_type": "code",
   "execution_count": null,
   "metadata": {},
   "outputs": [],
   "source": []
  },
  {
   "cell_type": "code",
   "execution_count": null,
   "metadata": {},
   "outputs": [],
   "source": []
  },
  {
   "cell_type": "code",
   "execution_count": 13,
   "metadata": {},
   "outputs": [
    {
     "name": "stdout",
     "output_type": "stream",
     "text": [
      "1.- opción 1\n",
      "2.- opción 2\n",
      "3.- opción 3\n",
      "Error\n",
      "1.- opción 1\n",
      "2.- opción 2\n",
      "3.- opción 3\n"
     ]
    },
    {
     "ename": "ValueError",
     "evalue": "invalid literal for int() with base 10: ''",
     "output_type": "error",
     "traceback": [
      "\u001b[1;31m---------------------------------------------------------------------------\u001b[0m",
      "\u001b[1;31mValueError\u001b[0m                                Traceback (most recent call last)",
      "\u001b[1;32mc:\\Diego_Analisis_Datos_EDC_9\\Analisis_Datos_Diego\\3_estructuras_de_control\\bucle.ipynb Celda 22\u001b[0m in \u001b[0;36m<cell line: 2>\u001b[1;34m()\u001b[0m\n\u001b[0;32m      <a href='vscode-notebook-cell:/c%3A/Diego_Analisis_Datos_EDC_9/Analisis_Datos_Diego/3_estructuras_de_control/bucle.ipynb#X14sZmlsZQ%3D%3D?line=3'>4</a>\u001b[0m \u001b[39mprint\u001b[39m(\u001b[39m\"\u001b[39m\u001b[39m2.- opción 2\u001b[39m\u001b[39m\"\u001b[39m)\n\u001b[0;32m      <a href='vscode-notebook-cell:/c%3A/Diego_Analisis_Datos_EDC_9/Analisis_Datos_Diego/3_estructuras_de_control/bucle.ipynb#X14sZmlsZQ%3D%3D?line=4'>5</a>\u001b[0m \u001b[39mprint\u001b[39m(\u001b[39m\"\u001b[39m\u001b[39m3.- opción 3\u001b[39m\u001b[39m\"\u001b[39m)\n\u001b[1;32m----> <a href='vscode-notebook-cell:/c%3A/Diego_Analisis_Datos_EDC_9/Analisis_Datos_Diego/3_estructuras_de_control/bucle.ipynb#X14sZmlsZQ%3D%3D?line=5'>6</a>\u001b[0m opt \u001b[39m=\u001b[39m \u001b[39mint\u001b[39;49m(\u001b[39minput\u001b[39;49m(\u001b[39m\"\u001b[39;49m\u001b[39mIngresa una opción: \u001b[39;49m\u001b[39m\"\u001b[39;49m))\n\u001b[0;32m      <a href='vscode-notebook-cell:/c%3A/Diego_Analisis_Datos_EDC_9/Analisis_Datos_Diego/3_estructuras_de_control/bucle.ipynb#X14sZmlsZQ%3D%3D?line=6'>7</a>\u001b[0m \u001b[39mif\u001b[39;00m \u001b[39m0\u001b[39m \u001b[39m<\u001b[39m opt \u001b[39mand\u001b[39;00m opt \u001b[39m<\u001b[39m \u001b[39m4\u001b[39m:\n\u001b[0;32m      <a href='vscode-notebook-cell:/c%3A/Diego_Analisis_Datos_EDC_9/Analisis_Datos_Diego/3_estructuras_de_control/bucle.ipynb#X14sZmlsZQ%3D%3D?line=7'>8</a>\u001b[0m     \u001b[39mbreak\u001b[39;00m\n",
      "\u001b[1;31mValueError\u001b[0m: invalid literal for int() with base 10: ''"
     ]
    }
   ],
   "source": [
    "# Ejemplo menú\n",
    "while(True):\n",
    "    print(\"1.- opción 1\")\n",
    "    print(\"2.- opción 2\")\n",
    "    print(\"3.- opción 3\")\n",
    "    opt = int(input(\"Ingresa una opción: \"))\n",
    "    if 0 < opt and opt < 4:\n",
    "        break\n",
    "    else:\n",
    "    \n",
    "        print(\"Error\")\n",
    "\n",
    "print(f\"elegiste la opción: {opt}\")\n",
    "    "
   ]
  },
  {
   "cell_type": "code",
   "execution_count": null,
   "metadata": {},
   "outputs": [],
   "source": []
  },
  {
   "cell_type": "code",
   "execution_count": null,
   "metadata": {},
   "outputs": [],
   "source": []
  },
  {
   "cell_type": "code",
   "execution_count": null,
   "metadata": {},
   "outputs": [],
   "source": []
  }
 ],
 "metadata": {
  "kernelspec": {
   "display_name": "Python 3.10.5 64-bit",
   "language": "python",
   "name": "python3"
  },
  "language_info": {
   "codemirror_mode": {
    "name": "ipython",
    "version": 3
   },
   "file_extension": ".py",
   "mimetype": "text/x-python",
   "name": "python",
   "nbconvert_exporter": "python",
   "pygments_lexer": "ipython3",
   "version": "3.10.5"
  },
  "orig_nbformat": 4,
  "vscode": {
   "interpreter": {
    "hash": "77abe205c72c096294b3a4a26264acecc5dbf8fb16ba6ed375b92e4d65784221"
   }
  }
 },
 "nbformat": 4,
 "nbformat_minor": 2
}
