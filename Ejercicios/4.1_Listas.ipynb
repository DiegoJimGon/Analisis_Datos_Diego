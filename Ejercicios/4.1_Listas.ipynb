{
 "cells": [
  {
   "cell_type": "markdown",
   "metadata": {},
   "source": [
    "# Ejercicios Listas"
   ]
  },
  {
   "cell_type": "markdown",
   "metadata": {},
   "source": [
    "### Ejercicio 1\n",
    "Escribir un programa que almacene las asignaturas de un curso (por ejemplo Matemáticas, Física, Química, Historia y Lengua) en una lista y la muestre por pantalla."
   ]
  },
  {
   "cell_type": "code",
   "execution_count": 2,
   "metadata": {},
   "outputs": [
    {
     "name": "stdout",
     "output_type": "stream",
     "text": [
      "['matemáticas', 'Física', 'Química', 'Histria', 'Lengua']\n"
     ]
    }
   ],
   "source": [
    "# Solución\n",
    "asignaturas=[\"matemáticas\",\"Física\",\"Química\",\"Histria\",\"Lengua\"]\n",
    "print(asignaturas)\n"
   ]
  },
  {
   "cell_type": "markdown",
   "metadata": {},
   "source": [
    "### Ejercicio 2\n",
    "Escribir un programa que almacene las asignaturas de un curso (por ejemplo Matemáticas, Física, Química, Historia y Lengua) en una lista y la muestre por pantalla el mensaje Yo estudio &lt;asignatura>, donde &lt;asignatura> es cada una de las asignaturas de la lista."
   ]
  },
  {
   "cell_type": "code",
   "execution_count": 6,
   "metadata": {},
   "outputs": [
    {
     "name": "stdout",
     "output_type": "stream",
     "text": [
      "yo estudio matemáticas\n",
      "yo estudio Física\n",
      "yo estudio Química\n",
      "yo estudio Histria\n"
     ]
    },
    {
     "ename": "IndexError",
     "evalue": "list index out of range",
     "output_type": "error",
     "traceback": [
      "\u001b[1;31m---------------------------------------------------------------------------\u001b[0m",
      "\u001b[1;31mIndexError\u001b[0m                                Traceback (most recent call last)",
      "Cell \u001b[1;32mIn [6], line 9\u001b[0m\n\u001b[0;32m      7\u001b[0m \u001b[39mprint\u001b[39m(\u001b[39mf\u001b[39m\u001b[39m\"\u001b[39m\u001b[39myo estudio \u001b[39m\u001b[39m{\u001b[39;00m(i[\u001b[39m2\u001b[39m])\u001b[39m}\u001b[39;00m\u001b[39m\"\u001b[39m)\n\u001b[0;32m      8\u001b[0m \u001b[39mprint\u001b[39m(\u001b[39mf\u001b[39m\u001b[39m\"\u001b[39m\u001b[39myo estudio \u001b[39m\u001b[39m{\u001b[39;00m(i[\u001b[39m3\u001b[39m])\u001b[39m}\u001b[39;00m\u001b[39m\"\u001b[39m)\n\u001b[1;32m----> 9\u001b[0m \u001b[39mprint\u001b[39m(\u001b[39mf\u001b[39m\u001b[39m\"\u001b[39m\u001b[39myo estudio \u001b[39m\u001b[39m{\u001b[39;00m(i[\u001b[39m4\u001b[39;49m])\u001b[39m}\u001b[39;00m\u001b[39m\"\u001b[39m)\n\u001b[0;32m     10\u001b[0m \u001b[39mprint\u001b[39m(\u001b[39mf\u001b[39m\u001b[39m\"\u001b[39m\u001b[39myo estudio \u001b[39m\u001b[39m{\u001b[39;00m(i[\u001b[39m0\u001b[39m:\u001b[39m5\u001b[39m])\u001b[39m}\u001b[39;00m\u001b[39m\"\u001b[39m)\n",
      "\u001b[1;31mIndexError\u001b[0m: list index out of range"
     ]
    }
   ],
   "source": [
    "# Solución\n",
    "#asignaturas\n",
    "i=[\"matemáticas\",\"Física\",\"Química\",\"Histria\",\"Lengua\"]\n",
    "\n",
    "print(f\"yo estudio {(i[0])}\")\n",
    "print(f\"yo estudio {(i[1])}\")\n",
    "print(f\"yo estudio {(i[2])}\")\n",
    "print(f\"yo estudio {(i[3])}\")\n",
    "print(f\"yo estudio {(i[4])}\")\n",
    "print(f\"yo estudio {(i[0:5])}\")\n",
    "\n",
    "\n",
    "###\n",
    "asignatura=\n",
    "\n",
    "\n",
    "\n",
    "\n"
   ]
  },
  {
   "cell_type": "code",
   "execution_count": 33,
   "metadata": {},
   "outputs": [
    {
     "name": "stdout",
     "output_type": "stream",
     "text": [
      "yo estudio <[['matemáticas', 'Física', 'Química', 'Histria', 'Lengua']]>\n",
      "yo estudio <generator object <genexpr> at 0x000001A64DDC1A80> \n",
      "yo estudio <[['matemáticas', 'Física', 'Química', 'Histria', 'Lengua']]>\n",
      "yo estudio <generator object <genexpr> at 0x000001A64DDC1AF0> \n",
      "yo estudio <[['matemáticas', 'Física', 'Química', 'Histria', 'Lengua']]>\n",
      "yo estudio <generator object <genexpr> at 0x000001A64DDC1B60> \n",
      "yo estudio <[['matemáticas', 'Física', 'Química', 'Histria', 'Lengua']]>\n",
      "yo estudio <generator object <genexpr> at 0x000001A64DDC1BD0> \n",
      "yo estudio <[['matemáticas', 'Física', 'Química', 'Histria', 'Lengua']]>\n",
      "yo estudio <generator object <genexpr> at 0x000001A64DDC1C40> \n"
     ]
    }
   ],
   "source": [
    "\"\"\"\n",
    "for i in range(0,5):\n",
    "    print(f\"yo estudio <{[asignaturas]}>\")\n",
    "    print(f\"yo estudio {i for i in range(0,5)} \")\n",
    "\"\"\""
   ]
  },
  {
   "cell_type": "code",
   "execution_count": null,
   "metadata": {},
   "outputs": [],
   "source": []
  },
  {
   "cell_type": "markdown",
   "metadata": {},
   "source": [
    "### Ejercicio 3\n",
    "Escribir un programa que almacene las asignaturas de un curso (por ejemplo Matemáticas, Física, Química, Historia y Lengua) en una lista, pregunte al usuario la nota que ha sacado en cada asignatura, y después las muestre por pantalla con el mensaje En &lt;asignatura> has sacado &lt;nota> donde &lt;asignatura> es cada una des las asignaturas de la lista y &lt;nota> cada una de las correspondientes notas introducidas por el usuario."
   ]
  },
  {
   "cell_type": "code",
   "execution_count": 26,
   "metadata": {},
   "outputs": [
    {
     "name": "stdout",
     "output_type": "stream",
     "text": [
      "[6]\n",
      "[6, 6]\n",
      "[6, 6, 6]\n",
      "[6, 6, 6, 6]\n",
      "[6, 6, 6, 6, 6]\n"
     ]
    }
   ],
   "source": [
    "# Solución\n",
    "#asignaturas\n",
    "\"\"\"\n",
    "i=[\"matemáticas\",\"Física\",\"Química\",\"Histria\",\"Lengua\"]\n",
    "notas=[]\n",
    "#pregunte al usuario la nota que ha sacado en cada asignatura\n",
    "for asignar in range(0,5,1):\n",
    "    nota=int(input(\"ingresa nota{asignar}\"))\n",
    "for u in range (0,5,1):\n",
    "    notas.insert(u,nota)\n",
    "    print(notas)\n",
    "        \n",
    "#muestre \"en <asignatura> has sacado <nota>\"\n",
    "#print(f\"En {i}\")\n",
    "\"\"\""
   ]
  },
  {
   "cell_type": "code",
   "execution_count": 43,
   "metadata": {},
   "outputs": [
    {
     "name": "stdout",
     "output_type": "stream",
     "text": [
      "En: matemáticas sacaste :1\n",
      "En: Física sacaste :2\n",
      "En: Química sacaste :3\n",
      "En: Histria sacaste :56\n",
      "En: Lengua sacaste :467\n",
      "[1, 2, 3, 56, 467]\n"
     ]
    }
   ],
   "source": [
    "# Solución\n",
    "\n",
    "materias=[\"matemáticas\",\"Física\",\"Química\",\"Histria\",\"Lengua\"]\n",
    "notas=[]\n",
    "\n",
    "for i in range(len(materias)):#sin+1 porque son 5 posiciones\n",
    "    nota=int(input(f\"ingrese nota para{materias}\"))\n",
    "    notas.insert(i,nota)\n",
    "    print(f\"En: {(materias[i])} sacaste :{(nota)}\")\n",
    "    #falta imprimir \"en materia sacaste nota\"\n",
    "print(notas)\n",
    "#print(f\"en {(materias[i])} sacaste {(notas[nota])}\")"
   ]
  },
  {
   "cell_type": "markdown",
   "metadata": {},
   "source": [
    "### Ejercicio 4\n",
    "Escribir un programa que pregunte al usuario los números ganadores de la lotería primitiva, los almacene en una lista y los muestre por pantalla ordenados de menor a mayor."
   ]
  },
  {
   "cell_type": "code",
   "execution_count": 5,
   "metadata": {},
   "outputs": [
    {
     "name": "stdout",
     "output_type": "stream",
     "text": [
      "None\n",
      "[1, 2, 3, 4, 5, 6]\n"
     ]
    }
   ],
   "source": [
    "# Solución\n",
    "mis_numeros=[]\n",
    "#preguntar numeros\n",
    "for i in range(1,7,1):\n",
    "    numero=int(input(\"ingresa numero{i}\"))\n",
    "    mis_numeros.append(numero)\n",
    "#ordenar numeros\n",
    "print(mis_numeros.sort())\n",
    "#imprimir lista de numeros en orden ascendente\n",
    "print(mis_numeros)\n"
   ]
  },
  {
   "cell_type": "markdown",
   "metadata": {},
   "source": [
    "### Ejercicio 5\n",
    "Escribir un programa que almacene en una lista los números del 1 al 10 y los muestre por pantalla en orden inverso separados por comas."
   ]
  },
  {
   "cell_type": "code",
   "execution_count": 4,
   "metadata": {},
   "outputs": [
    {
     "name": "stdout",
     "output_type": "stream",
     "text": [
      "[11, 10, 9, 8, 7, 6, 5, 4, 3, 2, 1]\n"
     ]
    }
   ],
   "source": [
    "# Solución\n",
    "numeros=[]\n",
    "\n",
    "for i in range(1,11+1):\n",
    "    numeros.append(i)\n",
    "    \n",
    "numeros.sort(reverse=True)\n",
    "print(numeros)"
   ]
  },
  {
   "cell_type": "markdown",
   "metadata": {},
   "source": [
    "### Ejercicio 6\n",
    "Escribir un programa que almacene las asignaturas de un curso (por ejemplo Matemáticas, Física, Química, Historia y Lengua) en una lista, pregunte al usuario la nota que ha sacado en cada asignatura y elimine de la lista las asignaturas aprobadas. Al final el programa debe mostrar por pantalla las asignaturas que el usuario tiene que repetir."
   ]
  },
  {
   "cell_type": "code",
   "execution_count": 6,
   "metadata": {},
   "outputs": [
    {
     "name": "stdout",
     "output_type": "stream",
     "text": [
      "materias reprobadas: \n",
      " [] \n",
      "materias aprobadas: \n",
      " ['matemáticas', 'Física', 'Química', 'Histria', 'Lengua'] \n"
     ]
    }
   ],
   "source": [
    "# Solución\n",
    "\n",
    "materias=[\"matemáticas\",\"Física\",\"Química\",\"Histria\",\"Lengua\"]\n",
    "notas=[]\n",
    "materias_reprobadas=[]\n",
    "for i in range(len(materias)):#sin+1 porque son 5 posiciones\n",
    "    nota=int(input(f\"ingrese nota para{materias}\"))\n",
    "    notas.insert(i,nota)\n",
    "    if(nota<6):\n",
    "        materias_reprobadas.append(materias[i])\n",
    "        materias.pop(i)\n",
    "        #print(materias[i])\n",
    "print(f\"materias reprobadas: \\n {materias_reprobadas} \")\n",
    "    \n",
    "print(f\"materias aprobadas: \\n {materias} \")\n",
    "    \n",
    "    \n",
    "    #print(f\"En: {(materias[i])} sacaste :{(nota)}\")\n",
    "    #falta imprimir \"en materia sacaste nota\"\n",
    "#print(notas)\n",
    "#print(f\"en {(materias[i])} sacaste {(notas[nota])}\")"
   ]
  },
  {
   "cell_type": "markdown",
   "metadata": {},
   "source": [
    "### Ejercicio 7\n",
    "Escribir un programa que almacene el abecedario en una lista, elimine de la lista las letras que ocupen posiciones múltiplos de 3, y muestre por pantalla la lista resultante."
   ]
  },
  {
   "cell_type": "code",
   "execution_count": 32,
   "metadata": {},
   "outputs": [
    {
     "name": "stdout",
     "output_type": "stream",
     "text": [
      "['a', 'b', 'c', 'd', 'e', 'f', 'g', 'h', 'i', 'j', 'k', 'l', 'm', 'n', 'o', 'p', 'q', 'r', 's', 't', 'u', 'v', 'w', 'x', 'y', 'z']\n",
      "LETRAS EN POSICION MULTIPLO DE 3: \n",
      " ['a', 'd', 'g', 'j', 'm', 'p', 's', 'v', 'y']\n",
      "ABECEDARIO SIN LETRAS QUE ESTABAN EN POSICION MULTIPLO 3:\n",
      "['b', 'c', 'e', 'f', 'h', 'i', 'k', 'l', 'n', 'o', 'q', 'r', 't', 'u', 'w', 'x', 'z']\n"
     ]
    }
   ],
   "source": [
    "# Solución\n",
    "import string\n",
    "def listAlphabet():\n",
    " return list(string.ascii_lowercase)\n",
    "print(listAlphabet())\n",
    "abecedario=[]\n",
    "abecedario=listAlphabet()\n",
    "#print(abecedario)\n",
    "posicion_multiplo_3=[]\n",
    "#letra_multiplo=[]\n",
    "for i in range(0,len(abecedario),1):\n",
    "    if(i%3==0):\n",
    "        #abecedario.remove[i]\n",
    "        #posicion_multiplo_3.append(abecedario)\n",
    "        #posicion_multiplo_3.append(i)\n",
    "        #letra_eliminar=abecedario.pop(i)\n",
    "        #letra_multiplo.append(letra_eliminar)\n",
    "        #print(i)\n",
    "        posicion_multiplo_3.append(abecedario[i])\n",
    "        \n",
    "      \n",
    "        #abecedario.remove(i)\n",
    "        #print(letra_multiplo)\n",
    "\n",
    "#print(letra_multiplo)\n",
    "#print(abecedario)\n",
    "print(f\"LETRAS EN POSICION MULTIPLO DE 3: \\n {posicion_multiplo_3}\")\n",
    "for letra in range(len(posicion_multiplo_3)):\n",
    "    abecedario.remove(str(posicion_multiplo_3[letra]))\n",
    "\n",
    "print(f\"ABECEDARIO SIN LETRAS QUE ESTABAN EN POSICION MULTIPLO 3:\\n{abecedario}\")\n",
    "        \n",
    "#print(abecedario)\n",
    "\n",
    "#posicion_multiplo_3.sort(reverse=True)\n",
    "\n",
    "#print(posicion_multiplo_3)\n",
    "\n",
    "#deleting=0\n",
    "#while(deleting<=len(posicion_multiplo_3)):\n",
    "   # abecedario.pop[posicion_multiplo_3]\n",
    "    #deleting=deleting+1\n",
    "\n",
    "\n",
    "        #abecedario.pop(i)"
   ]
  },
  {
   "cell_type": "markdown",
   "metadata": {},
   "source": [
    "### Ejercicio 8\n",
    "Escribir un programa que pida al usuario una palabra y muestre por pantalla si es un palíndromo."
   ]
  },
  {
   "cell_type": "code",
   "execution_count": 41,
   "metadata": {},
   "outputs": [
    {
     "name": "stdout",
     "output_type": "stream",
     "text": [
      "31\n",
      "14\n",
      "Dábale arroz a la\n",
      "esta es mitaz izquierda['Dábale arroz a']\n"
     ]
    },
    {
     "ename": "TypeError",
     "evalue": "len() takes exactly one argument (2 given)",
     "output_type": "error",
     "traceback": [
      "\u001b[1;31m---------------------------------------------------------------------------\u001b[0m",
      "\u001b[1;31mTypeError\u001b[0m                                 Traceback (most recent call last)",
      "Cell \u001b[1;32mIn [41], line 21\u001b[0m\n\u001b[0;32m     18\u001b[0m \u001b[39mprint\u001b[39m(\u001b[39mf\u001b[39m\u001b[39m\"\u001b[39m\u001b[39mesta es mitaz izquierda\u001b[39m\u001b[39m{\u001b[39;00mmitad_izquierda\u001b[39m}\u001b[39;00m\u001b[39m\"\u001b[39m)\n\u001b[0;32m     19\u001b[0m \u001b[39m#evaluar a lista con respecto a la otra mitad\u001b[39;00m\n\u001b[1;32m---> 21\u001b[0m \u001b[39mfor\u001b[39;00m derecha \u001b[39min\u001b[39;00m \u001b[39mrange\u001b[39m(\u001b[39m0\u001b[39m,\u001b[39mlen\u001b[39;49m(mitad_derecha,\u001b[39m1\u001b[39;49m)):\n\u001b[0;32m     22\u001b[0m     \u001b[39mprint\u001b[39m(derecha)\n\u001b[0;32m     23\u001b[0m     \u001b[39mfor\u001b[39;00m izquierda \u001b[39min\u001b[39;00m \u001b[39mrange\u001b[39m(\u001b[39m0\u001b[39m, \u001b[39mlen\u001b[39m(mitad_izquierda,\u001b[39m-\u001b[39m\u001b[39m1\u001b[39m)):\n",
      "\u001b[1;31mTypeError\u001b[0m: len() takes exactly one argument (2 given)"
     ]
    }
   ],
   "source": [
    "# Solución\n",
    "palabra=str(input(\"ingresa palabra\"))\n",
    "#Dábale arroz a la zorra el abad\n",
    "\n",
    "for i in range(0,len(palabra),1):\n",
    "    #contar elementos de la lista\n",
    "    largo_de_palabra=(len(palabra))\n",
    "    print(largo_de_palabra)\n",
    "    #dividir elementos -1 por la letra que queda en medio\n",
    "    mitad_palabra=largo_de_palabra//2-1\n",
    "    print(mitad_palabra)\n",
    "    #partir la palabra para tener la mitad de los elementos\n",
    "    print(palabra[:-mitad_palabra])\n",
    "    #hacer lista de la mitad de la palabra\n",
    "    mitad_derecha=[]\n",
    "    mitad_izquierda=[]\n",
    "    \n",
    "    mitad_izquierda.append(palabra[:mitad_palabra])\n",
    "    print(f\"esta es mitaz izquierda{mitad_izquierda}\")\n",
    "    #evaluar a lista con respecto a la otra mitad\n",
    "    \n",
    "    for derecha in range(0,len(mitad_derecha,1)):\n",
    "        print(derecha)\n",
    "        for izquierda in range(0, len(mitad_izquierda,-1)):\n",
    "            print(izquierda)\n",
    "    ### eliminar 2 veces la palabra por orden\n",
    "    #### contar cuantas veces se elimino la letra\n",
    "    #### si se elimino un numero impar de veces, \n",
    "    ###la palabra no ed paliandromo\n",
    "    \n",
    "palabra.sort(reverse=True)\n",
    "\n",
    "#for r in range(0,len(palabra,1),1):\n",
    "    \n"
   ]
  },
  {
   "cell_type": "markdown",
   "metadata": {},
   "source": [
    "### Ejercicio 9\n",
    "Escribir un programa que pida al usuario una palabra y muestre por pantalla el número de veces que contiene cada vocal."
   ]
  },
  {
   "cell_type": "code",
   "execution_count": 21,
   "metadata": {},
   "outputs": [
    {
     "name": "stdout",
     "output_type": "stream",
     "text": [
      "La palabra <aeeiioouu> contiene:\n",
      "a= 1 veces\n",
      "e= 2 veces\n",
      "i= 2 veces\n",
      "o= 2 veces\n",
      "u= 2 veces\n"
     ]
    }
   ],
   "source": [
    "# Solución\n",
    "\n",
    "#pedir una palabra\n",
    "palabra=input(\"introduzca una palabra\")\n",
    "print(f\"La palabra <{palabra}> contiene:\")\n",
    "a=0\n",
    "for i in range(0,len(palabra),1):\n",
    "    # si i es ==a\n",
    "    #print(str(palabra[i]))\n",
    "    if(str(palabra[i])== 'a'):\n",
    "        palabra.count('a')\n",
    "    if(str(palabra[i])== 'e'):\n",
    "        palabra.count('e')\n",
    "    if(str(palabra[i])== 'i'):\n",
    "        palabra.count('i')\n",
    "    if(str(palabra[i])== 'o'):\n",
    "        palabra.count('o')\n",
    "    if(str(palabra[i])== 'u'):\n",
    "        palabra.count('u')\n",
    "        \n",
    "print(f\"a= {palabra.count('a')} veces\")\n",
    "print(f\"e= {palabra.count('e')} veces\")\n",
    "print(f\"i= {palabra.count('i')} veces\")\n",
    "print(f\"o= {palabra.count('o')} veces\")\n",
    "print(f\"u= {palabra.count('u')} veces\")\n"
   ]
  },
  {
   "cell_type": "markdown",
   "metadata": {},
   "source": [
    "### Ejercicio 10\n",
    "Escribir un programa que almacene en una lista los siguientes precios, 50, 75, 46, 22, 80, 65, 8, y muestre por pantalla el menor y el mayor de los precios."
   ]
  },
  {
   "cell_type": "code",
   "execution_count": 33,
   "metadata": {},
   "outputs": [
    {
     "name": "stdout",
     "output_type": "stream",
     "text": [
      "precio maximo :80\n",
      "precio minimo :8\n"
     ]
    }
   ],
   "source": [
    "# Solución\n",
    "precios=[50, 75, 46, 22, 80, 65, 8]\n",
    "print(f\"precio maximo :{max(precios)}\")\n",
    "print(f\"precio minimo :{min(precios)}\")\n"
   ]
  },
  {
   "cell_type": "markdown",
   "metadata": {},
   "source": [
    "### Ejercicio 11\n",
    "Escribir un programa que almacene los vectores (1,2,3) y (-1,0,2) en dos listas y muestre por pantalla su producto escalar."
   ]
  },
  {
   "cell_type": "code",
   "execution_count": 36,
   "metadata": {},
   "outputs": [
    {
     "name": "stdout",
     "output_type": "stream",
     "text": [
      "vector 1=[[1, 2, 3]]\n",
      "vector 2=[[-1, 0, 2]]\n"
     ]
    },
    {
     "ename": "TypeError",
     "evalue": "'list' object is not callable",
     "output_type": "error",
     "traceback": [
      "\u001b[1;31m---------------------------------------------------------------------------\u001b[0m",
      "\u001b[1;31mTypeError\u001b[0m                                 Traceback (most recent call last)",
      "Cell \u001b[1;32mIn [36], line 11\u001b[0m\n\u001b[0;32m      8\u001b[0m \u001b[39mfor\u001b[39;00m i \u001b[39min\u001b[39;00m \u001b[39mrange\u001b[39m(\u001b[39mlen\u001b[39m(vec_1)):\n\u001b[0;32m     10\u001b[0m     \u001b[39mfor\u001b[39;00m u \u001b[39min\u001b[39;00m \u001b[39mrange\u001b[39m(\u001b[39mlen\u001b[39m(vec_2)):\n\u001b[1;32m---> 11\u001b[0m         vec_1(i)\u001b[39m%\u001b[39mvec_2(u)\u001b[39m/\u001b[39mvec_1(i)\n",
      "\u001b[1;31mTypeError\u001b[0m: 'list' object is not callable"
     ]
    }
   ],
   "source": [
    "# Solución\n",
    "vec_1=[1,2,3]\n",
    "vec_2=[-1,0,2]\n",
    "\n",
    "print(f\"vector 1={[vec_1]}\")\n",
    "print(f\"vector 2={[vec_2]}\")\n",
    "\n",
    "for i in range(len(vec_1)):\n",
    "    \n",
    "    for u in range(len(vec_2)):\n",
    "        vec_1(i)%vec_2(u)/vec_1(i)"
   ]
  },
  {
   "cell_type": "markdown",
   "metadata": {},
   "source": [
    "### Ejercicio 12\n",
    "Escribir un programa que almacene las matrices en una lista y muestre por pantalla su producto.\n",
    "Nota: Para representar matrices mediante listas usar listas anidadas, representando cada vector fila en una lista.  \n",
    "\n",
    "$$\\begin{equation}\n",
    "    \\begin{pmatrix}\n",
    "        a_{1,1} & a_{1,2}\\\\\n",
    "        a_{2,1} & a_{2,2}\n",
    "    \\end{pmatrix}\n",
    "    *\n",
    "    \\begin{pmatrix}\n",
    "        b_{1,1} & b_{1,2}\\\\\n",
    "        b_{2,1} & b_{2,2}\n",
    "    \\end{pmatrix}\n",
    "    =\n",
    "    \\begin{pmatrix}\n",
    "        a_{1,1}*b_{1,1} +a_{1,2}*b_{2,1} &  a_{1,1}*b_{1,2}+a_{1,2}*b_{2,2}\\\\\n",
    "        a_{2,1}*b_{1,1} + a_{2,2}*b_{2,1} &  a_{2,1}*b_{1,2} + a_{2,2}*b_{2,2}\n",
    "    \\end{pmatrix}\n",
    "\\end{equation}$$"
   ]
  },
  {
   "cell_type": "markdown",
   "metadata": {},
   "source": [
    "### Ejemplo\n",
    "$$\\begin{equation}\n",
    "    \\begin{pmatrix}\n",
    "        1 & 2\\\\\n",
    "        3 & 4\n",
    "    \\end{pmatrix}\n",
    "    *\n",
    "    \\begin{pmatrix}\n",
    "        1 & 1\\\\\n",
    "        0 & 2\n",
    "    \\end{pmatrix}\n",
    "    =\n",
    "    \\begin{pmatrix}\n",
    "        1*1 +2*0 &  1*1+2*2\\\\\n",
    "        3*1 + 4*0 &  3*1 + 4*2\n",
    "    \\end{pmatrix}\n",
    "    =\n",
    "    \\begin{pmatrix}\n",
    "        1 & 5\\\\\n",
    "        3 & 11\n",
    "    \\end{pmatrix}\n",
    "\\end{equation}$$"
   ]
  },
  {
   "cell_type": "code",
   "execution_count": 58,
   "metadata": {},
   "outputs": [
    {
     "name": "stdout",
     "output_type": "stream",
     "text": [
      "[[1, 2], [3, 4]]\n",
      "[[1, 1], [0, 2]]\n",
      "1\n",
      "5\n",
      "[1, 5]\n",
      "3\n",
      "11\n",
      "[3, 11]\n",
      "[[1, 5], [3, 11]]\n"
     ]
    }
   ],
   "source": [
    "# Solución\n",
    "matriz_1=[[1,2],[3,4]]\n",
    "matriz_2=[[1,1],[0,2]]  \n",
    "#matrizota=matriz_1*matriz_2\n",
    "print(matriz_1)\n",
    "print(matriz_2)\n",
    "\n",
    "k=(matriz_1[0][0])*(matriz_2[0][0])\n",
    "l=(matriz_1[0][1])*(matriz_2[1][0])\n",
    "k_l=k+l\n",
    "print(k_l)\n",
    "\n",
    "m=(matriz_1[0][0])*(matriz_2[0][1])\n",
    "n=(matriz_1[0][1])*(matriz_2[1][1])\n",
    "m_n=m+n\n",
    "print(m_n)\n",
    "\n",
    "kl_mn=[]\n",
    "kl_mn.append(k_l)\n",
    "kl_mn.append(m_n)\n",
    "print(kl_mn)\n",
    "\n",
    "o=(matriz_1[1][0])*(matriz_2[0][1])\n",
    "p=(matriz_1[1][1])*(matriz_2[1][0])\n",
    "o_p=o+p\n",
    "print(o_p)\n",
    "\n",
    "q=(matriz_1[1][0])*(matriz_2[0][1])\n",
    "r=(matriz_1[1][1])*(matriz_2[1][1])\n",
    "q_r=q+r\n",
    "print(q_r)\n",
    "\n",
    "op_qr=[]\n",
    "op_qr.append(o_p)\n",
    "op_qr.append(q_r)\n",
    "\n",
    "print(op_qr)\n",
    "\n",
    "matriz_final=[]\n",
    "matriz_final.append(kl_mn)\n",
    "matriz_final.append(op_qr)\n",
    "\n",
    "print(matriz_final)\n",
    "\n",
    "#for i in range(matriz_1):\n",
    "    \n",
    "#    for u in range(matriz_2):\n",
    "        \n",
    "        \n",
    "\n",
    "\n"
   ]
  },
  {
   "cell_type": "markdown",
   "metadata": {},
   "source": [
    "### Ejemplo 2\n",
    "$$\n",
    "A = \\left(\n",
    "  \\begin{array}{rrr}\n",
    "  1 & 2 & 3\\\\\n",
    "  4 & 5 & 6\n",
    "  \\end{array}\n",
    "  \\right)\n",
    "  \\quad  y\n",
    "  \\quad\n",
    "  B = \\left(\n",
    "  \\begin{array}{rr}\n",
    "  -1 & 0\\\\\n",
    "  0 & 1\\\\\n",
    "  1 & 1\n",
    "  \\end{array}\n",
    "  \\right)\n",
    "$$"
   ]
  },
  {
   "cell_type": "code",
   "execution_count": null,
   "metadata": {},
   "outputs": [],
   "source": [
    "# Solución\n",
    "\n",
    "a=[[1,2,3],[4,5,6]]\n",
    "\n",
    "b=[[-1,0],[0,1],[1,1]]"
   ]
  }
 ],
 "metadata": {
  "kernelspec": {
   "display_name": "Python 3.10.4 64-bit",
   "language": "python",
   "name": "python3"
  },
  "language_info": {
   "codemirror_mode": {
    "name": "ipython",
    "version": 3
   },
   "file_extension": ".py",
   "mimetype": "text/x-python",
   "name": "python",
   "nbconvert_exporter": "python",
   "pygments_lexer": "ipython3",
   "version": "3.10.4"
  },
  "orig_nbformat": 4,
  "vscode": {
   "interpreter": {
    "hash": "1b14cc28e908b3e60405afee52de7726ef4b45933adff97ba011d02847356674"
   }
  }
 },
 "nbformat": 4,
 "nbformat_minor": 2
}
