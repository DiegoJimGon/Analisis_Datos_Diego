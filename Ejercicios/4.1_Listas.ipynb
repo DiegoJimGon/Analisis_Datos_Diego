{
 "cells": [
  {
   "cell_type": "markdown",
   "metadata": {},
   "source": [
    "# Ejercicios Listas"
   ]
  },
  {
   "cell_type": "markdown",
   "metadata": {},
   "source": [
    "### Ejercicio 1\n",
    "Escribir un programa que almacene las asignaturas de un curso (por ejemplo Matemáticas, Física, Química, Historia y Lengua) en una lista y la muestre por pantalla."
   ]
  },
  {
   "cell_type": "code",
   "execution_count": 2,
   "metadata": {},
   "outputs": [
    {
     "name": "stdout",
     "output_type": "stream",
     "text": [
      "['matemáticas', 'Física', 'Química', 'Histria', 'Lengua']\n"
     ]
    }
   ],
   "source": [
    "# Solución\n",
    "asignaturas=[\"matemáticas\",\"Física\",\"Química\",\"Histria\",\"Lengua\"]\n",
    "print(asignaturas)\n"
   ]
  },
  {
   "cell_type": "code",
   "execution_count": null,
   "metadata": {},
   "outputs": [],
   "source": []
  },
  {
   "cell_type": "code",
   "execution_count": null,
   "metadata": {},
   "outputs": [],
   "source": []
  },
  {
   "cell_type": "markdown",
   "metadata": {},
   "source": [
    "### Ejercicio 2\n",
    "Escribir un programa que almacene las asignaturas de un curso (por ejemplo Matemáticas, Física, Química, Historia y Lengua) en una lista y la muestre por pantalla el mensaje Yo estudio &lt;asignatura>, donde &lt;asignatura> es cada una de las asignaturas de la lista."
   ]
  },
  {
   "cell_type": "code",
   "execution_count": 6,
   "metadata": {},
   "outputs": [
    {
     "name": "stdout",
     "output_type": "stream",
     "text": [
      "yo estudio matemáticas\n",
      "yo estudio Física\n",
      "yo estudio Química\n",
      "yo estudio Histria\n"
     ]
    },
    {
     "ename": "IndexError",
     "evalue": "list index out of range",
     "output_type": "error",
     "traceback": [
      "\u001b[1;31m---------------------------------------------------------------------------\u001b[0m",
      "\u001b[1;31mIndexError\u001b[0m                                Traceback (most recent call last)",
      "Cell \u001b[1;32mIn [6], line 9\u001b[0m\n\u001b[0;32m      7\u001b[0m \u001b[39mprint\u001b[39m(\u001b[39mf\u001b[39m\u001b[39m\"\u001b[39m\u001b[39myo estudio \u001b[39m\u001b[39m{\u001b[39;00m(i[\u001b[39m2\u001b[39m])\u001b[39m}\u001b[39;00m\u001b[39m\"\u001b[39m)\n\u001b[0;32m      8\u001b[0m \u001b[39mprint\u001b[39m(\u001b[39mf\u001b[39m\u001b[39m\"\u001b[39m\u001b[39myo estudio \u001b[39m\u001b[39m{\u001b[39;00m(i[\u001b[39m3\u001b[39m])\u001b[39m}\u001b[39;00m\u001b[39m\"\u001b[39m)\n\u001b[1;32m----> 9\u001b[0m \u001b[39mprint\u001b[39m(\u001b[39mf\u001b[39m\u001b[39m\"\u001b[39m\u001b[39myo estudio \u001b[39m\u001b[39m{\u001b[39;00m(i[\u001b[39m4\u001b[39;49m])\u001b[39m}\u001b[39;00m\u001b[39m\"\u001b[39m)\n\u001b[0;32m     10\u001b[0m \u001b[39mprint\u001b[39m(\u001b[39mf\u001b[39m\u001b[39m\"\u001b[39m\u001b[39myo estudio \u001b[39m\u001b[39m{\u001b[39;00m(i[\u001b[39m0\u001b[39m:\u001b[39m5\u001b[39m])\u001b[39m}\u001b[39;00m\u001b[39m\"\u001b[39m)\n",
      "\u001b[1;31mIndexError\u001b[0m: list index out of range"
     ]
    }
   ],
   "source": [
    "# Solución\n",
    "#asignaturas\n",
    "i=[\"matemáticas\",\"Física\",\"Química\",\"Histria\",\"Lengua\"]\n",
    "\n",
    "print(f\"yo estudio {(i[0])}\")\n",
    "print(f\"yo estudio {(i[1])}\")\n",
    "print(f\"yo estudio {(i[2])}\")\n",
    "print(f\"yo estudio {(i[3])}\")\n",
    "print(f\"yo estudio {(i[4])}\")\n",
    "print(f\"yo estudio {(i[0:5])}\")\n",
    "\n",
    "\n",
    "###\n",
    "asignatura=\n",
    "\n",
    "\n",
    "\n",
    "\n"
   ]
  },
  {
   "cell_type": "code",
   "execution_count": 33,
   "metadata": {},
   "outputs": [
    {
     "name": "stdout",
     "output_type": "stream",
     "text": [
      "yo estudio <[['matemáticas', 'Física', 'Química', 'Histria', 'Lengua']]>\n",
      "yo estudio <generator object <genexpr> at 0x000001A64DDC1A80> \n",
      "yo estudio <[['matemáticas', 'Física', 'Química', 'Histria', 'Lengua']]>\n",
      "yo estudio <generator object <genexpr> at 0x000001A64DDC1AF0> \n",
      "yo estudio <[['matemáticas', 'Física', 'Química', 'Histria', 'Lengua']]>\n",
      "yo estudio <generator object <genexpr> at 0x000001A64DDC1B60> \n",
      "yo estudio <[['matemáticas', 'Física', 'Química', 'Histria', 'Lengua']]>\n",
      "yo estudio <generator object <genexpr> at 0x000001A64DDC1BD0> \n",
      "yo estudio <[['matemáticas', 'Física', 'Química', 'Histria', 'Lengua']]>\n",
      "yo estudio <generator object <genexpr> at 0x000001A64DDC1C40> \n"
     ]
    }
   ],
   "source": [
    "\"\"\"\n",
    "for i in range(0,5):\n",
    "    print(f\"yo estudio <{[asignaturas]}>\")\n",
    "    print(f\"yo estudio {i for i in range(0,5)} \")\n",
    "\"\"\""
   ]
  },
  {
   "cell_type": "code",
   "execution_count": null,
   "metadata": {},
   "outputs": [],
   "source": []
  },
  {
   "cell_type": "markdown",
   "metadata": {},
   "source": [
    "### Ejercicio 3\n",
    "Escribir un programa que almacene las asignaturas de un curso (por ejemplo Matemáticas, Física, Química, Historia y Lengua) en una lista, pregunte al usuario la nota que ha sacado en cada asignatura, y después las muestre por pantalla con el mensaje En &lt;asignatura> has sacado &lt;nota> donde &lt;asignatura> es cada una des las asignaturas de la lista y &lt;nota> cada una de las correspondientes notas introducidas por el usuario."
   ]
  },
  {
   "cell_type": "code",
   "execution_count": 26,
   "metadata": {},
   "outputs": [
    {
     "name": "stdout",
     "output_type": "stream",
     "text": [
      "[6]\n",
      "[6, 6]\n",
      "[6, 6, 6]\n",
      "[6, 6, 6, 6]\n",
      "[6, 6, 6, 6, 6]\n"
     ]
    }
   ],
   "source": [
    "# Solución\n",
    "#asignaturas\n",
    "\"\"\"\n",
    "i=[\"matemáticas\",\"Física\",\"Química\",\"Histria\",\"Lengua\"]\n",
    "notas=[]\n",
    "#pregunte al usuario la nota que ha sacado en cada asignatura\n",
    "for asignar in range(0,5,1):\n",
    "    nota=int(input(\"ingresa nota{asignar}\"))\n",
    "for u in range (0,5,1):\n",
    "    notas.insert(u,nota)\n",
    "    print(notas)\n",
    "        \n",
    "#muestre \"en <asignatura> has sacado <nota>\"\n",
    "#print(f\"En {i}\")\n",
    "\"\"\""
   ]
  },
  {
   "cell_type": "code",
   "execution_count": 43,
   "metadata": {},
   "outputs": [
    {
     "name": "stdout",
     "output_type": "stream",
     "text": [
      "En: matemáticas sacaste :1\n",
      "En: Física sacaste :2\n",
      "En: Química sacaste :3\n",
      "En: Histria sacaste :56\n",
      "En: Lengua sacaste :467\n",
      "[1, 2, 3, 56, 467]\n"
     ]
    }
   ],
   "source": [
    "# Solución\n",
    "\n",
    "materias=[\"matemáticas\",\"Física\",\"Química\",\"Histria\",\"Lengua\"]\n",
    "notas=[]\n",
    "\n",
    "for i in range(len(materias)):#sin+1 porque son 5 posiciones\n",
    "    nota=int(input(f\"ingrese nota para{materias}\"))\n",
    "    notas.insert(i,nota)\n",
    "    print(f\"En: {(materias[i])} sacaste :{(nota)}\")\n",
    "    #falta imprimir \"en materia sacaste nota\"\n",
    "print(notas)\n",
    "#print(f\"en {(materias[i])} sacaste {(notas[nota])}\")"
   ]
  },
  {
   "cell_type": "markdown",
   "metadata": {},
   "source": [
    "### Ejercicio 4\n",
    "Escribir un programa que pregunte al usuario los números ganadores de la lotería primitiva, los almacene en una lista y los muestre por pantalla ordenados de menor a mayor."
   ]
  },
  {
   "cell_type": "code",
   "execution_count": 5,
   "metadata": {},
   "outputs": [
    {
     "name": "stdout",
     "output_type": "stream",
     "text": [
      "None\n",
      "[1, 2, 3, 4, 5, 6]\n"
     ]
    }
   ],
   "source": [
    "# Solución\n",
    "mis_numeros=[]\n",
    "#preguntar numeros\n",
    "for i in range(1,7,1):\n",
    "    numero=int(input(\"ingresa numero{i}\"))\n",
    "    mis_numeros.append(numero)\n",
    "#ordenar numeros\n",
    "print(mis_numeros.sort())\n",
    "#imprimir lista de numeros en orden ascendente\n",
    "print(mis_numeros)\n"
   ]
  },
  {
   "cell_type": "markdown",
   "metadata": {},
   "source": [
    "### Ejercicio 5\n",
    "Escribir un programa que almacene en una lista los números del 1 al 10 y los muestre por pantalla en orden inverso separados por comas."
   ]
  },
  {
   "cell_type": "code",
   "execution_count": 4,
   "metadata": {},
   "outputs": [
    {
     "name": "stdout",
     "output_type": "stream",
     "text": [
      "[11, 10, 9, 8, 7, 6, 5, 4, 3, 2, 1]\n"
     ]
    }
   ],
   "source": [
    "# Solución\n",
    "numeros=[]\n",
    "\n",
    "for i in range(1,11+1):\n",
    "    numeros.append(i)\n",
    "    \n",
    "numeros.sort(reverse=True)\n",
    "print(numeros)"
   ]
  },
  {
   "cell_type": "markdown",
   "metadata": {},
   "source": [
    "### Ejercicio 6\n",
    "Escribir un programa que almacene las asignaturas de un curso (por ejemplo Matemáticas, Física, Química, Historia y Lengua) en una lista, pregunte al usuario la nota que ha sacado en cada asignatura y elimine de la lista las asignaturas aprobadas. Al final el programa debe mostrar por pantalla las asignaturas que el usuario tiene que repetir."
   ]
  },
  {
   "cell_type": "code",
   "execution_count": null,
   "metadata": {},
   "outputs": [],
   "source": [
    "# Solución"
   ]
  },
  {
   "cell_type": "markdown",
   "metadata": {},
   "source": [
    "### Ejercicio 7\n",
    "Escribir un programa que almacene el abecedario en una lista, elimine de la lista las letras que ocupen posiciones múltiplos de 3, y muestre por pantalla la lista resultante."
   ]
  },
  {
   "cell_type": "code",
   "execution_count": null,
   "metadata": {},
   "outputs": [],
   "source": [
    "# Solución"
   ]
  },
  {
   "cell_type": "markdown",
   "metadata": {},
   "source": [
    "### Ejercicio 8\n",
    "Escribir un programa que pida al usuario una palabra y muestre por pantalla si es un palíndromo."
   ]
  },
  {
   "cell_type": "code",
   "execution_count": null,
   "metadata": {},
   "outputs": [],
   "source": [
    "# Solución"
   ]
  },
  {
   "cell_type": "markdown",
   "metadata": {},
   "source": [
    "### Ejercicio 9\n",
    "Escribir un programa que pida al usuario una palabra y muestre por pantalla el número de veces que contiene cada vocal."
   ]
  },
  {
   "cell_type": "code",
   "execution_count": null,
   "metadata": {},
   "outputs": [],
   "source": [
    "# Solución"
   ]
  },
  {
   "cell_type": "markdown",
   "metadata": {},
   "source": [
    "### Ejercicio 10\n",
    "Escribir un programa que almacene en una lista los siguientes precios, 50, 75, 46, 22, 80, 65, 8, y muestre por pantalla el menor y el mayor de los precios."
   ]
  },
  {
   "cell_type": "code",
   "execution_count": null,
   "metadata": {},
   "outputs": [],
   "source": [
    "# Solución"
   ]
  },
  {
   "cell_type": "markdown",
   "metadata": {},
   "source": [
    "### Ejercicio 11\n",
    "Escribir un programa que almacene los vectores (1,2,3) y (-1,0,2) en dos listas y muestre por pantalla su producto escalar."
   ]
  },
  {
   "cell_type": "code",
   "execution_count": null,
   "metadata": {},
   "outputs": [],
   "source": [
    "# Solución"
   ]
  },
  {
   "cell_type": "markdown",
   "metadata": {},
   "source": [
    "### Ejercicio 12\n",
    "Escribir un programa que almacene las matrices en una lista y muestre por pantalla su producto.\n",
    "Nota: Para representar matrices mediante listas usar listas anidadas, representando cada vector fila en una lista.  \n",
    "\n",
    "$$\\begin{equation}\n",
    "    \\begin{pmatrix}\n",
    "        a_{1,1} & a_{1,2}\\\\\n",
    "        a_{2,1} & a_{2,2}\n",
    "    \\end{pmatrix}\n",
    "    *\n",
    "    \\begin{pmatrix}\n",
    "        b_{1,1} & b_{1,2}\\\\\n",
    "        b_{2,1} & b_{2,2}\n",
    "    \\end{pmatrix}\n",
    "    =\n",
    "    \\begin{pmatrix}\n",
    "        a_{1,1}*b_{1,1} +a_{1,2}*b_{2,1} &  a_{1,1}*b_{1,2}+a_{1,2}*b_{2,2}\\\\\n",
    "        a_{2,1}*b_{1,1} + a_{2,2}*b_{2,1} &  a_{2,1}*b_{1,2} + a_{2,2}*b_{2,2}\n",
    "    \\end{pmatrix}\n",
    "\\end{equation}$$"
   ]
  },
  {
   "cell_type": "markdown",
   "metadata": {},
   "source": [
    "### Ejemplo\n",
    "$$\\begin{equation}\n",
    "    \\begin{pmatrix}\n",
    "        1 & 2\\\\\n",
    "        3 & 4\n",
    "    \\end{pmatrix}\n",
    "    *\n",
    "    \\begin{pmatrix}\n",
    "        1 & 1\\\\\n",
    "        0 & 2\n",
    "    \\end{pmatrix}\n",
    "    =\n",
    "    \\begin{pmatrix}\n",
    "        1*1 +2*0 &  1*1+2*2\\\\\n",
    "        3*1 + 4*0 &  3*1 + 4*2\n",
    "    \\end{pmatrix}\n",
    "    =\n",
    "    \\begin{pmatrix}\n",
    "        1 & 5\\\\\n",
    "        3 & 11\n",
    "    \\end{pmatrix}\n",
    "\\end{equation}$$"
   ]
  },
  {
   "cell_type": "code",
   "execution_count": null,
   "metadata": {},
   "outputs": [],
   "source": [
    "# Solución"
   ]
  },
  {
   "cell_type": "markdown",
   "metadata": {},
   "source": [
    "### Ejemplo 2\n",
    "$$\n",
    "A = \\left(\n",
    "  \\begin{array}{rrr}\n",
    "  1 & 2 & 3\\\\\n",
    "  4 & 5 & 6\n",
    "  \\end{array}\n",
    "  \\right)\n",
    "  \\quad  y\n",
    "  \\quad\n",
    "  B = \\left(\n",
    "  \\begin{array}{rr}\n",
    "  -1 & 0\\\\\n",
    "  0 & 1\\\\\n",
    "  1 & 1\n",
    "  \\end{array}\n",
    "  \\right)\n",
    "$$"
   ]
  },
  {
   "cell_type": "code",
   "execution_count": null,
   "metadata": {},
   "outputs": [],
   "source": [
    "# Solución"
   ]
  }
 ],
 "metadata": {
  "kernelspec": {
   "display_name": "Python 3.11.0 64-bit",
   "language": "python",
   "name": "python3"
  },
  "language_info": {
   "codemirror_mode": {
    "name": "ipython",
    "version": 3
   },
   "file_extension": ".py",
   "mimetype": "text/x-python",
   "name": "python",
   "nbconvert_exporter": "python",
   "pygments_lexer": "ipython3",
   "version": "3.11.0"
  },
  "orig_nbformat": 4,
  "vscode": {
   "interpreter": {
    "hash": "0b0b049f9f07c796a5db9b973cc3ef1a7f890e99374bb13bd3a985708b2ada45"
   }
  }
 },
 "nbformat": 4,
 "nbformat_minor": 2
}
