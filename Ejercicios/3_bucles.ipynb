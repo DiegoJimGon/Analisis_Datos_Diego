{
 "cells": [
  {
   "cell_type": "markdown",
   "metadata": {},
   "source": [
    "# Ejercicios: Estructuras iterativas\n",
    "\n"
   ]
  },
  {
   "cell_type": "markdown",
   "metadata": {},
   "source": [
    "### Ejercicio 1\n",
    "Calcular la media de los números pares e impares, sólo se ingresará diez números."
   ]
  },
  {
   "cell_type": "code",
   "execution_count": 1,
   "metadata": {},
   "outputs": [
    {
     "name": "stdout",
     "output_type": "stream",
     "text": [
      "no hay impares\n",
      "2.0\n"
     ]
    }
   ],
   "source": [
    "# Solución\n",
    "suma_pares=0\n",
    "suma_impares=0\n",
    "numero_de_impares=0\n",
    "numero_de_pares=0\n",
    " \n",
    "for expresion in range(1,11,1):\n",
    "    f = int(input(f\"ingresa el número {expresion}\"))\n",
    "   \n",
    "    if(f%2==0):\n",
    "        suma_pares=suma_pares+f\n",
    "        numero_de_pares=numero_de_pares+1\n",
    "       \n",
    "    if(f%2!=0):\n",
    "        suma_impares=suma_impares+f\n",
    "        numero_de_impares=numero_de_impares+1\n",
    "   \n",
    "if(numero_de_impares!=0):\n",
    "    media_impares=suma_impares/numero_de_impares\n",
    "    print(media_impares)\n",
    "else:\n",
    "    print(\"no hay impares\")\n",
    "       \n",
    "if(numero_de_pares!=0):\n",
    "    media_pares=suma_pares/numero_de_pares\n",
    "    print(media_pares)\n",
    "else:\n",
    "    print(\"no hay pares\")"
   ]
  },
  {
   "cell_type": "markdown",
   "metadata": {},
   "source": [
    "### Ejercicio 2\n",
    "Calcular la suma de los n primeros números."
   ]
  },
  {
   "cell_type": "code",
   "execution_count": 18,
   "metadata": {},
   "outputs": [
    {
     "name": "stdout",
     "output_type": "stream",
     "text": [
      "3\n"
     ]
    },
    {
     "data": {
      "text/plain": [
       "''"
      ]
     },
     "execution_count": 18,
     "metadata": {},
     "output_type": "execute_result"
    }
   ],
   "source": [
    "# Solución\n",
    "\n",
    "\n",
    "i=1\n",
    "suma=0\n",
    "posiciones_a_sumar=int(input(\"ingresar cantidad de primeros numeros a sumar\"))\n",
    "\n",
    "for n in range(0,5,1):\n",
    "    n=int(input(\"ingresa numero {n}\"))\n",
    "    while(i<=posiciones_a_sumar):    \n",
    "        suma=suma+n\n",
    "        i=i+1\n",
    "    \n",
    "print(suma)\n",
    "\n",
    "\"\"\"\"\"\""
   ]
  },
  {
   "cell_type": "code",
   "execution_count": 30,
   "metadata": {},
   "outputs": [
    {
     "ename": "ValueError",
     "evalue": "invalid literal for int() with base 10: ''",
     "output_type": "error",
     "traceback": [
      "\u001b[1;31m---------------------------------------------------------------------------\u001b[0m",
      "\u001b[1;31mValueError\u001b[0m                                Traceback (most recent call last)",
      "\u001b[1;32mc:\\Analisis_Datos_Diego\\Ejercicios\\3_bucles.ipynb Celda 6\u001b[0m in \u001b[0;36m<cell line: 2>\u001b[1;34m()\u001b[0m\n\u001b[0;32m      <a href='vscode-notebook-cell:/c%3A/Analisis_Datos_Diego/Ejercicios/3_bucles.ipynb#X54sZmlsZQ%3D%3D?line=1'>2</a>\u001b[0m \u001b[39mfor\u001b[39;00m i \u001b[39min\u001b[39;00m \u001b[39mrange\u001b[39m(\u001b[39m1\u001b[39m,\u001b[39m4\u001b[39m):\n\u001b[0;32m      <a href='vscode-notebook-cell:/c%3A/Analisis_Datos_Diego/Ejercicios/3_bucles.ipynb#X54sZmlsZQ%3D%3D?line=2'>3</a>\u001b[0m     \u001b[39mfor\u001b[39;00m j \u001b[39min\u001b[39;00m \u001b[39mrange\u001b[39m(\u001b[39m1\u001b[39m,\u001b[39m12\u001b[39m):\n\u001b[1;32m----> <a href='vscode-notebook-cell:/c%3A/Analisis_Datos_Diego/Ejercicios/3_bucles.ipynb#X54sZmlsZQ%3D%3D?line=3'>4</a>\u001b[0m         p \u001b[39m=\u001b[39m \u001b[39mint\u001b[39;49m(\u001b[39minput\u001b[39;49m(\u001b[39mf\u001b[39;49m\u001b[39m\"\u001b[39;49m\u001b[39mIngresa la población del estado: \u001b[39;49m\u001b[39m{\u001b[39;49;00mi\u001b[39m}\u001b[39;49;00m\u001b[39m ciudad: \u001b[39;49m\u001b[39m{\u001b[39;49;00mj\u001b[39m}\u001b[39;49;00m\u001b[39m\"\u001b[39;49m))\n\u001b[0;32m      <a href='vscode-notebook-cell:/c%3A/Analisis_Datos_Diego/Ejercicios/3_bucles.ipynb#X54sZmlsZQ%3D%3D?line=4'>5</a>\u001b[0m         \u001b[39mif\u001b[39;00m(p\u001b[39m>\u001b[39mmaxi):\n\u001b[0;32m      <a href='vscode-notebook-cell:/c%3A/Analisis_Datos_Diego/Ejercicios/3_bucles.ipynb#X54sZmlsZQ%3D%3D?line=5'>6</a>\u001b[0m             maxi\u001b[39m=\u001b[39mp\n",
      "\u001b[1;31mValueError\u001b[0m: invalid literal for int() with base 10: ''"
     ]
    }
   ],
   "source": [
    "maxi = 0\n",
    "for i in range(1,4):\n",
    "    for j in range(1,12):\n",
    "        p = int(input(f\"Ingresa la población del estado: {i} ciudad: {j}\"))\n",
    "        if(p>maxi):\n",
    "            maxi=p\n",
    "print(maxi)"
   ]
  },
  {
   "cell_type": "code",
   "execution_count": null,
   "metadata": {},
   "outputs": [],
   "source": []
  },
  {
   "cell_type": "code",
   "execution_count": null,
   "metadata": {},
   "outputs": [],
   "source": []
  },
  {
   "cell_type": "markdown",
   "metadata": {},
   "source": [
    "### Ejercicio 3\n",
    "Se quiere saber cuál es la ciudad con la población de más personas, son tres estados  con once ciudades, hacer un algoritmo que nos permita saber eso."
   ]
  },
  {
   "cell_type": "code",
   "execution_count": 34,
   "metadata": {},
   "outputs": [
    {
     "name": "stdout",
     "output_type": "stream",
     "text": [
      "la maxima poblacion de 3 estados (con 11 ciudades cada uno) es: 77\n"
     ]
    }
   ],
   "source": [
    "# Solución\n",
    "#for ciudad in range(0,12,1):\n",
    "#    c=int(input(\"ingresa poblacion {ciudad}\"))\n",
    "#    if()\n",
    "\n",
    "#33 entradas\n",
    "#A-1, A-2, ... A-11\n",
    "#B-1, B-2, ... B-11\n",
    "#C-1, C-2, ... C-11\n",
    "\n",
    "mayor_poblacion=0\n",
    "for estados in range(1,4):\n",
    "    for ciudades in range(1,12):\n",
    "        poblacion=int(input(f\"ingrese población: {estados} ciudad: {ciudades}\"))\n",
    "        if(poblacion>mayor_poblacion):\n",
    "            mayor_poblacion=poblacion\n",
    "\n",
    "print(f\"la máxima poblacion de 3 estados (con 11 ciudades cada uno) es: {mayor_poblacion}\")     \n",
    "\n",
    "    \n",
    "\n",
    "\n",
    "\n",
    "\n",
    "\n",
    "#ciudades=int(input(f\"ingresar ciudades{ciudades}\"))\n",
    "#for ciudades in range(1,33,1):\n",
    "#    estado=str(input(f\"ingresar ciudades{estados}\"))\n",
    "#    for estado1 in range(0,12,1):\n",
    "#       \n",
    "#    for estado2 in range(12,25,1):\n",
    "#        \n",
    "#        \n",
    "#    for estado3 in range(25,33,1):\n",
    "        "
   ]
  },
  {
   "cell_type": "code",
   "execution_count": null,
   "metadata": {},
   "outputs": [],
   "source": []
  },
  {
   "cell_type": "markdown",
   "metadata": {},
   "source": [
    "### Ejercicio 4\n",
    "Imprimir las tablas de multiplicar de los números del uno al nueve."
   ]
  },
  {
   "cell_type": "code",
   "execution_count": 35,
   "metadata": {},
   "outputs": [
    {
     "name": "stdout",
     "output_type": "stream",
     "text": [
      "20X1=20\n",
      "20X2=40\n",
      "20X3=60\n",
      "20X4=80\n",
      "20X5=100\n",
      "20X6=120\n",
      "20X7=140\n",
      "20X8=160\n",
      "20X9=180\n"
     ]
    },
    {
     "data": {
      "text/plain": [
       "'\\na=1\\nb=1\\nwhile(int(a)<=9 or int(b)<=9):\\n    x=a; x*=b;  print(\"x*=\", x)\\n    print(f\"{a}x{b}\") \\n    \\n    b=b+1\\n    if(b==9):\\n        a=a+1\\n    if(a==9):\\n        b=b+1\\n    \\n    \\n'"
      ]
     },
     "execution_count": 35,
     "metadata": {},
     "output_type": "execute_result"
    }
   ],
   "source": [
    "# Solución\n",
    "\n",
    "i=1\n",
    "n=int(input(\"ingresa numero a multiplicarr del  1 al 9\"))\n",
    "\n",
    "while(i<=9):\n",
    "    print(f\"{n}X{i}={n*i}\")\n",
    "    i=i+1\n",
    "\n",
    "\n",
    "\n",
    "'''\n",
    "Se usa los de asignación para este caso???\n",
    "a=int(input(\"ingrese numero a multiplicar del 1 al 9\"))\n",
    "b=[1,2,3,4,5,6,7,8,9]\n",
    "\n",
    "while(0>a and a<=9):\n",
    "    x=a; x*=list[b];  print(\"x*=\", x)  # 14\n",
    "    a=a+1\n",
    "\n",
    "'''\n",
    "\n",
    "'''\n",
    "fin=9\n",
    "while(0>n and n<=9):\n",
    "    print(f\"{n} X 1= {n*1}\")\n",
    "    print(f\"{n} X 2= {n*2}\")\n",
    "    print(f\"{n} X 3= {n*3}\")\n",
    "    print(f\"{n} X 4= {n*4}\")\n",
    "    print(f\"{n} X 5= {n*5}\")\n",
    "    print(f\"{n} X 6= {n*6}\")\n",
    "    print(f\"{n} X 7= {n*7}\")\n",
    "    print(f\"{n} X 8= {n*8}\")\n",
    "    print(f\"{n} X 9= {n*9}\")\n",
    "        if fin == 9 :\n",
    "        break\n",
    "        '''\n",
    "\n",
    "\n",
    "\"\"\"\n",
    "a=1\n",
    "b=1\n",
    "while(int(a)<=9 or int(b)<=9):\n",
    "    x=a; x*=b;  print(\"x*=\", x)\n",
    "    print(f\"{a}x{b}\") \n",
    "    \n",
    "    b=b+1\n",
    "    if(b==9):\n",
    "        a=a+1\n",
    "    if(a==9):\n",
    "        b=b+1\n",
    "    \n",
    "    \n",
    "\"\"\"\n",
    "\n"
   ]
  },
  {
   "cell_type": "code",
   "execution_count": null,
   "metadata": {},
   "outputs": [],
   "source": [
    "for i in rangw(1,10):\n",
    "    print(f\"TABLA DEL{i}\")\n",
    "    for j in range(1,11):\n",
    "        print(f\"{i} X {j]\")\n",
    "        cont+=1\n",
    "print(cont)\n",
    "            \n",
    "#90 salidas\n"
   ]
  },
  {
   "cell_type": "code",
   "execution_count": null,
   "metadata": {},
   "outputs": [],
   "source": []
  },
  {
   "cell_type": "markdown",
   "metadata": {},
   "source": [
    "### Ejercicio 5\n",
    "Calcular el factorial de un número."
   ]
  },
  {
   "cell_type": "code",
   "execution_count": 1,
   "metadata": {},
   "outputs": [
    {
     "name": "stdout",
     "output_type": "stream",
     "text": [
      "120\n"
     ]
    }
   ],
   "source": [
    "# Solución\n",
    "\n",
    "n=int(input(\"ingrese numero para sacar facorial\"))\n",
    "fact=1\n",
    "i=1\n",
    "while(i<=n):\n",
    "    fact=fact*i\n",
    "    i=i+1\n",
    "\n",
    "print(fact)\n",
    "    \n",
    "\n",
    "#n=int(input(\"ingrese numero para scar facorial\"))\n",
    "#for(n,1,1):\n",
    "#    fact=fact*i\n",
    "#print(f\"factorial de{n} es igual a {fact}\")\n"
   ]
  },
  {
   "cell_type": "markdown",
   "metadata": {},
   "source": [
    "### Ejercicio 6\n",
    "Hacer un algoritmo que nos diga si un número es primo."
   ]
  },
  {
   "cell_type": "code",
   "execution_count": null,
   "metadata": {},
   "outputs": [],
   "source": [
    "#solucion BIEN\n",
    "\"\"\" \n",
    "Entrada: un número\n",
    "Salida: es primo o no es primo\n",
    "\"\"\"\n",
    "# entrda\n",
    "n = int(input(\"introduce un número:\"))\n",
    "cont_div = 0\n",
    "# verificamos si es divisible entre 2,3, .. , hasta n-1\n",
    "for i in range(2,n):\n",
    "    if n%i == 0:\n",
    "        cont_div+=1\n",
    "# no es divisible entre sus antecesores\n",
    "if cont_div == 0:\n",
    "    print(f\"{n} es primo\")"
   ]
  },
  {
   "cell_type": "code",
   "execution_count": 11,
   "metadata": {},
   "outputs": [
    {
     "ename": "ZeroDivisionError",
     "evalue": "integer division or modulo by zero",
     "output_type": "error",
     "traceback": [
      "\u001b[1;31m---------------------------------------------------------------------------\u001b[0m",
      "\u001b[1;31mZeroDivisionError\u001b[0m                         Traceback (most recent call last)",
      "\u001b[1;32mc:\\Analisis_Datos_Diego\\Ejercicios\\3_bucles.ipynb Celda 18\u001b[0m in \u001b[0;36m<cell line: 10>\u001b[1;34m()\u001b[0m\n\u001b[0;32m      <a href='vscode-notebook-cell:/c%3A/Analisis_Datos_Diego/Ejercicios/3_bucles.ipynb#X23sZmlsZQ%3D%3D?line=8'>9</a>\u001b[0m cont\u001b[39m=\u001b[39m\u001b[39m0\u001b[39m\n\u001b[0;32m     <a href='vscode-notebook-cell:/c%3A/Analisis_Datos_Diego/Ejercicios/3_bucles.ipynb#X23sZmlsZQ%3D%3D?line=9'>10</a>\u001b[0m \u001b[39mfor\u001b[39;00m i \u001b[39min\u001b[39;00m \u001b[39mrange\u001b[39m(\u001b[39m0\u001b[39m,n\u001b[39m+\u001b[39m\u001b[39m1\u001b[39m):\n\u001b[1;32m---> <a href='vscode-notebook-cell:/c%3A/Analisis_Datos_Diego/Ejercicios/3_bucles.ipynb#X23sZmlsZQ%3D%3D?line=10'>11</a>\u001b[0m     \u001b[39mif\u001b[39;00m(n\u001b[39m%\u001b[39;49mi\u001b[39m==\u001b[39m\u001b[39m0\u001b[39m):\n\u001b[0;32m     <a href='vscode-notebook-cell:/c%3A/Analisis_Datos_Diego/Ejercicios/3_bucles.ipynb#X23sZmlsZQ%3D%3D?line=11'>12</a>\u001b[0m         cont\u001b[39m+\u001b[39m\u001b[39m=\u001b[39m\u001b[39m1\u001b[39m\n\u001b[0;32m     <a href='vscode-notebook-cell:/c%3A/Analisis_Datos_Diego/Ejercicios/3_bucles.ipynb#X23sZmlsZQ%3D%3D?line=12'>13</a>\u001b[0m \u001b[39mif\u001b[39;00m(cont\u001b[39m==\u001b[39m\u001b[39m2\u001b[39m):\n",
      "\u001b[1;31mZeroDivisionError\u001b[0m: integer division or modulo by zero"
     ]
    }
   ],
   "source": [
    "# Solución\n",
    "#Definimos los números primos como aquellos que solo se pueden dividir por sí mismos o por la unidad,\n",
    "#es decir, son números naturales mayores que 1 que tiene únicamente dos divisores positivos distintos: \n",
    "#él mismo y el 1.\n",
    "\n",
    "#intento 3\n",
    "\n",
    "#mi version mal porque no oma en cuenta el 1 para , ademas no cuenta el n para hacer el i modulo n=0 por lo que no podria cambiar el contador\n",
    "# MI EXPLICACION A LA SOLUCION 1 y el mismo numero se obvian entonces el contador empieza en \"2\" teoricamente\n",
    "#Entonces, si ya hay 2 obvias divisiones por las cuales el resultado es 0, una division mas que de 0 ya son 3, por lo que el numero no es primo\n",
    "# es por esto que el contador debe quedar en 0 pues al subir, contaria:\n",
    "# n//1=0  n%n=0   y n// otro numeor = 0\n",
    "n=int(input(\"ingrese numero para saber si es primo\"))\n",
    "cont=0\n",
    "for i in range(0,n+1):\n",
    "    if(n%i==0):\n",
    "        cont+=1\n",
    "if(cont==2):\n",
    "    print(f\"{n} es primo\")\n",
    "    print(cont)\n",
    "else:\n",
    "    print(f\"{n} no es primo\")\n",
    "    \n",
    "\n",
    "#ayuda cercana a mi ultima version BIEN\n",
    "#n=int(input(\"ingrese numero para saber si es primo\"))\n",
    "#cont=0\n",
    "#for i in range(2,n):\n",
    "#    if(n%i==0):\n",
    "#        cont+=1\n",
    "#if(cont==0):\n",
    "#    print(f\"{n} es primo\")\n",
    "#    print(cont)\n",
    "#else:\n",
    "#    print(f\"{n} no es primo\")\n",
    "    \n",
    "\n",
    "#intento 2\n",
    "#n=int(input(\"ingrese numero para saber si es primo\"))\n",
    "#i=1\n",
    "#while(i<=n):\n",
    "#    if(n%i==0 and n/n==1 ):\n",
    "#        i=i+1\n",
    "#    \n",
    "#    if(i>2):\n",
    "#        print(f\"{n} NO es primo\")\n",
    "#        break;\n",
    "#    else:\n",
    "#        if(i==2):\n",
    "#            print(f\"{n} SÍ numero primo\")\n",
    "\n",
    "\n",
    "\n",
    "#intento 1\n",
    "#n=int(input(\"ingrese numero para saber si es primo\"))\n",
    "\n",
    "#if(n//2!=0 or n//3!=0 or n//5!=0 or n//7!=0 or n//11!=0 and n/1==n and n/n==1):\n",
    "#        print(f\"{n} NO es un numero primo\")\n",
    "   \n",
    "#else:\n",
    "#    if(n//1==n and n//n==1 and n//2!=0 or n//3!=0 or n//5!=0 or n//7!=0 or n//11!=0 ):\n",
    "#        print(f\"{n} ES un numero primo\") "
   ]
  },
  {
   "cell_type": "markdown",
   "metadata": {},
   "source": [
    "### Ejercicio 7\n",
    "Hacer un algoritmo que nos imprima los números primos en el rango [2,N]."
   ]
  },
  {
   "cell_type": "code",
   "execution_count": null,
   "metadata": {},
   "outputs": [],
   "source": [
    "# Solución\n",
    "\n",
    "\"\"\" \n",
    "Entrada: un número\n",
    "Salida: numeros pirmos desde 2 hasta n\n",
    "\"\"\"\n",
    "# range [2,n]\n",
    "n = int(input(\"introduce un número:\"))\n",
    "print(\"[\",end=\"\")\n",
    "# recorre el rango [2,n]\n",
    "for j in range(2,n+1):\n",
    "    cont_div = 0\n",
    "    # verificamos si es divisible entre 2,3, .. , hasta n-1\n",
    "    for i in range(2,j):\n",
    "        if j%i == 0:\n",
    "            cont_div+=1\n",
    "    # no es divisible entre sus antecesores entonces es primo\n",
    "    if cont_div == 0:\n",
    "        print(j,end=\",\")\n",
    "print(\"\\b]\")\n",
    "    \n",
    "    \n",
    "    \n"
   ]
  },
  {
   "cell_type": "markdown",
   "metadata": {},
   "source": [
    "### Ejercicio 8\n",
    "Hacer un algoritmo que nos permita saber cuál es el número mayor y menor, se debe ingresar sólo veinte números."
   ]
  },
  {
   "cell_type": "code",
   "execution_count": 1,
   "metadata": {},
   "outputs": [
    {
     "name": "stdout",
     "output_type": "stream",
     "text": [
      "1 es MeNOR que 2\n",
      "4 es MeNOR que 5\n",
      "6 es MeNOR que 7\n",
      "9 es MaYOR que 4\n",
      "900 es MaYOR que 4\n",
      "5 es MeNOR que 6\n",
      "12 es MeNOR que 15\n",
      "15 es MaYOR que 12\n",
      "345 es MaYOR que 67\n",
      "66666 es MeNOR que 77777\n"
     ]
    }
   ],
   "source": [
    "# Solución MAL\n",
    "n=20\n",
    "\n",
    "for rango20num in range(1,11,1):\n",
    "    a=int(input(\"ingresar numero{range20num}\"))\n",
    "    b=int(input(\"ingresar o tro numero{range20num}\"))\n",
    "    \n",
    "    if(a>b and b<a):\n",
    "        print(f\"{a} es MaYOR que {b}\")\n",
    "    else:\n",
    "        print(f\"{a} es MeNOR que {b}\")\n",
    "        \n",
    "    \n",
    "____________\n",
    "\n",
    "    \n",
    "    \n",
    "\n",
    "\n",
    "\n",
    "\n",
    "        \n",
    "    \"\"\"    \n",
    "    a=print(int(input(f\"ingresar numero\")))\n",
    "    b=int(input(f\"ingresar numero\"))\n",
    "    \n",
    "    \n",
    "    \n",
    "    \n",
    "    \n",
    "    \n",
    "    \n",
    "    \n",
    "    \n",
    "    \n",
    "    \n",
    "    \n",
    "    c=int(input(f\"ingresar numero\"))\n",
    "    d=int(input(f\"ingresar numero\"))\n",
    "    \n",
    "    e=int(input(f\"ingresar numero\"))\n",
    "    f=int(input(f\"ingresar numero\"))\n",
    "    \n",
    "    g=int(input(f\"ingresar numero\"))\n",
    "    h=int(input(f\"ingresar numero\"))\n",
    "    \n",
    "    i=int(input(f\"ingresar numero\"))\n",
    "    j=int(input(f\"ingresar numero\"))\n",
    "    k=int(input(f\"ingresar numero\"))\n",
    "    l=int(input(f\"ingresar numero\"))\n",
    "    m=int(input(f\"ingresar numero\"))\n",
    "    n=int(input(f\"ingresar numero\"))\n",
    "    o=int(input(f\"ingresar numero\"))\n",
    "    p=int(input(f\"ingresar numero\"))\n",
    "    q=int(input(f\"ingresar numero\"))\n",
    "    r=int(input(f\"ingresar numero\"))\n",
    "    s=int(input(f\"ingresar numero\"))\n",
    "    t=int(input(f\"ingresar numero\"))\n",
    "    u=int(input(f\"ingresar numero\"))\n",
    "    \n",
    "    \n",
    "    i=i+1\n",
    "        \n",
    "while(i<=n):\n",
    "\"\"\""
   ]
  },
  {
   "cell_type": "code",
   "execution_count": null,
   "metadata": {},
   "outputs": [],
   "source": [
    "### Ejercicio 8\n",
    "#Hacer un algoritmo que nos permita saber cuál es el número mayor y menor, se debe ingresar sólo veinte números.\n",
    "##\n",
    "\n",
    "\"\"\" \n",
    "Entrada: 20 números\n",
    "Salida: El mayor\n",
    "\"\"\"\n",
    "# la cantida de números\n",
    "n = 20\n",
    "for i in range(n):\n",
    "    dato = int(input(f\"Ingresa el {i+1}° número\"))\n",
    "    if i == 0:\n",
    "        maximo = dato\n",
    "        minimo = dato\n",
    "    if dato>maximo:\n",
    "        maximo = dato\n",
    "    if dato<minimo:\n",
    "        minimo = dato\n",
    "print(f\"El número maximo = {maximo}, el minimo = {minimo}\")"
   ]
  },
  {
   "cell_type": "markdown",
   "metadata": {},
   "source": [
    "### Ejercicio 9\n",
    "Hacer un algoritmo para calcular la serie de Fibonacci."
   ]
  },
  {
   "cell_type": "code",
   "execution_count": null,
   "metadata": {},
   "outputs": [],
   "source": [
    "# Solución\n",
    "\"\"\"\n",
    "Entrada: posición de la sucesion de fibonacci.\n",
    "Salida: el valor de la posición, empezando con la posición 0\n",
    "Ejemplo: [0,1,1,2,3,5,8,13,21,34,55]\n",
    "si la posición es 0, valor = 0\n",
    "si la posición es 6, valor = 8\n",
    "\"\"\"\n",
    "n = int(input(\"ingresa la posición: \"))\n",
    "# casos base\n",
    "if n == 0:\n",
    "    # print(\"0\")\n",
    "    valor=0\n",
    "elif n == 1:\n",
    "    # print(\"0,1\")\n",
    "    valor=1\n",
    "# otro caso\n",
    "else:\n",
    "    # print(\"0,1\",end=\",\")\n",
    "    x1 = 0\n",
    "    x2 = 1\n",
    "    for i in range(2,n+1):\n",
    "        valor = x1 + x2\n",
    "        # print(valor,end=\",\")\n",
    "        x1 = x2\n",
    "        x2 = valor\n",
    "# print(\"\\b\",end=\"\")\n",
    "print(valor)\n",
    "\n",
    "\n",
    "\n",
    "\n",
    "\n",
    "\n",
    "\n",
    "\n",
    "\n",
    "\n",
    "\n",
    "\n",
    "\n",
    "\n"
   ]
  },
  {
   "cell_type": "markdown",
   "metadata": {},
   "source": [
    "### Ejercicio 10\n",
    "Hacer un algoritmo para conseguir el M.C.D de un número por medio del algoritmo de Euclides."
   ]
  },
  {
   "cell_type": "code",
   "execution_count": null,
   "metadata": {},
   "outputs": [],
   "source": [
    "# Solución\n",
    "#Para calcular el máximo común divisor se multiplican los factores primos que sean comunes a los números, pero con el menor exponente\n",
    "#con el que se encuentren. En este caso los factores primos comunes son y . El menor exponente con el que aparecen estos factores es uno.\n",
    "\n",
    "\"\"\"\n",
    "Entrada: 2 números para conocer su M.C.D\n",
    "Salida: M.C.D de los dos núermos , \"El M.C.D de 77 y 1568 es = 7\"\n",
    "\"\"\"\n",
    "n1 = int(input(\"Introduce el primer número\"))\n",
    "n2 = int(input(\"Introduce el segundo número\"))\n",
    "\n",
    "# verifica cual de los dos es mayor, para dividier el mayor entre el menor\n",
    "if n1>n2:\n",
    "    # n1 será el dividendo \n",
    "    dividendo = n1\n",
    "    # n2 será el divisor\n",
    "    divisor = n2\n",
    "else: \n",
    "    # n2 será el dividendo \n",
    "    dividendo = n2\n",
    "    # n1 será el divisor\n",
    "    divisor = n1\n",
    "\n",
    "# se utiliza do while para hacer por lo menos una vez la división\n",
    "while True:\n",
    "    # dividimos y recuperamos el reciduo\n",
    "    resto = dividendo % divisor\n",
    "    # si el reciduo es cero, el maximo comun divisor es el ultimo divisor\n",
    "    if resto == 0:\n",
    "        mcd = divisor\n",
    "        break\n",
    "    # si no es cero, dividimos el divisor entre el reciduo\n",
    "    else:\n",
    "        dividendo = divisor\n",
    "        divisor = resto\n",
    "print(f\"El M.C.D de {n1} y {n2} es = {mcd}\")"
   ]
  }
 ],
 "metadata": {
  "kernelspec": {
   "display_name": "Python 3.10.4 64-bit",
   "language": "python",
   "name": "python3"
  },
  "language_info": {
   "codemirror_mode": {
    "name": "ipython",
    "version": 3
   },
   "file_extension": ".py",
   "mimetype": "text/x-python",
   "name": "python",
   "nbconvert_exporter": "python",
   "pygments_lexer": "ipython3",
   "version": "3.10.4"
  },
  "orig_nbformat": 4,
  "vscode": {
   "interpreter": {
    "hash": "1b14cc28e908b3e60405afee52de7726ef4b45933adff97ba011d02847356674"
   }
  }
 },
 "nbformat": 4,
 "nbformat_minor": 2
}
