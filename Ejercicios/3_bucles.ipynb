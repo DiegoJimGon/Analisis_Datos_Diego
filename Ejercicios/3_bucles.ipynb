{
 "cells": [
  {
   "cell_type": "markdown",
   "metadata": {},
   "source": [
    "# Ejercicios: Estructuras iterativas\n",
    "\n"
   ]
  },
  {
   "cell_type": "markdown",
   "metadata": {},
   "source": [
    "### Ejercicio 1\n",
    "Calcular la media de los números pares e impares, sólo se ingresará diez números."
   ]
  },
  {
   "cell_type": "code",
   "execution_count": 1,
   "metadata": {},
   "outputs": [
    {
     "name": "stdout",
     "output_type": "stream",
     "text": [
      "no hay impares\n",
      "2.0\n"
     ]
    }
   ],
   "source": [
    "# Solución\n",
    "suma_pares=0\n",
    "suma_impares=0\n",
    "numero_de_impares=0\n",
    "numero_de_pares=0\n",
    " \n",
    "for expresion in range(1,11,1):\n",
    "    f = int(input(f\"ingresa el número {expresion}\"))\n",
    "   \n",
    "    if(f%2==0):\n",
    "        suma_pares=suma_pares+f\n",
    "        numero_de_pares=numero_de_pares+1\n",
    "       \n",
    "    if(f%2!=0):\n",
    "        suma_impares=suma_impares+f\n",
    "        numero_de_impares=numero_de_impares+1\n",
    "   \n",
    "if(numero_de_impares!=0):\n",
    "    media_impares=suma_impares/numero_de_impares\n",
    "    print(media_impares)\n",
    "else:\n",
    "    print(\"no hay impares\")\n",
    "       \n",
    "if(numero_de_pares!=0):\n",
    "    media_pares=suma_pares/numero_de_pares\n",
    "    print(media_pares)\n",
    "else:\n",
    "    print(\"no hay pares\")"
   ]
  },
  {
   "cell_type": "markdown",
   "metadata": {},
   "source": [
    "### Ejercicio 2\n",
    "Calcular la suma de los n primeros números."
   ]
  },
  {
   "cell_type": "code",
   "execution_count": null,
   "metadata": {},
   "outputs": [],
   "source": [
    "# Solución\n",
    "\n",
    "suma=0\n",
    "\n",
    "\n",
    "for(0,n,1):\n",
    "    \n",
    "suma=suma+"
   ]
  },
  {
   "cell_type": "markdown",
   "metadata": {},
   "source": [
    "### Ejercicio 3\n",
    "Se quiere saber cuál es la ciudad con la población de más personas, son tres estados  con once ciudades, hacer un algoritmo que nos permita saber eso."
   ]
  },
  {
   "cell_type": "code",
   "execution_count": null,
   "metadata": {},
   "outputs": [],
   "source": [
    "# Solución\n",
    "\n",
    "a=int(input(\"ingresa poblacion {ciudad}\"))\n",
    "b=int(input(\"ingresa poblacion {ciudad}\"))\n",
    "c=int(input(\"ingresa poblacion {ciudad}\"))\n",
    "d=int(input(\"ingresa poblacion {ciudad}\"))\n",
    "e=int(input(\"ingresa poblacion {ciudad}\"))\n",
    "f=int(input(\"ingresa poblacion {ciudad}\"))\n",
    "g=int(input(\"ingresa poblacion {ciudad}\"))\n",
    "h=int(input(\"ingresa poblacion {ciudad}\"))\n",
    "i=int(input(\"ingresa poblacion {ciudad}\"))\n",
    "j=int(input(\"ingresa poblacion {ciudad}\"))\n",
    "\n",
    "for ciudad in range(0,11,1):\n",
    "    c=int(input(\"ingresa poblacion {ciudad}\"))\n",
    "    if()"
   ]
  },
  {
   "cell_type": "markdown",
   "metadata": {},
   "source": [
    "### Ejercicio 4\n",
    "Imprimir las tablas de multiplicar de los números del uno al nueve."
   ]
  },
  {
   "cell_type": "code",
   "execution_count": 7,
   "metadata": {},
   "outputs": [
    {
     "data": {
      "text/plain": [
       "'\\na=1\\nb=1\\nwhile(int(a)<=9 or int(b)<=9):\\n    x=a; x*=b;  print(\"x*=\", x)\\n    print(f\"{a}x{b}\") \\n    \\n    b=b+1\\n    if(b==9):\\n        a=a+1\\n    if(a==9):\\n        b=b+1\\n    \\n    \\n'"
      ]
     },
     "execution_count": 7,
     "metadata": {},
     "output_type": "execute_result"
    }
   ],
   "source": [
    "# Solución\n",
    "\n",
    "\n",
    "\"\"\"\n",
    "a=int(input(\"ingrese numero a multiplicar del 1 al 9\"))\n",
    "b=[1,2,3,4,5,6,7,8,9]\n",
    "\n",
    "while(0>a and a<=9):\n",
    "    x=a; x*=list[b];  print(\"x*=\", x)  # 14\n",
    "    a=a+1\n",
    "\"\"\"\n",
    "\n",
    "\"\"\"\n",
    "fin=9\n",
    "while(0>n and n<=9):\n",
    "    print(f\"{n} X 1= {n*1}\")\n",
    "    print(f\"{n} X 2= {n*2}\")\n",
    "    print(f\"{n} X 3= {n*3}\")\n",
    "    print(f\"{n} X 4= {n*4}\")\n",
    "    print(f\"{n} X 5= {n*5}\")\n",
    "    print(f\"{n} X 6= {n*6}\")\n",
    "    print(f\"{n} X 7= {n*7}\")\n",
    "    print(f\"{n} X 8= {n*8}\")\n",
    "    print(f\"{n} X 9= {n*9}\")\n",
    "        if fin == 9 :\n",
    "        break\n",
    "\"\"\"\n",
    "\n",
    "\"\"\"\n",
    "a=1\n",
    "b=1\n",
    "while(int(a)<=9 or int(b)<=9):\n",
    "    x=a; x*=b;  print(\"x*=\", x)\n",
    "    print(f\"{a}x{b}\") \n",
    "    \n",
    "    b=b+1\n",
    "    if(b==9):\n",
    "        a=a+1\n",
    "    if(a==9):\n",
    "        b=b+1\n",
    "    \n",
    "    \n",
    "\"\"\"\n",
    "\n"
   ]
  },
  {
   "cell_type": "markdown",
   "metadata": {},
   "source": [
    "### Ejercicio 5\n",
    "Calcular el factorial de un número."
   ]
  },
  {
   "cell_type": "code",
   "execution_count": 14,
   "metadata": {},
   "outputs": [
    {
     "name": "stdout",
     "output_type": "stream",
     "text": [
      "3628800\n"
     ]
    }
   ],
   "source": [
    "# Solución\n",
    "\n",
    "n=int(input(\"ingrese numero para scar facorial\"))\n",
    "fact=1\n",
    "i=1\n",
    "while(i<=n):\n",
    "    fact=fact*i\n",
    "    i=i+1\n",
    "\n",
    "print(fact)\n",
    "    \n",
    "\n",
    "#n=int(input(\"ingrese numero para scar facorial\"))\n",
    "#for(n,1,1):\n",
    "#    fact=fact*i\n",
    "#print(f\"factorial de{n} es igual a {fact}\")\n"
   ]
  },
  {
   "cell_type": "markdown",
   "metadata": {},
   "source": [
    "### Ejercicio 6\n",
    "Hacer un algoritmo que nos diga si un número es primo."
   ]
  },
  {
   "cell_type": "code",
   "execution_count": 38,
   "metadata": {},
   "outputs": [
    {
     "ename": "SyntaxError",
     "evalue": "invalid syntax. Perhaps you forgot a comma? (1252030588.py, line 8)",
     "output_type": "error",
     "traceback": [
      "\u001b[1;36m  Cell \u001b[1;32mIn [38], line 8\u001b[1;36m\u001b[0m\n\u001b[1;33m    if(n/1==n and n/n==1  not n%2==0 not n%3==0 not n%5==0 not n%7==0 not n%11==0) :\u001b[0m\n\u001b[1;37m       ^\u001b[0m\n\u001b[1;31mSyntaxError\u001b[0m\u001b[1;31m:\u001b[0m invalid syntax. Perhaps you forgot a comma?\n"
     ]
    }
   ],
   "source": [
    "# Solución\n",
    "#Definimos los números primos como aquellos que solo se pueden dividir por sí mismos o por la unidad,\n",
    "#es decir, son números naturales mayores que 1 que tiene únicamente dos divisores positivos distintos: \n",
    "#él mismo y el 1.\n",
    "\n",
    "n=int(input(\"ingrese numero para saber si es primo\"))\n",
    "\n",
    "if(n/1==n and n/n==1  ):\n",
    "    print(f\"{n} ES un numero primo\") \n",
    "else:\n",
    "    print(f\"{n} NO es un numero primo\")\n",
    "    \n",
    "    "
   ]
  },
  {
   "cell_type": "markdown",
   "metadata": {},
   "source": [
    "### Ejercicio 7\n",
    "Hacer un algoritmo que nos imprima los números primos en el rango [2,N]."
   ]
  },
  {
   "cell_type": "code",
   "execution_count": null,
   "metadata": {},
   "outputs": [],
   "source": [
    "# Solución"
   ]
  },
  {
   "cell_type": "markdown",
   "metadata": {},
   "source": [
    "### Ejercicio 8\n",
    "Hacer un algoritmo que nos permita saber cuál es el número mayor y menor, se debe ingresar sólo veinte números."
   ]
  },
  {
   "cell_type": "code",
   "execution_count": null,
   "metadata": {},
   "outputs": [],
   "source": [
    "# Solución"
   ]
  },
  {
   "cell_type": "markdown",
   "metadata": {},
   "source": [
    "### Ejercicio 9\n",
    "Hacer un algoritmo para calcular la serie de Fibonacci."
   ]
  },
  {
   "cell_type": "code",
   "execution_count": null,
   "metadata": {},
   "outputs": [],
   "source": [
    "# Solución"
   ]
  },
  {
   "cell_type": "markdown",
   "metadata": {},
   "source": [
    "### Ejercicio 10\n",
    "Hacer un algoritmo para conseguir el M.C.D de un número por medio del algoritmo de Euclides."
   ]
  },
  {
   "cell_type": "code",
   "execution_count": null,
   "metadata": {},
   "outputs": [],
   "source": [
    "# Solución"
   ]
  }
 ],
 "metadata": {
  "kernelspec": {
   "display_name": "Python 3.10.4 64-bit",
   "language": "python",
   "name": "python3"
  },
  "language_info": {
   "codemirror_mode": {
    "name": "ipython",
    "version": 3
   },
   "file_extension": ".py",
   "mimetype": "text/x-python",
   "name": "python",
   "nbconvert_exporter": "python",
   "pygments_lexer": "ipython3",
   "version": "3.10.4"
  },
  "orig_nbformat": 4,
  "vscode": {
   "interpreter": {
    "hash": "1b14cc28e908b3e60405afee52de7726ef4b45933adff97ba011d02847356674"
   }
  }
 },
 "nbformat": 4,
 "nbformat_minor": 2
}
