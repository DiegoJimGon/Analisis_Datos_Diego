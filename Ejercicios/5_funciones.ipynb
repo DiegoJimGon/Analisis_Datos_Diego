{
 "cells": [
  {
   "cell_type": "markdown",
   "metadata": {},
   "source": [
    "# Ejercicios Funciones"
   ]
  },
  {
   "cell_type": "markdown",
   "metadata": {},
   "source": [
    "## Ejercicio 1\n",
    "Escribir una función que muestre por pantalla el saludo ¡Hola amiga! cada vez que se la invoque."
   ]
  },
  {
   "cell_type": "code",
   "execution_count": null,
   "metadata": {},
   "outputs": [],
   "source": [
    "# Solución\n",
    "def saludar():\n",
    "    print(\"!Hola Amiga\")\n",
    "    \n",
    "\n",
    "print(saludar())"
   ]
  },
  {
   "cell_type": "markdown",
   "metadata": {},
   "source": [
    "## Ejercicio 2\n",
    "Escribir una función a la que se le pase una cadena <span style=\"color:#66D9EF\">nombre</span> y muestre por pantalla el saludo ¡hola <span style=\"color:#66D9EF\">nombre</span>!."
   ]
  },
  {
   "cell_type": "code",
   "execution_count": null,
   "metadata": {},
   "outputs": [],
   "source": [
    "# Solución\n",
    "def saludar_presonalizado():\n",
    "    x=input(\"Ingresa nombre\")\n",
    "    print(f\"Hola, {x}\")\n",
    "    \n",
    "print(saludar_presonalizado())"
   ]
  },
  {
   "cell_type": "code",
   "execution_count": null,
   "metadata": {},
   "outputs": [],
   "source": []
  },
  {
   "cell_type": "markdown",
   "metadata": {},
   "source": [
    "## Ejercicio 3\n",
    "Escribir una función que reciba un número entero positivo y devuelva su factorial."
   ]
  },
  {
   "cell_type": "code",
   "execution_count": null,
   "metadata": {},
   "outputs": [],
   "source": [
    "# Solución\n",
    "def factorial(n):\n",
    "    #n=int(input(\"ingrese numero positivo para sacar facorial\"))\n",
    "    fact=1\n",
    "    i=1\n",
    "    while(i<=n):\n",
    "        fact=fact*i\n",
    "        i=i+1\n",
    "    return fact\n",
    "\n",
    "print(factorial(10))\n",
    "    \n"
   ]
  },
  {
   "cell_type": "markdown",
   "metadata": {},
   "source": [
    "## Ejercicio 4\n",
    "Escribir una función que calcule el total de una factura tras aplicarle el IVA. La función debe recibir la cantidad sin IVA y el porcentaje de IVA a aplicar, y devolver el total de la factura. Si se invoca la función sin pasarle el porcentaje de IVA, deberá aplicar un 21%."
   ]
  },
  {
   "cell_type": "code",
   "execution_count": null,
   "metadata": {},
   "outputs": [],
   "source": [
    "# Solución\n",
    "\n",
    "def producto_IVA(coste,iva=0.21):\n",
    "    \n",
    "    if(iva>1):\n",
    "        iva=iva*0.01\n",
    "    total_con_iva=coste+(iva*coste)\n",
    "    return total_con_iva\n",
    "\n",
    "print(producto_IVA(100,0.12))\n",
    "print(producto_IVA(100,0.12))   \n",
    "#print(producto_IVA()) "
   ]
  },
  {
   "cell_type": "markdown",
   "metadata": {},
   "source": [
    "## Ejercicio 5\n",
    "Escribir una función que calcule el área de un círculo y otra que calcule el volumen de un cilindro usando la primera función."
   ]
  },
  {
   "cell_type": "code",
   "execution_count": null,
   "metadata": {},
   "outputs": [],
   "source": [
    "# Solución\n",
    "\n",
    "def area_circulo(radio,pi=3.1416):\n",
    "    #sacar area de circulo pi x r cuadrado\n",
    "    area=pi*radio**2\n",
    "    return area\n",
    "    \n",
    "print(area_circulo(4))\n",
    "\n",
    "\n"
   ]
  },
  {
   "cell_type": "code",
   "execution_count": null,
   "metadata": {},
   "outputs": [],
   "source": [
    "#volumen de cilindro π r² h, \n",
    "\n",
    "def vol_cilindro(area_circulo,altura,pi=3.1416):\n",
    "    \n",
    "   \n",
    "   \n",
    "    volumen_de_cilindro=area_circulo*altura\n",
    "    return volumen_de_cilindro\n",
    "\n",
    "print(vol_cilindro(area_circulo(4),5))"
   ]
  },
  {
   "cell_type": "markdown",
   "metadata": {},
   "source": [
    "## Ejercicio 6\n",
    "Escribir una función que reciba una muestra de números y devuelva su media. ( usar argumentos de longitud variable)"
   ]
  },
  {
   "cell_type": "code",
   "execution_count": null,
   "metadata": {},
   "outputs": [],
   "source": [
    "# Solución\n",
    "def media_de_numeros(*numeros):\n",
    "    suma=0\n",
    "    #numeros=[]\n",
    "    \n",
    "    cont=0\n",
    "    media=0\n",
    "    for i in numeros :\n",
    "        suma=suma+i\n",
    "        cont=cont+1\n",
    "        media=suma/cont\n",
    "        print(numeros)\n",
    "    return media\n",
    "print(f\" media de los numeros es:{media_de_numeros(5,5,5,5,30)}\")\n",
    "    "
   ]
  },
  {
   "cell_type": "markdown",
   "metadata": {},
   "source": [
    "## Ejercicio 7\n",
    "Escribir una función que reciba una muestra de números y devuelva otra lista con sus cuadrados. (usar argumentos de longitud variable)"
   ]
  },
  {
   "cell_type": "code",
   "execution_count": 11,
   "metadata": {},
   "outputs": [
    {
     "name": "stdout",
     "output_type": "stream",
     "text": [
      "[4, 9, 25, 36, 36, 36, 64, 81, 10000]\n",
      "[4, 9, 25, 36, 36, 36, 64, 81, 10000]\n",
      "[4, 9, 25, 36, 36, 36, 64, 81, 10000]\n"
     ]
    }
   ],
   "source": [
    "# Solución\n",
    "def cuadrados_de_numeros(*numeros):\n",
    "    numeros_cuadrados=[]\n",
    "    for n in numeros :\n",
    "        numeros_cuadrados.append(n**2)\n",
    "    print(numeros_cuadrados)\n",
    "    #for x in numeros_cuadrados:\n",
    "    #    x=x**2\n",
    "    #print(numeros_cuadrados)\n",
    "        \n",
    "    #for i in numeros_cuadrados:\n",
    "    #    i=i**2\n",
    "            \n",
    "    print(numeros_cuadrados)\n",
    "    return numeros_cuadrados\n",
    "\n",
    "print(cuadrados_de_numeros(2,3,5,6,6,6,8,9,100))\n",
    "    "
   ]
  },
  {
   "cell_type": "code",
   "execution_count": null,
   "metadata": {},
   "outputs": [],
   "source": [
    "# Solución prueba\n",
    "\n",
    "numeros_cuadrados=[2,2]\n",
    "for i in numeros_cuadrados:\n",
    "    numeros_cuadrados.append[i]\n",
    "    \n",
    "    \n",
    "print(numeros_cuadrados)\n",
    "print(cuadrados_de_numeros(5,5,6,7,2))"
   ]
  },
  {
   "cell_type": "code",
   "execution_count": null,
   "metadata": {},
   "outputs": [],
   "source": []
  },
  {
   "cell_type": "markdown",
   "metadata": {},
   "source": [
    "## Ejercicio 8\n",
    "Escribir una función que calcule el máximo común divisor de dos números y otra que calcule el mínimo común múltiplo."
   ]
  },
  {
   "cell_type": "code",
   "execution_count": 14,
   "metadata": {},
   "outputs": [
    {
     "name": "stdout",
     "output_type": "stream",
     "text": [
      "[]\n",
      "[]\n"
     ]
    },
    {
     "ename": "TypeError",
     "evalue": "'builtin_function_or_method' object is not subscriptable",
     "output_type": "error",
     "traceback": [
      "\u001b[1;31m---------------------------------------------------------------------------\u001b[0m",
      "\u001b[1;31mTypeError\u001b[0m                                 Traceback (most recent call last)",
      "Cell \u001b[1;32mIn [14], line 30\u001b[0m\n\u001b[0;32m     27\u001b[0m     \u001b[39mprint\u001b[39m(min_com_mul)\n\u001b[0;32m     28\u001b[0m     \u001b[39mreturn\u001b[39;00m min_com_mul\n\u001b[1;32m---> 30\u001b[0m \u001b[39mprint\u001b[39m(mcm(\u001b[39m16\u001b[39;49m))\n",
      "Cell \u001b[1;32mIn [14], line 18\u001b[0m, in \u001b[0;36mmcm\u001b[1;34m(n)\u001b[0m\n\u001b[0;32m     16\u001b[0m         \u001b[39mif\u001b[39;00m j\u001b[39m%\u001b[39mi \u001b[39m==\u001b[39m \u001b[39m0\u001b[39m:\n\u001b[0;32m     17\u001b[0m             cont_div\u001b[39m+\u001b[39m\u001b[39m=\u001b[39m\u001b[39m1\u001b[39m\n\u001b[1;32m---> 18\u001b[0m             lista_de_primos\u001b[39m.\u001b[39;49mappend[i]\n\u001b[0;32m     19\u001b[0m     \u001b[39mprint\u001b[39m(lista_de_primos)\n\u001b[0;32m     22\u001b[0m \u001b[39m# no es divisible entre sus antecesores entonces es primo\u001b[39;00m\n\u001b[0;32m     23\u001b[0m  \u001b[39m#   if cont_div == 0:\u001b[39;00m\n\u001b[0;32m     24\u001b[0m  \u001b[39m#       print(j,end=\",\")\u001b[39;00m\n",
      "\u001b[1;31mTypeError\u001b[0m: 'builtin_function_or_method' object is not subscriptable"
     ]
    }
   ],
   "source": [
    "# Solución\n",
    "\n",
    "#MAXIMO COMUN DIVISOR\n",
    "\n",
    "############MINIMO COMUN MULTIPLO\n",
    "#sacar lista de numeros primos\n",
    "\n",
    "def mcm(n):\n",
    "    min_com_mul=0\n",
    "    lista_de_primos=[]\n",
    "    for j in range(2,n+1):\n",
    "        cont_div = 0\n",
    "        \n",
    "        # verificamos si es divisible entre 2,3, .. , hasta n-1\n",
    "        for i in range(2,j):\n",
    "            if j%i == 0:\n",
    "                cont_div+=1\n",
    "                lista_de_primos.append[i]\n",
    "        print(lista_de_primos)\n",
    "                \n",
    "            \n",
    "    # no es divisible entre sus antecesores entonces es primo\n",
    "     #   if cont_div == 0:\n",
    "     #       print(j,end=\",\")\n",
    "    for x in lista_de_primos:\n",
    "        min_com_mul= min_com_mul*x\n",
    "    print(min_com_mul)\n",
    "    return min_com_mul\n",
    "\n",
    "print(mcm(16))"
   ]
  },
  {
   "cell_type": "markdown",
   "metadata": {},
   "source": [
    "## Ejercicio 9\n",
    "Escribir una función que convierta un número decimal en binario y otra que convierta un número binario en decimal."
   ]
  },
  {
   "cell_type": "code",
   "execution_count": null,
   "metadata": {},
   "outputs": [],
   "source": [
    "# Solución"
   ]
  },
  {
   "cell_type": "markdown",
   "metadata": {},
   "source": [
    "## Ejercicio 10\n",
    "Escribir un programa que reciba una cadena de caracteres y devuelva un diccionario con cada palabra que contiene y su frecuencia. Escribir otra función que reciba el diccionario generado con la función anterior y devuelva una tupla con la palabra más repetida y su frecuencia."
   ]
  },
  {
   "cell_type": "code",
   "execution_count": null,
   "metadata": {},
   "outputs": [],
   "source": [
    "# Solución"
   ]
  }
 ],
 "metadata": {
  "kernelspec": {
   "display_name": "Python 3.10.4 64-bit",
   "language": "python",
   "name": "python3"
  },
  "language_info": {
   "codemirror_mode": {
    "name": "ipython",
    "version": 3
   },
   "file_extension": ".py",
   "mimetype": "text/x-python",
   "name": "python",
   "nbconvert_exporter": "python",
   "pygments_lexer": "ipython3",
   "version": "3.10.4"
  },
  "orig_nbformat": 4,
  "vscode": {
   "interpreter": {
    "hash": "1b14cc28e908b3e60405afee52de7726ef4b45933adff97ba011d02847356674"
   }
  }
 },
 "nbformat": 4,
 "nbformat_minor": 2
}
