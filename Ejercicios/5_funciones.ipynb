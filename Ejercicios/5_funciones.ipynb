{
 "cells": [
  {
   "cell_type": "markdown",
   "metadata": {},
   "source": [
    "# Ejercicios Funciones"
   ]
  },
  {
   "cell_type": "markdown",
   "metadata": {},
   "source": [
    "## Ejercicio 1\n",
    "Escribir una función que muestre por pantalla el saludo ¡Hola amiga! cada vez que se la invoque."
   ]
  },
  {
   "cell_type": "code",
   "execution_count": null,
   "metadata": {},
   "outputs": [],
   "source": [
    "# Solución\n",
    "def saludar():\n",
    "    print(\"!Hola Amiga\")\n",
    "    \n",
    "\n",
    "print(saludar())"
   ]
  },
  {
   "cell_type": "markdown",
   "metadata": {},
   "source": [
    "## Ejercicio 2\n",
    "Escribir una función a la que se le pase una cadena <span style=\"color:#66D9EF\">nombre</span> y muestre por pantalla el saludo ¡hola <span style=\"color:#66D9EF\">nombre</span>!."
   ]
  },
  {
   "cell_type": "code",
   "execution_count": null,
   "metadata": {},
   "outputs": [],
   "source": [
    "# Solución\n",
    "def saludar_presonalizado():\n",
    "    x=input(\"Ingresa nombre\")\n",
    "    print(f\"Hola, {x}\")\n",
    "    \n",
    "print(saludar_presonalizado())"
   ]
  },
  {
   "cell_type": "code",
   "execution_count": null,
   "metadata": {},
   "outputs": [],
   "source": []
  },
  {
   "cell_type": "markdown",
   "metadata": {},
   "source": [
    "## Ejercicio 3\n",
    "Escribir una función que reciba un número entero positivo y devuelva su factorial."
   ]
  },
  {
   "cell_type": "code",
   "execution_count": null,
   "metadata": {},
   "outputs": [],
   "source": [
    "# Solución\n",
    "def factorial(n):\n",
    "    #n=int(input(\"ingrese numero positivo para sacar facorial\"))\n",
    "    fact=1\n",
    "    i=1\n",
    "    while(i<=n):\n",
    "        fact=fact*i\n",
    "        i=i+1\n",
    "    return fact\n",
    "\n",
    "print(factorial(10))\n",
    "    \n"
   ]
  },
  {
   "cell_type": "markdown",
   "metadata": {},
   "source": [
    "## Ejercicio 4\n",
    "Escribir una función que calcule el total de una factura tras aplicarle el IVA. La función debe recibir la cantidad sin IVA y el porcentaje de IVA a aplicar, y devolver el total de la factura. Si se invoca la función sin pasarle el porcentaje de IVA, deberá aplicar un 21%."
   ]
  },
  {
   "cell_type": "code",
   "execution_count": null,
   "metadata": {},
   "outputs": [],
   "source": [
    "# Solución\n",
    "\n",
    "def producto_IVA(coste,iva=0.21):\n",
    "    \n",
    "    if(iva>1):\n",
    "        iva=iva*0.01\n",
    "    total_con_iva=coste+(iva*coste)\n",
    "    return total_con_iva\n",
    "\n",
    "print(producto_IVA(100,0.12))\n",
    "print(producto_IVA(100,0.12))   \n",
    "#print(producto_IVA()) "
   ]
  },
  {
   "cell_type": "markdown",
   "metadata": {},
   "source": [
    "## Ejercicio 5\n",
    "Escribir una función que calcule el área de un círculo y otra que calcule el volumen de un cilindro usando la primera función."
   ]
  },
  {
   "cell_type": "code",
   "execution_count": null,
   "metadata": {},
   "outputs": [],
   "source": [
    "# Solución\n",
    "import math\n",
    "def area_circulo(radio):\n",
    "    #sacar area de circulo pi x r cuadrado\n",
    "    area=math.pi*radio**2\n",
    "    return area\n",
    "    \n",
    "print(area_circulo(4))\n",
    "\n",
    "\n"
   ]
  },
  {
   "cell_type": "code",
   "execution_count": null,
   "metadata": {},
   "outputs": [],
   "source": [
    "#volumen de cilindro π r² h, \n",
    "def vol_cilindro(radio,altura):\n",
    "    return area_circulo(radio)*altura\n",
    "    \n",
    "\n",
    "print(vol_cilindro(4,5))"
   ]
  },
  {
   "cell_type": "markdown",
   "metadata": {},
   "source": [
    "## Ejercicio 6\n",
    "Escribir una función que reciba una muestra de números y devuelva su media. ( usar argumentos de longitud variable)"
   ]
  },
  {
   "cell_type": "code",
   "execution_count": null,
   "metadata": {},
   "outputs": [],
   "source": [
    "# Solución\n",
    "def media_de_numeros(*numeros):\n",
    "    suma=0\n",
    "    #numeros=[]\n",
    "    \n",
    "    cont=0\n",
    "    media=0\n",
    "    for i in numeros :\n",
    "        suma=suma+i\n",
    "        cont=cont+1\n",
    "        media=suma/cont\n",
    "        print(numeros)\n",
    "    return media\n",
    "print(f\" media de los numeros es:{media_de_numeros(5,5,5,5,30)}\")\n",
    "    "
   ]
  },
  {
   "cell_type": "markdown",
   "metadata": {},
   "source": [
    "## Ejercicio 7\n",
    "Escribir una función que reciba una muestra de números y devuelva otra lista con sus cuadrados. (usar argumentos de longitud variable)"
   ]
  },
  {
   "cell_type": "code",
   "execution_count": null,
   "metadata": {},
   "outputs": [],
   "source": [
    "# Solución\n",
    "def cuadrados_de_numeros(*numeros):\n",
    "    numeros_cuadrados=[]\n",
    "    for n in numeros :\n",
    "        numeros_cuadrados.append(n**2)\n",
    "    print(numeros_cuadrados)\n",
    "    #for x in numeros_cuadrados:\n",
    "    #    x=x**2\n",
    "    #print(numeros_cuadrados)\n",
    "        \n",
    "    #for i in numeros_cuadrados:\n",
    "    #    i=i**2\n",
    "            \n",
    "    print(numeros_cuadrados)\n",
    "    return numeros_cuadrados\n",
    "\n",
    "print(cuadrados_de_numeros(2,3,5,6,6,6,8,9,100))\n",
    "    "
   ]
  },
  {
   "cell_type": "code",
   "execution_count": null,
   "metadata": {},
   "outputs": [],
   "source": [
    "# Solución prueba\n",
    "\n",
    "numeros_cuadrados=[2,2]\n",
    "for i in numeros_cuadrados:\n",
    "    numeros_cuadrados.append[i]\n",
    "    \n",
    "    \n",
    "print(numeros_cuadrados)\n",
    "print(cuadrados_de_numeros(5,5,6,7,2))"
   ]
  },
  {
   "cell_type": "code",
   "execution_count": null,
   "metadata": {},
   "outputs": [],
   "source": []
  },
  {
   "cell_type": "markdown",
   "metadata": {},
   "source": [
    "## Ejercicio 8\n",
    "Escribir una función que calcule el máximo común divisor de dos números y otra que calcule el mínimo común múltiplo."
   ]
  },
  {
   "cell_type": "code",
   "execution_count": null,
   "metadata": {},
   "outputs": [],
   "source": [
    "# Solución\n",
    "\n",
    "#MAXIMO COMUN DIVISOR\n",
    "\n",
    "############MINIMO COMUN MULTIPLO\n",
    "#sacar lista de numeros primos\n",
    "\n",
    "def mcm(n):\n",
    "    min_com_mul=0\n",
    "    lista_de_primos=[]\n",
    "    for j in range(2,n+1):\n",
    "        cont_div = 0\n",
    "        \n",
    "        # verificamos si es divisible entre 2,3, .. , hasta n-1\n",
    "        for i in range(2,j):\n",
    "            if j%i == 0:\n",
    "                cont_div+=1\n",
    "                lista_de_primos.append[i]\n",
    "        print(lista_de_primos)\n",
    "                \n",
    "            \n",
    "    # no es divisible entre sus antecesores entonces es primo\n",
    "     #   if cont_div == 0:\n",
    "     #       print(j,end=\",\")\n",
    "    for x in lista_de_primos:\n",
    "        min_com_mul= min_com_mul*x\n",
    "    print(min_com_mul)\n",
    "    return min_com_mul\n",
    "\n",
    "print(mcm(16))"
   ]
  },
  {
   "cell_type": "markdown",
   "metadata": {},
   "source": [
    "## Ejercicio 9\n",
    "Escribir una función que convierta un número decimal en binario y otra que convierta un número binario en decimal."
   ]
  },
  {
   "cell_type": "code",
   "execution_count": null,
   "metadata": {},
   "outputs": [],
   "source": [
    "# SoluciónMAL\n",
    "#CONVERTIR DECIMAL EN BINARIO\n",
    "#decimal a binario, hay que ir dividiendo el número decimal entre dos y anotar \n",
    "# en una columna a la derecha el resto (un 0 si el resultado de la división es par y\n",
    "# un 1 si es impar). La lista de ceros y  unos leídos de abajo a arriba es el resultado.\n",
    "binario=[]\n",
    "\n",
    "decimal=int(input(\"ingrese numero entero positivo\"))\n",
    "\n",
    "\n",
    "while(n<=decimal):\n",
    "\n",
    "    for decimal in binario:\n",
    "        if(n%2==1):\n",
    "            binario.append(1)\n",
    "            n=n/2+1\n",
    "\n",
    "        if(n%2==0):\n",
    "            binario.append(0)\n",
    "            n=n/2\n",
    "    if(n==1):\n",
    "        break\n",
    "    \n",
    "print(\"{decimal} a binario=\",{binario})\n",
    "    \n",
    "    \n",
    "\n",
    "  \n",
    "\n"
   ]
  },
  {
   "cell_type": "code",
   "execution_count": null,
   "metadata": {},
   "outputs": [],
   "source": [
    "# Solución opcion 2 MAL\n",
    "#CONVERTIR DECIMAL EN BINARIO\n",
    "#decimal a binario, hay que ir dividiendo el número decimal entre dos y anotar \n",
    "# en una columna a la derecha el resto (un 0 si el resultado de la división es par y\n",
    "# un 1 si es impar). La lista de ceros y  unos leídos de abajo a arriba es el resultado.\n",
    "binario=[]\n",
    "\n",
    "n=0\n",
    "decimal=int(input(\"ingrese numero entero positivo\"))\n",
    "\n",
    "while(decimal>=1):\n",
    "\n",
    "    if(decimal%2==1):\n",
    "        #binario.append[\"1\"]\n",
    "        #1=binario.append\n",
    "        print(\"1\")\n",
    "        decimal=decimal/2-0.5\n",
    "        \n",
    "        #if(n==1):\n",
    "        #    break\n",
    "        #else:\n",
    "        #    pass\n",
    "\n",
    "    if(decimal%2==0):\n",
    "        #binario.append[\"0\"]\n",
    "       # binario.append[\"0\"]\n",
    "        print(\"0\")\n",
    "        decimal=decimal/2\n",
    "        \n",
    "    if(n==1):\n",
    "        break\n",
    "    else:\n",
    "        pass\n",
    "            \n",
    "    \n",
    "#print(\"{decimal} a binario=\",{binario})\n",
    "print(binario)\n",
    "    \n",
    "    \n",
    "\n",
    "  \n",
    "\n"
   ]
  },
  {
   "cell_type": "code",
   "execution_count": null,
   "metadata": {},
   "outputs": [],
   "source": [
    "\n",
    "# Solución opcion 2 MAL\n",
    "#CONVERTIR DECIMAL EN BINARIO\n",
    "#decimal a binario, hay que ir dividiendo el número decimal entre dos y anotar \n",
    "# en una columna a la derecha el resto (un 0 si el resultado de la división es par y\n",
    "# un 1 si es impar). La lista de ceros y  unos leídos de abajo a arriba es el resultado.\n",
    "binario=[]\n",
    "\n",
    "n=0\n",
    "decimal=int(input(\"ingrese numero entero positivo\"))\n",
    "\n",
    "while(decimal>=1):\n",
    "\n",
    "    if(decimal%2==1):\n",
    "        binario.append(decimal%2)\n",
    "        #binario.append[\"1\"]\n",
    "        #1=binario.append\n",
    "        print(\"1\")\n",
    "        decimal=decimal/2-0.5\n",
    "        \n",
    "        if(n==1):\n",
    "            break\n",
    "        else:\n",
    "            pass\n",
    "\n",
    "    if(decimal%2==0):\n",
    "        binario.append(decimal%2)\n",
    "        binario.append[\"0\"]\n",
    "       # binario.append[\"0\"]\n",
    "        print(\"0\")\n",
    "        decimal=decimal/2\n",
    "        \n",
    "    if(n==1):\n",
    "        break\n",
    "    else:\n",
    "        pass\n",
    "    \n",
    "    print(binario)\n",
    "#for b in binario:\n",
    "#    print(b,end=)\n",
    "            "
   ]
  },
  {
   "cell_type": "code",
   "execution_count": null,
   "metadata": {},
   "outputs": [],
   "source": [
    "\n",
    "#binario a decimal \n",
    "#numerar los dígitos de derecha a izquierda \n",
    "# comenzando desde cero, a cada número\n",
    "# se le asigna la correspondiente potencia base\n",
    "# 2 y al final se suman las potencias.\n",
    "def binario_a_decimal(binario):\n",
    "    binario=print(0bbinario)\n",
    "    print(binario)\n",
    "    return binario\n",
    "binario()"
   ]
  },
  {
   "cell_type": "code",
   "execution_count": null,
   "metadata": {},
   "outputs": [],
   "source": [
    "# Solución BIEN\n",
    "#numerar los dígitos de derecha a izquierda \n",
    "# comenzando desde cero, a cada número\n",
    "# se le asigna la correspondiente potencia base\n",
    "# 2 y al final se suman las potencias.\n",
    "\n",
    "#CONVERTIR BINARIO EN DECIMAL\n",
    "\n",
    "binario = input(\"ingresa un número binario: \")\n",
    "## i es un numero si: i in range(n)\n",
    "binario[-len(binario)]\n",
    "suma = 0\n",
    "for i in range(len(binario)):\n",
    "    suma+=int(binario[i])*(2**(len(binario)-1-i))\n",
    "print(suma)\n",
    "\n",
    "#meter cada 0 y 1 por separado a una lista\n",
    "\n"
   ]
  },
  {
   "cell_type": "code",
   "execution_count": 77,
   "metadata": {},
   "outputs": [
    {
     "name": "stdout",
     "output_type": "stream",
     "text": [
      "0b10010\n"
     ]
    }
   ],
   "source": [
    "#funcion de numero binario\n",
    "def binario(bin):\n",
    "    binario[-len(binario)]\n",
    "    suma=0\n",
    "    for i in range(len(binario)):\n",
    "        suma+=int(binario[i])*(2**(len(binario)-1-i))\n",
    "    return suma\n",
    "\n",
    "print(bin(18))"
   ]
  },
  {
   "cell_type": "code",
   "execution_count": null,
   "metadata": {},
   "outputs": [],
   "source": []
  },
  {
   "cell_type": "code",
   "execution_count": null,
   "metadata": {},
   "outputs": [],
   "source": [
    "#CONVERTIR BINARIO A DECIMAL\n",
    "\n",
    "#recibir numero binario\n",
    "#10010=18\n",
    "binario.split(\",\")\n",
    "\n",
    "#evaluar "
   ]
  },
  {
   "cell_type": "code",
   "execution_count": null,
   "metadata": {},
   "outputs": [],
   "source": []
  },
  {
   "cell_type": "markdown",
   "metadata": {},
   "source": [
    "## Ejercicio 10\n",
    "Escribir un programa que reciba una cadena de caracteres y devuelva un diccionario con cada palabra que contiene y su frecuencia. Escribir otra función que reciba el diccionario generado con la función anterior y devuelva una tupla con la palabra más repetida y su frecuencia."
   ]
  },
  {
   "cell_type": "code",
   "execution_count": 91,
   "metadata": {},
   "outputs": [
    {
     "name": "stdout",
     "output_type": "stream",
     "text": [
      "['oso', 'oso', 'oso', 'oso']\n",
      "{}\n"
     ]
    }
   ],
   "source": [
    "# Solución\n",
    "cadena=input(\"ingrese frase\")\n",
    "proto_dic=[]\n",
    "diccionario={}\n",
    "proto_dic=cadena.split(\" \")\n",
    "for i in diccionario:\n",
    "    proto_dic=diccionario[\"{i}\"]\n",
    "    #for i in diccionario:\n",
    "        #count(\"proto_dic\")=proto_dic(i)\n",
    "    #    proto_dic.count(\"{proto_dic}\")=diccionario[proto_dic]\n",
    "        \n",
    "        \n",
    "    \n",
    "#    proto_dic.append(cadena)\n",
    "\n",
    "print(proto_dic)\n",
    "print(diccionario)\n"
   ]
  },
  {
   "cell_type": "code",
   "execution_count": 74,
   "metadata": {},
   "outputs": [
    {
     "name": "stdout",
     "output_type": "stream",
     "text": [
      "9686\n"
     ]
    }
   ],
   "source": [
    "binario = input(\"ingresa un número binario: \")\n",
    "## i es un numero si: i in range(n)\n",
    "binario[-len(binario)]\n",
    "suma = 0\n",
    "for i in range(len(binario)):\n",
    "    suma+=int(binario[i])*(2**(len(binario)-1-i))\n",
    "print(suma)\n",
    "# (len(binario)-1-0)\n",
    "# (len(binario)-1-1)\n",
    "# (len(binario)-1-2)\n",
    "# (len(binario)-1-3)"
   ]
  },
  {
   "cell_type": "code",
   "execution_count": 54,
   "metadata": {},
   "outputs": [
    {
     "name": "stdout",
     "output_type": "stream",
     "text": [
      "0\n",
      "8\n",
      "16\n",
      "24\n",
      "32\n"
     ]
    },
    {
     "data": {
      "text/plain": [
       "5"
      ]
     },
     "execution_count": 54,
     "metadata": {},
     "output_type": "execute_result"
    }
   ],
   "source": [
    "for i in  range(5):\n",
    "    print(i*8)"
   ]
  },
  {
   "cell_type": "code",
   "execution_count": null,
   "metadata": {},
   "outputs": [],
   "source": []
  }
 ],
 "metadata": {
  "kernelspec": {
   "display_name": "Python 3.11.0 64-bit",
   "language": "python",
   "name": "python3"
  },
  "language_info": {
   "codemirror_mode": {
    "name": "ipython",
    "version": 3
   },
   "file_extension": ".py",
   "mimetype": "text/x-python",
   "name": "python",
   "nbconvert_exporter": "python",
   "pygments_lexer": "ipython3",
   "version": "3.11.0"
  },
  "orig_nbformat": 4,
  "vscode": {
   "interpreter": {
    "hash": "0b0b049f9f07c796a5db9b973cc3ef1a7f890e99374bb13bd3a985708b2ada45"
   }
  }
 },
 "nbformat": 4,
 "nbformat_minor": 2
}
