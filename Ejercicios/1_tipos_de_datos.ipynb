{
 "cells": [
  {
   "cell_type": "markdown",
   "metadata": {},
   "source": [
    "# Ejercicios de Tipos de Datos Simples"
   ]
  },
  {
   "cell_type": "markdown",
   "metadata": {},
   "source": [
    "### Ejercicio 1\n",
    "Escribir un programa que muestre por pantalla la cadena <span style=\"color:#66D9EF\">¡Hola Mundo!</span>."
   ]
  },
  {
   "cell_type": "code",
   "execution_count": 1,
   "metadata": {},
   "outputs": [
    {
     "name": "stdout",
     "output_type": "stream",
     "text": [
      "Hola Mundo\n"
     ]
    }
   ],
   "source": [
    "# Solución\n",
    "print(\"¡Hola Mundo!\")\n"
   ]
  },
  {
   "cell_type": "markdown",
   "metadata": {},
   "source": [
    "### Ejercicio 2\n",
    "Escribir un programa que almacene la cadena <span style=\"color:#66D9EF\">¡Hola Mundo!</span> en una variable y luego muestre por pantalla el contenido de la variable"
   ]
  },
  {
   "cell_type": "code",
   "execution_count": 3,
   "metadata": {},
   "outputs": [
    {
     "name": "stdout",
     "output_type": "stream",
     "text": [
      "¡Hola Mundo!\n"
     ]
    }
   ],
   "source": [
    "# Solución\n",
    "saludo = \"¡Hola Mundo!\"\n",
    "print(saludo)"
   ]
  },
  {
   "cell_type": "markdown",
   "metadata": {},
   "source": [
    "### Ejercicio 3\n",
    "Escribir un programa que pregunte el nombre del usuario en la consola y después de que el usuario lo introduzca muestre por pantalla la cadena <span style=\"color:#66D9EF \">¡Hola \\<nombre\\>!</span>, donde <span style=\"color:#66D9EF\">\\<nombre\\></span> es el nombre que el usuario haya introducido."
   ]
  },
  {
   "cell_type": "code",
   "execution_count": 10,
   "metadata": {},
   "outputs": [
    {
     "name": "stdout",
     "output_type": "stream",
     "text": [
      "Introduce tu nombre\n",
      "Hola,Arena\n"
     ]
    }
   ],
   "source": [
    "# Solución\n",
    "\n",
    "print(\"Introduce tu nombre\")\n",
    "nombre_usuario=input(\"Ingresa nombre\")\n",
    "#print(\"Hola,\" , nombre_usuario)\n",
    "\n",
    "\n",
    "print(f\"Hola,{nombre_usuario}\")"
   ]
  },
  {
   "cell_type": "markdown",
   "metadata": {},
   "source": [
    "### Ejercicio 4\n",
    "Escribir un programa que muestre por pantalla el resultado de la siguiente operación aritmética:\n",
    "$$ \\left(\\frac{3+2}{2*5}\\right)^2$$"
   ]
  },
  {
   "cell_type": "code",
   "execution_count": 11,
   "metadata": {},
   "outputs": [
    {
     "data": {
      "text/plain": [
       "64"
      ]
     },
     "execution_count": 11,
     "metadata": {},
     "output_type": "execute_result"
    }
   ],
   "source": [
    "# solución\n",
    "(3+2//2*5)**2"
   ]
  },
  {
   "cell_type": "markdown",
   "metadata": {},
   "source": [
    "### Ejercicio 5\n",
    "Escribir un programa que pregunte al usuario por el número de horas trabajadas y el coste por hora. Después debe mostrar por pantalla la paga que le corresponde."
   ]
  },
  {
   "cell_type": "code",
   "execution_count": 19,
   "metadata": {},
   "outputs": [
    {
     "name": "stdout",
     "output_type": "stream",
     "text": [
      "La paga total es90.0\n"
     ]
    }
   ],
   "source": [
    "# solución\n",
    "horas_trabajadas=int(input(\"ingrese horas trabajadas\"))\n",
    "costo_hora=float(input(\"ingrese costo por hora\"))\n",
    "#print(f\"La paga total es{float(horas_trabajadas)*int(costo_hora)}\")\n",
    "print(f\"La paga total es{horas_trabajadas*costo_hora}\")\n"
   ]
  },
  {
   "cell_type": "markdown",
   "metadata": {},
   "source": [
    "### Ejercicio 6\n",
    "Escribir un programa que lea un entero positivo, _n_, introducido por el usuario y después muestre en pantalla la suma de todos los enteros desde 1 hasta _n_ . La suma de los *n* primeros enteros positivos puede ser calculada de la siguiente forma:  \n",
    "$$suma = \\frac{n(n+1)}{2}$$"
   ]
  },
  {
   "cell_type": "code",
   "execution_count": 26,
   "metadata": {},
   "outputs": [
    {
     "name": "stdout",
     "output_type": "stream",
     "text": [
      "la suma de todos los enteros desde 1 hasta 3  es:\n",
      "6\n"
     ]
    }
   ],
   "source": [
    "# solución\n",
    "ent_pos=int(input(\"escribe un entero positivo\"))\n",
    "print(f\"la suma de todos los enteros desde 1 hasta {ent_pos}  es:\")\n",
    "print((ent_pos*(ent_pos+1))//2)\n"
   ]
  },
  {
   "cell_type": "markdown",
   "metadata": {},
   "source": [
    "### Ejercicio 7\n",
    "Escribir un programa que pida al usuario su peso (en kg) y estatura (en metros), calcule el índice de masa corporal y lo almacene en una variable, y muestre por pantalla la frase Tu índice de masa corporal es <span style=\"color:#66D9EF\">imc</span> donde <span style=\"color:#66D9EF\">imc</span> es el índice de masa corporal calculado redondeado con dos decimales."
   ]
  },
  {
   "cell_type": "code",
   "execution_count": 40,
   "metadata": {},
   "outputs": [
    {
     "name": "stdout",
     "output_type": "stream",
     "text": [
      "75\n",
      "1.73\n",
      "el IMC es,25.05930702662969\n"
     ]
    }
   ],
   "source": [
    "# solución\n",
    "peso=int(input(\"ingresa peso en kg\"))\n",
    "print(peso)\n",
    "estatura=float(input(\"ingresa estatura en metros\"))\n",
    "print(estatura)\n",
    "print(f\"el IMC es {peso/((estatura)**2)}\")"
   ]
  },
  {
   "cell_type": "markdown",
   "metadata": {},
   "source": [
    "### Ejercicio 8\n",
    "Escribir un programa que pida al usuario dos números enteros y muestre por pantalla la <span style=\"color:#66D9EF \">n</span> entre <span style=\"color:#66D9EF \">m</span> da un cociente <span style=\"color:#66D9EF \">c</span> y un resto <span style=\"color:#66D9EF \">r</span> donde <span style=\"color:#66D9EF \">n y m</span> son los números introducidos por el usuario, y <span style=\"color:#66D9EF \">c y r</span> son el cociente y el resto de la división entera respectivamente."
   ]
  },
  {
   "cell_type": "code",
   "execution_count": 42,
   "metadata": {},
   "outputs": [
    {
     "name": "stdout",
     "output_type": "stream",
     "text": [
      "el numero  3 entre 3 da un cociente 1 y un resto 0\n"
     ]
    }
   ],
   "source": [
    "# solución\n",
    "entero_1=int(input(\"ingresa un numero entero\"))\n",
    "entero_2=int(input(\"ingresa otro numero entero\"))\n",
    "\n",
    "print(f\"el numero  {entero_1} entre {entero_2} da un cociente {entero_1//entero_2} y un resto {entero_1%entero_2}\")"
   ]
  },
  {
   "cell_type": "markdown",
   "metadata": {},
   "source": [
    "### Ejercicio 9\n",
    "Escribir un programa que pregunte al usuario una cantidad a invertir, el interés anual y el número de años, y muestre por pantalla el capital obtenido en la inversión."
   ]
  },
  {
   "cell_type": "code",
   "execution_count": 44,
   "metadata": {},
   "outputs": [
    {
     "name": "stdout",
     "output_type": "stream",
     "text": [
      "10.0\n",
      "1.0\n",
      "100\n"
     ]
    },
    {
     "ename": "TypeError",
     "evalue": "'float' object is not callable",
     "output_type": "error",
     "traceback": [
      "\u001b[1;31m---------------------------------------------------------------------------\u001b[0m",
      "\u001b[1;31mTypeError\u001b[0m                                 Traceback (most recent call last)",
      "\u001b[1;32mc:\\Users\\Esc_código\\Desktop\\Diego\\AnalistaDeDatos_EDC-main\\AnalistaDeDatos_EDC-main\\Ejercicios\\1_tipos_de_datos.ipynb Celda 19\u001b[0m in \u001b[0;36m<cell line: 9>\u001b[1;34m()\u001b[0m\n\u001b[0;32m      <a href='vscode-notebook-cell:/c%3A/Users/Esc_c%C3%B3digo/Desktop/Diego/AnalistaDeDatos_EDC-main/AnalistaDeDatos_EDC-main/Ejercicios/1_tipos_de_datos.ipynb#X24sZmlsZQ%3D%3D?line=5'>6</a>\u001b[0m anios_a_invertir\u001b[39m=\u001b[39m\u001b[39mint\u001b[39m(\u001b[39minput\u001b[39m(\u001b[39m\"\u001b[39m\u001b[39mingresa años a invertir\u001b[39m\u001b[39m\"\u001b[39m))\n\u001b[0;32m      <a href='vscode-notebook-cell:/c%3A/Users/Esc_c%C3%B3digo/Desktop/Diego/AnalistaDeDatos_EDC-main/AnalistaDeDatos_EDC-main/Ejercicios/1_tipos_de_datos.ipynb#X24sZmlsZQ%3D%3D?line=6'>7</a>\u001b[0m \u001b[39mprint\u001b[39m(años_a_invertir)\n\u001b[1;32m----> <a href='vscode-notebook-cell:/c%3A/Users/Esc_c%C3%B3digo/Desktop/Diego/AnalistaDeDatos_EDC-main/AnalistaDeDatos_EDC-main/Ejercicios/1_tipos_de_datos.ipynb#X24sZmlsZQ%3D%3D?line=8'>9</a>\u001b[0m \u001b[39mprint\u001b[39m(\u001b[39mf\u001b[39m\u001b[39m\"\u001b[39m\u001b[39mel capital obtenido de la inversion es\u001b[39m\u001b[39m{\u001b[39;00minversion((\u001b[39m1\u001b[39m\u001b[39m+\u001b[39minteres_anual)\u001b[39m*\u001b[39m\u001b[39m*\u001b[39manios_a_invertir)\u001b[39m}\u001b[39;00m\u001b[39m\"\u001b[39m)\n",
      "\u001b[1;31mTypeError\u001b[0m: 'float' object is not callable"
     ]
    }
   ],
   "source": [
    "# Solución\n",
    "inversion=float(input(\"cantidad a invertir\"))\n",
    "print(inversion)\n",
    "interes_anual=float(input(\"ingresa tasa interes anual\"))\n",
    "print(interes_anual)\n",
    "anios_a_invertir=int(input(\"ingresa años a invertir\"))\n",
    "print(años_a_invertir)\n",
    "\n",
    "print(f\"el capital obtenido de la inversion es{inversion((1+interes_anual)**anios_a_invertir)}\")\n"
   ]
  },
  {
   "cell_type": "markdown",
   "metadata": {},
   "source": [
    "### Ejercicio 10\n",
    "Una juguetería tiene mucho éxito en dos de sus productos: payasos y muñecas. Suele hacer venta por correo y la empresa de logística les cobra por peso de cada paquete así que deben calcular el peso de los payasos y muñecas que saldrán en cada paquete a demanda. Cada payaso pesa 112 g y cada muñeca 75 g. Escribir un programa que lea el número de payasos y muñecas vendidos en el último pedido y calcule el peso total del paquete que será enviado."
   ]
  },
  {
   "cell_type": "code",
   "execution_count": null,
   "metadata": {},
   "outputs": [],
   "source": [
    "# Solución"
   ]
  },
  {
   "cell_type": "markdown",
   "metadata": {},
   "source": [
    "### Ejercicio 11\n",
    "Imagina que acabas de abrir una nueva cuenta de ahorros que te ofrece el 4% de interés al año. Estos ahorros se cobran hasta finales de año. Escribir un programa que comience leyendo la cantidad de dinero depositada en la cuenta de ahorros, introducida por el usuario. Después el programa debe calcular y mostrar por pantalla la cantidad de ahorros tras el primer, segundo y tercer años. Redondear cada cantidad a dos decimales."
   ]
  },
  {
   "cell_type": "code",
   "execution_count": null,
   "metadata": {},
   "outputs": [],
   "source": [
    "# Solución"
   ]
  },
  {
   "cell_type": "markdown",
   "metadata": {},
   "source": [
    "### Ejercicio 12\n",
    "Una panadería vende barras de pan a $3.49 cada una. El pan que no es el día tiene un descuento del 60%. Escribir un programa que comience leyendo el número de barras vendidas que no son del día. Después el programa debe mostrar el precio habitual de una barra de pan, el descuento que se le hace por no ser fresca y el coste final total."
   ]
  },
  {
   "cell_type": "code",
   "execution_count": null,
   "metadata": {},
   "outputs": [],
   "source": [
    "# Solución"
   ]
  }
 ],
 "metadata": {
  "kernelspec": {
   "display_name": "Python 3.10.5 64-bit",
   "language": "python",
   "name": "python3"
  },
  "language_info": {
   "codemirror_mode": {
    "name": "ipython",
    "version": 3
   },
   "file_extension": ".py",
   "mimetype": "text/x-python",
   "name": "python",
   "nbconvert_exporter": "python",
   "pygments_lexer": "ipython3",
   "version": "3.10.5"
  },
  "orig_nbformat": 4,
  "vscode": {
   "interpreter": {
    "hash": "77abe205c72c096294b3a4a26264acecc5dbf8fb16ba6ed375b92e4d65784221"
   }
  }
 },
 "nbformat": 4,
 "nbformat_minor": 2
}
