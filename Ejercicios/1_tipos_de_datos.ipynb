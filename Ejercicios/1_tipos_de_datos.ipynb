{
 "cells": [
  {
   "cell_type": "markdown",
   "metadata": {},
   "source": [
    "# Ejercicios de Tipos de Datos Simples"
   ]
  },
  {
   "cell_type": "markdown",
   "metadata": {},
   "source": [
    "### Ejercicio 1\n",
    "Escribir un programa que muestre por pantalla la cadena <span style=\"color:#66D9EF\">¡Hola Mundo!</span>."
   ]
  },
  {
   "cell_type": "code",
   "execution_count": null,
   "metadata": {},
   "outputs": [
    {
     "name": "stdout",
     "output_type": "stream",
     "text": [
      "Hola Mundo\n"
     ]
    }
   ],
   "source": [
    "# Solución\n",
    "print(\"¡Hola Mundo!\")\n",
    "\n"
   ]
  },
  {
   "cell_type": "markdown",
   "metadata": {},
   "source": [
    "### Ejercicio 2\n",
    "Escribir un programa que almacene la cadena <span style=\"color:#66D9EF\">¡Hola Mundo!</span> en una variable y luego muestre por pantalla el contenido de la variable"
   ]
  },
  {
   "cell_type": "code",
   "execution_count": null,
   "metadata": {},
   "outputs": [
    {
     "name": "stdout",
     "output_type": "stream",
     "text": [
      "¡Hola Mundo!\n"
     ]
    }
   ],
   "source": [
    "# Solución\n",
    "saludo = \"¡Hola Mundo!\"\n",
    "print(saludo)"
   ]
  },
  {
   "cell_type": "markdown",
   "metadata": {},
   "source": [
    "### Ejercicio 3\n",
    "Escribir un programa que pregunte el nombre del usuario en la consola y después de que el usuario lo introduzca muestre por pantalla la cadena <span style=\"color:#66D9EF \">¡Hola \\<nombre\\>!</span>, donde <span style=\"color:#66D9EF\">\\<nombre\\></span> es el nombre que el usuario haya introducido."
   ]
  },
  {
   "cell_type": "code",
   "execution_count": null,
   "metadata": {},
   "outputs": [
    {
     "name": "stdout",
     "output_type": "stream",
     "text": [
      "Introduce tu nombre\n",
      "Hola,Arena\n"
     ]
    }
   ],
   "source": [
    "# Solución\n",
    "\n",
    "print(\"Introduce tu nombre\")\n",
    "nombre_usuario=input(\"Ingresa nombre\")\n",
    "#print(\"Hola,\" , nombre_usuario)\n",
    "\n",
    "\n",
    "print(f\"Hola,{nombre_usuario}\")"
   ]
  },
  {
   "cell_type": "markdown",
   "metadata": {},
   "source": [
    "### Ejercicio 4\n",
    "Escribir un programa que muestre por pantalla el resultado de la siguiente operación aritmética:\n",
    "$$ \\left(\\frac{3+2}{2*5}\\right)^2$$"
   ]
  },
  {
   "cell_type": "code",
   "execution_count": null,
   "metadata": {},
   "outputs": [
    {
     "data": {
      "text/plain": [
       "64"
      ]
     },
     "execution_count": 11,
     "metadata": {},
     "output_type": "execute_result"
    }
   ],
   "source": [
    "# solución\n",
    "((3+2)//(2*5))**2"
   ]
  },
  {
   "cell_type": "markdown",
   "metadata": {},
   "source": [
    "### Ejercicio 5\n",
    "Escribir un programa que pregunte al usuario por el número de horas trabajadas y el coste por hora. Después debe mostrar por pantalla la paga que le corresponde."
   ]
  },
  {
   "cell_type": "code",
   "execution_count": null,
   "metadata": {},
   "outputs": [
    {
     "name": "stdout",
     "output_type": "stream",
     "text": [
      "La paga total es90.0\n"
     ]
    }
   ],
   "source": [
    "# solución\n",
    "horas_trabajadas=int(input(\"ingrese horas trabajadas\"))\n",
    "costo_hora=float(input(\"ingrese costo por hora\"))\n",
    "#print(f\"La paga total es{float(horas_trabajadas)*int(costo_hora)}\")\n",
    "print(f\"La paga total es{horas_trabajadas*costo_hora}\")\n"
   ]
  },
  {
   "cell_type": "markdown",
   "metadata": {},
   "source": [
    "### Ejercicio 6\n",
    "Escribir un programa que lea un entero positivo, _n_, introducido por el usuario y después muestre en pantalla la suma de todos los enteros desde 1 hasta _n_ . La suma de los *n* primeros enteros positivos puede ser calculada de la siguiente forma:  \n",
    "$$suma = \\frac{n(n+1)}{2}$$"
   ]
  },
  {
   "cell_type": "code",
   "execution_count": null,
   "metadata": {},
   "outputs": [
    {
     "name": "stdout",
     "output_type": "stream",
     "text": [
      "la suma de todos los enteros desde 1 hasta 3  es:\n",
      "6\n"
     ]
    }
   ],
   "source": [
    "# solución\n",
    "ent_pos=int(input(\"escribe un entero positivo\"))\n",
    "print(f\"la suma de todos los enteros desde 1 hasta {ent_pos}  es:\")\n",
    "print((ent_pos*(ent_pos+1))//2)\n"
   ]
  },
  {
   "cell_type": "markdown",
   "metadata": {},
   "source": [
    "### Ejercicio 7\n",
    "Escribir un programa que pida al usuario su peso (en kg) y estatura (en metros), calcule el índice de masa corporal y lo almacene en una variable, y muestre por pantalla la frase Tu índice de masa corporal es <span style=\"color:#66D9EF\">imc</span> donde <span style=\"color:#66D9EF\">imc</span> es el índice de masa corporal calculado redondeado con dos decimales."
   ]
  },
  {
   "cell_type": "code",
   "execution_count": 1,
   "metadata": {},
   "outputs": [
    {
     "name": "stdout",
     "output_type": "stream",
     "text": [
      "75\n",
      "1.73\n",
      "el IMC es 25.05930702662969\n"
     ]
    }
   ],
   "source": [
    "# solución\n",
    "peso=int(input(\"ingresa peso en kg\"))\n",
    "print(peso)\n",
    "estatura=float(input(\"ingresa estatura en metros\"))\n",
    "print(estatura)\n",
    "print(f\"el IMC es {peso/((estatura)**2)}\")\n"
   ]
  },
  {
   "cell_type": "markdown",
   "metadata": {},
   "source": [
    "### Ejercicio 8\n",
    "Escribir un programa que pida al usuario dos números enteros y muestre por pantalla la <span style=\"color:#66D9EF \">n</span> entre <span style=\"color:#66D9EF \">m</span> da un cociente <span style=\"color:#66D9EF \">c</span> y un resto <span style=\"color:#66D9EF \">r</span> donde <span style=\"color:#66D9EF \">n y m</span> son los números introducidos por el usuario, y <span style=\"color:#66D9EF \">c y r</span> son el cociente y el resto de la división entera respectivamente."
   ]
  },
  {
   "cell_type": "code",
   "execution_count": 37,
   "metadata": {},
   "outputs": [
    {
     "name": "stdout",
     "output_type": "stream",
     "text": [
      "el numero  2025 entre 25 da un cociente 81 y un resto 0\n"
     ]
    }
   ],
   "source": [
    "# solución\n",
    "entero_1=int(input(\"ingresa un numero entero\"))\n",
    "\n",
    "entero_2=int(input(\"ingresa otro numero entero\"))\n",
    "\n",
    "print(f\"el numero  {entero_1} entre {entero_2} da un cociente {int(entero_1//entero_2)} y un resto {entero_1%entero_2}\")"
   ]
  },
  {
   "cell_type": "markdown",
   "metadata": {},
   "source": [
    "### Ejercicio 9\n",
    "Escribir un programa que pregunte al usuario una cantidad a invertir, el interés anual y el número de años, y muestre por pantalla el capital obtenido en la inversión."
   ]
  },
  {
   "cell_type": "code",
   "execution_count": 35,
   "metadata": {},
   "outputs": [
    {
     "name": "stdout",
     "output_type": "stream",
     "text": [
      "100.0\n",
      "1.0\n",
      "10\n",
      "el capital obtenido de la inversion es 102400.0\n"
     ]
    }
   ],
   "source": [
    "# Solución\n",
    "inversion=float(input(\"cantidad a invertir\"))\n",
    "print(inversion)\n",
    "interes_anual=float(input(\"ingresa tasa interes anual\"))\n",
    "print(interes_anual)\n",
    "anios_a_invertir=int(input(\"ingresa años a invertir\"))\n",
    "print(anios_a_invertir)\n",
    "\n",
    "print(f\"el capital obtenido de la inversion es {inversion*(1+interes_anual)**anios_a_invertir}\")\n",
    "\n"
   ]
  },
  {
   "cell_type": "markdown",
   "metadata": {},
   "source": [
    "### Ejercicio 10\n",
    "Una juguetería tiene mucho éxito en dos de sus productos: payasos y muñecas. Suele hacer venta por correo y la empresa de logística les cobra por peso de cada paquete así que deben calcular el peso de los payasos y muñecas que saldrán en cada paquete a demanda. Cada payaso pesa 112 g y cada muñeca 75 g. Escribir un programa que lea el número de payasos y muñecas vendidos en el último pedido y calcule el peso total del paquete que será enviado."
   ]
  },
  {
   "cell_type": "code",
   "execution_count": 22,
   "metadata": {},
   "outputs": [
    {
     "name": "stdout",
     "output_type": "stream",
     "text": [
      "1 payasos 10 muñecas\n",
      "Peso total del último paquete es 1.195 kg\n"
     ]
    }
   ],
   "source": [
    "# Solución\n",
    "peso_muneca=0.112\n",
    "peso_payaso=0.075\n",
    "m=int(input(\"Cantidad de muñecas\"))\n",
    "p=int(input(\"Cantidad de payasos\"))\n",
    "\n",
    "print(f\"{p} payasos {m} muñecas\")\n",
    "\"\"\"peso_muñeca_kg=peso_muñeca*0.001\n",
    "print(peso_muneca_kg)\"\"\"\n",
    "peso_paquete=m*peso_muneca+p*peso_payaso\n",
    "print(f\"Peso total del último paquete es {peso_paquete} kg\")"
   ]
  },
  {
   "cell_type": "markdown",
   "metadata": {},
   "source": [
    "### Ejercicio 11\n",
    "Imagina que acabas de abrir una nueva cuenta de ahorros que te ofrece el 4% de interés al año. Estos ahorros se cobran hasta finales de año. Escribir un programa que comience leyendo la cantidad de dinero depositada en la cuenta de ahorros, introducida por el usuario. Después el programa debe calcular y mostrar por pantalla la cantidad de ahorros tras el primer, segundo y tercer años. Redondear cada cantidad a dos decimales."
   ]
  },
  {
   "cell_type": "markdown",
   "metadata": {},
   "source": []
  },
  {
   "cell_type": "code",
   "execution_count": 24,
   "metadata": {},
   "outputs": [
    {
     "name": "stdout",
     "output_type": "stream",
     "text": [
      "Ahorros primer año:1040.0  Ahorros segundo año:1081.6 Ahorros tecer año: 1124.8639999999998 con 0.04% de interes al año\n"
     ]
    }
   ],
   "source": [
    "# Solución\n",
    "primer_ingreso=float(input(\"Ingresar cantidad a  depositar en la cuenta de ahorros\"))\n",
    "taza=0.04\n",
    "ahorros_primer_año= primer_ingreso + (primer_ingreso*taza)\n",
    "ahorros_segundo_año=ahorros_primer_año+(ahorros_primer_año*taza)\n",
    "ahorros_tercer_año=ahorros_segundo_año+(ahorros_segundo_año*taza)\n",
    "\n",
    "print(f\"Ahorros primer año:{float(ahorros_primer_año)}  Ahorros segundo año:{float(ahorros_segundo_año) } Ahorros tecer año: {float(ahorros_tercer_año)} con {float(taza)}% de interes al año\")\n"
   ]
  },
  {
   "cell_type": "markdown",
   "metadata": {},
   "source": [
    "### Ejercicio 12\n",
    "Una panadería vende barras de pan a $3.49 cada una. El pan que no es el día tiene un descuento del 60%. Escribir un programa que comience leyendo el número de barras vendidas que no son del día. Después el programa debe mostrar el precio habitual de una barra de pan, el descuento que se le hace por no ser fresca y el coste final total."
   ]
  },
  {
   "cell_type": "code",
   "execution_count": 31,
   "metadata": {},
   "outputs": [
    {
     "name": "stdout",
     "output_type": "stream",
     "text": [
      "precio habitual unidad barra de pan 10\n",
      "{4.0}\n"
     ]
    }
   ],
   "source": [
    "# Solución\n",
    "\n",
    "unidad_barra_pan=3.49\n",
    "barras_vendidas=int(input(\"introduzca numero de barras\"))\n",
    "print(f\"precio habitual unidad barra de pan {unidad_barra_pan}\")\n",
    "descuento_barra_no_fresca=float(3.49*0.6)\n",
    "descuento_BarrasVendidas_Descuentos=(unidad_barra_pan*barras_vendidas)-(barras_vendidas*descuento_barra_no_fresca)\n",
    "print({descuento_BarrasVendidas_Descuentos})"
   ]
  }
 ],
 "metadata": {
  "kernelspec": {
   "display_name": "Python 3.10.5 64-bit",
   "language": "python",
   "name": "python3"
  },
  "language_info": {
   "codemirror_mode": {
    "name": "ipython",
    "version": 3
   },
   "file_extension": ".py",
   "mimetype": "text/x-python",
   "name": "python",
   "nbconvert_exporter": "python",
   "pygments_lexer": "ipython3",
   "version": "3.10.5"
  },
  "orig_nbformat": 4,
  "vscode": {
   "interpreter": {
    "hash": "77abe205c72c096294b3a4a26264acecc5dbf8fb16ba6ed375b92e4d65784221"
   }
  }
 },
 "nbformat": 4,
 "nbformat_minor": 2
}
