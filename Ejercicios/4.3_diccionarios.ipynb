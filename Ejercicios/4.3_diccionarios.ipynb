{
 "cells": [
  {
   "cell_type": "markdown",
   "metadata": {},
   "source": [
    "# Ejercicios: Diccionarios"
   ]
  },
  {
   "cell_type": "markdown",
   "metadata": {},
   "source": [
    "### Ejercicio 1\n",
    "Escribir un programa que guarde en una variable el diccionario {'Euro':'€', 'Dollar':'$', 'Yen':'¥'}, pregunte al usuario por una divisa y muestre su símbolo o un mensaje de aviso si la divisa no está en el diccionario."
   ]
  },
  {
   "cell_type": "code",
   "execution_count": null,
   "metadata": {},
   "outputs": [],
   "source": [
    "# Solución BIEN\n",
    "divisas={'Euro':'€', 'Dollar':'$', 'Yen':'¥'}\n",
    "moneda=input(\"ingresa nombre de moneda\")\n",
    "\n",
    "if(moneda in  divisas):\n",
    "    print(divisas[moneda])\n",
    "else:\n",
    "    print(\"error\")\n",
    "\n",
    "\n",
    "#print((divisas.values()))\n",
    "\n",
    "#print(\"{moneda}\" in divisas)\n",
    "#print((divisas.values()))"
   ]
  },
  {
   "cell_type": "code",
   "execution_count": null,
   "metadata": {},
   "outputs": [],
   "source": []
  },
  {
   "cell_type": "code",
   "execution_count": null,
   "metadata": {},
   "outputs": [],
   "source": []
  },
  {
   "cell_type": "code",
   "execution_count": null,
   "metadata": {},
   "outputs": [],
   "source": [
    "y"
   ]
  },
  {
   "cell_type": "code",
   "execution_count": null,
   "metadata": {},
   "outputs": [],
   "source": [
    "# Solución MAL\n",
    "divisas={\"Euro\":\"€\",\"Dollar\":\"$\",\"Yen\":\"¥\"}\n",
    "moneda=input(\"ingresa nombre de moneda\")\n",
    "\n",
    "for k,v in divisas.items():\n",
    "    if(k=='dolar' or k=='dollar' or k=='Dollar'):\n",
    "        print(\"k\" in divisas)\n",
    "        print(str(k(v)))\n",
    "for k,v in divisas.items():\n",
    "    if(k=='Euro' or k=='euro'):\n",
    "        print(str(k(v)))\n",
    "for k,v in divisas.items():\n",
    "    if(k=='Yen' or k=='yen'):\n",
    "          print(str(k(v)))\n",
    "    else:\n",
    "        print(f\"divisa ,{moneda} ,no está en el diccionario\")\n",
    "    "
   ]
  },
  {
   "cell_type": "code",
   "execution_count": null,
   "metadata": {},
   "outputs": [],
   "source": [
    "#MAL\n",
    "divisas={\"Euro\":\"€\",\"Dollar\":\"$\",\"Yen\":\"¥\"}\n",
    "\n",
    "#print(\"k\" in divisas)\n",
    "#print(\"Dollar\" in divisas)\n",
    "moneda=str(input(\"ingresa nombre de moneda\"))\n",
    "for moneda,signo in divisas.items():\n",
    "    if(print(\"{moneda}\" in divisas)==True):\n",
    "        print(f\"{moneda} , {signo}\")\n",
    "        #print(list(divisas.values()))\n",
    "        #print(list(divisas.values())) \n",
    "    else:\n",
    "        print(\"nada\")\n",
    "        \n",
    "if(print(\"moneda\" in divisas)==False):\n",
    "    print(f\"divisa ,{moneda} ,no está en el diccionario\")\n",
    "\n",
    "\n"
   ]
  },
  {
   "cell_type": "code",
   "execution_count": null,
   "metadata": {},
   "outputs": [],
   "source": []
  },
  {
   "cell_type": "markdown",
   "metadata": {},
   "source": [
    "### Ejercicio 2\n",
    "Escribir un programa que pregunte al usuario su nombre, edad, dirección y teléfono y lo guarde en un diccionario. Después debe mostrar por pantalla el mensaje \\<nombre> tiene \\<edad> años, vive en \\<dirección> y su número de teléfono es \\<teléfono>."
   ]
  },
  {
   "cell_type": "code",
   "execution_count": null,
   "metadata": {},
   "outputs": [],
   "source": [
    "# Solución MAL\n",
    "\n",
    "\n",
    "datos={\"nombre\":\"\",\"edad\":(),\"direccion\":(),\"telefono\":()}\n",
    "for introduce in range(len(datos)):\n",
    "    entrada=input(\"Introduce{datos}\")\n",
    "    if(entrada>=0):\n",
    "        entrada=int(entrada)\n",
    "        print(f\"{entrada}\")\n",
    "        \n",
    "    else:\n",
    "        entrada=str(entrada)\n",
    "        \n",
    "        for i in range(len(datos)):\n",
    "            print(str(input(\"ingresa datos{i}\")))\n",
    "    "
   ]
  },
  {
   "cell_type": "code",
   "execution_count": null,
   "metadata": {},
   "outputs": [],
   "source": [
    "#BIEN\n",
    "datos = {}\n",
    "lDatos=[\"nombre\",\"edad\",\"direccion\",\"telefono\"]\n",
    "\n",
    "for dato in  lDatos:\n",
    "    tus_datos = input(f\"Introduce {dato}\")\n",
    "    if(dato!=\"edad\" and dato!=\"telefono\"):\n",
    "        datos[dato]=tus_datos\n",
    "    else:\n",
    "        datos[dato]=int(tus_datos)\n",
    "print(datos[\"nombre\"],\"tiene\",datos[\"edad\"],\"años , vive en\",datos[\"direccion\"],\"y su numero de telefono es\",datos[\"telefono\"])"
   ]
  },
  {
   "cell_type": "code",
   "execution_count": null,
   "metadata": {},
   "outputs": [],
   "source": []
  },
  {
   "cell_type": "markdown",
   "metadata": {},
   "source": [
    "### Ejercicio 3\n",
    "Escribir un programa que guarde en un diccionario los precios de las frutas de la tabla, pregunte al usuario por una fruta, un número de kilos y muestre por pantalla el precio de ese número de kilos de fruta. Si la fruta no está en el diccionario debe mostrar un mensaje informando de ello.\n",
    "<center>\n",
    "\n",
    "|Fruta|Precio|\n",
    "|:-:|:-:|\n",
    "|Plátano|20.0|\n",
    "|Manzana|30.0|\n",
    "|Pera|40.0|\n",
    "|Naranja|25.0|"
   ]
  },
  {
   "cell_type": "code",
   "execution_count": null,
   "metadata": {},
   "outputs": [],
   "source": [
    "# Solución MAL\n",
    "#producto={\"platano\":20.0,\"manzana\":30.0,\"pera\":40.0,\"naranja\":25.0}\n",
    "\n",
    "\n",
    "\n",
    "fruta={\"platano\":20.0,\"manzana\":30.0,\"pera\":40.0,\"naranja\":25.0}\n",
    "\n",
    "\n",
    "pedir=str(input(\"¿Qué fruta quieres?\"))\n",
    "kilos=int(input(f\"Kilos a pedir de {pedir}\"))\n",
    "print(f\"Costo de {kilos} de {pedir} es = \",fruta[pedir]*kilos)\n",
    "#print(kilos*{fruta[pedir]})\n",
    "#kilos*(fruta[\"pedir\"])\n",
    "#for pedir in fruta:\n",
    "        \n",
    "#    if(\"pedir\" in fruta):\n",
    "        #mostrar el precio de ese numero de kilos de fruta\n",
    "        #pl,ma,pe,na=fruta\n",
    "#        print(*kilos)\n",
    "        #print(kilos*{fruta[\"pedir\"]})\n",
    "#    else:\n",
    "    \n",
    "#        print(\"no está esa fruta\")\n",
    "#si la fruta no está en el diccionario, mostrar \"fruta no encontrada\""
   ]
  },
  {
   "cell_type": "code",
   "execution_count": null,
   "metadata": {},
   "outputs": [],
   "source": []
  },
  {
   "cell_type": "code",
   "execution_count": null,
   "metadata": {},
   "outputs": [],
   "source": [
    "#Solucion BIEN\n",
    "fruta={\"platano\":20.0,\"manzana\":30.0,\"pera\":40.0,\"naranja\":25.0}\n",
    "\n",
    "\n",
    "pedir=str(input(\"¿Qué fruta quieres?\"))\n",
    "kilos=int(input(f\"Kilos a pedir de {pedir}\"))\n",
    "print(f\"Costo de {kilos}kg de {pedir} es = \",fruta[pedir]*kilos)\n",
    "\n",
    "#hay que concatenar y traer el valor del diccionario asi(diccionario[clave])\n",
    "#añadido porque no se actualiza repositorio\n",
    "\n"
   ]
  },
  {
   "cell_type": "markdown",
   "metadata": {},
   "source": [
    "### Ejercicio 4\n",
    "Escribir un programa que pregunte una fecha en formato dd/mm/aaaa y muestre por pantalla la misma fecha en formato dd de \\<mes> de aaaa donde \\<mes> es el nombre del mes."
   ]
  },
  {
   "cell_type": "code",
   "execution_count": null,
   "metadata": {},
   "outputs": [],
   "source": [
    "# Solución BIEN\n",
    "fecha={}\n",
    "datos=[\"dd\",\"mm\",\"aaaa\"]\n",
    "nombre_mes={1:\"enero\",2:\"febrero\",3:\"marzo\",4:\"abril\",5:\"mayo\",6:\"junio\",7:\"julio\",8:\"agosto\",9:\"septiembre\",10:\"octubre\",11:\"noviembre\",12:\"diciembre\"}\n",
    "\n",
    "\n",
    "#relacionar lista y diccionario para introducir los valores en ediccionario\n",
    "for i in datos:\n",
    "    #pedir datos\n",
    "    usuario=(int(input(\"introducir{datos}\")))\n",
    "    fecha[i]=usuario\n",
    "#condicionales para saber si mm va de 1 a 12\n",
    "if(fecha[\"mm\"]>=1 and fecha[\"mm\"]<=12):\n",
    "    \n",
    "    #mostrar en pantalla, CONCATEANDO y usando diccionario.get(diccionario[\"key\"]) para el caso de mes\n",
    "\n",
    "    print(fecha[\"dd\"],\"de\",nombre_mes.get(fecha[\"mm\"]),\"de\",fecha[\"aaaa\"])    \n",
    "    #print(fecha[\"dd\"],\"de\",print(f\"fecha(mm)\"),\"de\",fecha[\"aaaa\"])    \n",
    "\n",
    " \n",
    "\n"
   ]
  },
  {
   "cell_type": "code",
   "execution_count": null,
   "metadata": {},
   "outputs": [],
   "source": [
    "if(fecha[mm]>=1 and fecha[mm<=12]):\n"
   ]
  },
  {
   "cell_type": "markdown",
   "metadata": {},
   "source": [
    "### Ejercicio 5\n",
    "Escribir un programa que almacene el diccionario con los créditos de las asignaturas de un curso {'Matemáticas': 6, 'Física': 4, 'Química': 5} y después muestre por pantalla los créditos de cada asignatura en el formato \\<asignatura> tiene \\<créditos> créditos, donde \\<asignatura> es cada una de las asignaturas del curso, y \\<créditos> son sus créditos. Al final debe mostrar también el número total de créditos del curso."
   ]
  },
  {
   "cell_type": "code",
   "execution_count": null,
   "metadata": {},
   "outputs": [],
   "source": [
    "# Solución\n",
    "creditos={\"matematicas\":6,\"fisica\":4,\"quimica\":5}\n",
    "\n",
    "for k,v in creditos.items(len[creditos]):\n",
    "    print(creditos[k], \"tiene\",creditos[v],\"creditos\")\n",
    "    suma_creditos=suma_creditos+creditos[v]\n",
    "print(suma_creditos)\n"
   ]
  },
  {
   "cell_type": "code",
   "execution_count": null,
   "metadata": {},
   "outputs": [],
   "source": [
    "# Solución\n",
    "creditos={\"matematicas\":6,\"fisica\":4,\"quimica\":5}\n",
    "suma_creditos=0\n",
    "\n",
    "for llave,valor in creditos.items():\n",
    "    #print(creditos[llave],\"tiene\",creditos.get(valor),\"creditos\")\n",
    "    #suma_creditos=suma_creditos+creditos[valor]\n",
    "    print(f\"{llave} tiene {valor} creditos\")\n",
    "    suma_creditos=suma_creditos+creditos.get(llave)\n",
    "print(f\"total de creditos del curso:{suma_creditos}\")"
   ]
  },
  {
   "cell_type": "markdown",
   "metadata": {},
   "source": [
    "### Ejercicio 6\n",
    "Escribir un programa que cree un diccionario vacío y lo vaya llenado con información sobre una persona (por ejemplo nombre, edad, sexo, teléfono, correo electrónico, etc.) que se le pida al usuario. Cada vez que se añada un nuevo dato debe imprimirse el contenido del diccionario."
   ]
  },
  {
   "cell_type": "code",
   "execution_count": null,
   "metadata": {},
   "outputs": [],
   "source": [
    "# Solución\n",
    "informacion={}\n",
    "datos=[\"nombre\",\"edad\",\"sexo\",\"telefono\",\"correo_electronico\"]\n",
    "\n",
    "for i in datos:\n",
    "    usuario=input(f\"introduce  {informacion}\")\n",
    "    print(usuario)\n",
    "    if(i!=\"edad\" and i!=\"telefono\"):\n",
    "        usuario=informacion[i]\n",
    "    else:\n",
    "        int(usuario)=informacion[i]"
   ]
  },
  {
   "cell_type": "markdown",
   "metadata": {},
   "source": [
    "### Ejercicio 7\n",
    "Escribir un programa que cree un diccionario simulando una cesta de la compra. El programa debe preguntar el artículo y su precio y añadir el par al diccionario, hasta que el usuario decida terminar. Después se debe mostrar por pantalla la lista de la compra y el coste total, con el siguiente formato:\n",
    "<center>\n",
    "\n",
    "|Lista de compras||\n",
    "|:-:|:-:|\n",
    "|Artículo 1|Precio 1|\n",
    "|Artículo 2|Precio 1|\n",
    "|Artículo 3|Precio 1|\n",
    "|...|...|\n",
    "|Total|Coste|"
   ]
  },
  {
   "cell_type": "code",
   "execution_count": null,
   "metadata": {},
   "outputs": [],
   "source": [
    "# Solución MAL\n",
    "cesta={}\n",
    "#lista_cesta=[\"producto\",\"precio\"]\n",
    "productos=[]\n",
    "precios=[]\n",
    "seguir=True\n",
    "#introducir productos y precios al diccionario\n",
    "\n",
    "\n",
    "\n",
    "while(seguir==True):\n",
    "    producto=str(input(\"introuce ARTICULO{p}\"))\n",
    "    #ingresar nombre de producto en la lista productos\n",
    "    productos.append(producto)\n",
    "    print(productos)\n",
    "    #print(cesta) \n",
    "\n",
    "\n",
    "\n",
    "    precio=int(input(\"introdice PRECIO del articulo{p}\"))\n",
    "    print(\"quiere comprar algo más?\")\n",
    "    \n",
    "    for i in cesta:\n",
    "        precio=cesta[cesta.get(producto)]\n",
    "        \n",
    "    \n",
    "    quiero_comprar=str(input(\"¿Seguir agregando a la CESTA? s/n\"))\n",
    "    if(quiero_comprar==\"n\" or quiero_comprar==\"no\"):\n",
    "        seguir==False\n",
    "        print(\"Fin\")\n",
    "        break\n",
    "        \n",
    "    else: \n",
    "        \n",
    "        pass\n",
    "        #if(quiero_comprar!=\"n\" or quiero_comprar!=\"no\"):\n",
    "        #quiero_comprar==True\n",
    "print(f\"esto es  quiero comprar:{quiero_comprar}\")\n",
    "\n",
    "##for precio in cesta:\n",
    "    #precios.append(precio)\n",
    "    #print(precios)\n",
    "    #introducir valor (precio) al producto p\n",
    "    ##precio=cesta[\"{producto}\"]\n",
    "    ##print(cesta)\n",
    "    \n",
    "#for precio in cesta:\n",
    "    #ingresar clave al diccionario\n",
    "    #producto=cesta[precio]\n",
    "    \n",
    "    \n",
    "#ingresar valor a la clave\n",
    "\n",
    "    \n",
    "\n",
    "    #suma de precios\n",
    "    #coste=coste+cesta.get(precio)\n",
    "\n",
    "#preguntar si quiere seguir agregando a la CESTA\n",
    "\n",
    " #   quiero_comprar=str(input(\"¿Seguir agregando a la CESTA? s/n\"))\n",
    " #   if(quiero_comprar==\"n\" or quiero_comprar==\"no\"):\n",
    " #       quiero_comprar=False\n",
    " #       print(\"Fin\")\n",
    "  #      break\n",
    "  #  else:\n",
    "  #      pass\n",
    "#iprimir el diccionario(cesta) con llos valores(precios)\n",
    "#imprimir el \"total\" y coste (suma de los precios)\n",
    "#print(precios)\n",
    "#print(productos)"
   ]
  },
  {
   "cell_type": "code",
   "execution_count": null,
   "metadata": {},
   "outputs": [],
   "source": [
    "# Solución\n",
    "cesta={}\n",
    "productos=[]\n",
    "precios=[]\n",
    "seguir=True\n",
    "coste=0\n",
    "#introducir productos y precios al diccionario\n",
    "\n",
    "\n",
    "\n",
    "while(seguir==True):\n",
    "    producto=str(input(\"introuce ARTICULO{p}\"))\n",
    "    productos.append(producto)\n",
    "    #print(productos)\n",
    "\n",
    "    \n",
    "    #for i in productos:\n",
    "    for i in [productos]:\n",
    "        precio=int(input(\"introdice PRECIO del articulo\"))\n",
    "        \n",
    "        #cesta[\"producto\"]=precio#aparee {'producto': 356}\n",
    "        cesta[producto]=precio\n",
    "        #cesta[\"producto\"]=precio\n",
    "        #print(cesta)\n",
    "        coste=coste+precio\n",
    "    \n",
    "        \n",
    "    print(\"quiere comprar algo más?\")\n",
    "    quiero_comprar=str(input(\"¿Seguir agregando a la CESTA? s/n\"))\n",
    "    if(quiero_comprar==\"n\" or quiero_comprar==\"no\"):\n",
    "        seguir==False\n",
    "        print(\"Fin\")\n",
    "        break\n",
    "        \n",
    "    else: \n",
    "        if(quiero_comprar==\"si\" or quiero_comprar==\"s\" or quiero_comprar==\"si quiero\"):\n",
    "            pass\n",
    "        else:\n",
    "            print(\"opcion no valida\")\n",
    "            print(\"quiere comprar algo más?\")\n",
    "            quiero_comprar=str(input(\"¿Seguir agregando a la CESTA? s/n\"))\n",
    "            if(quiero_comprar==\"si\" or quiero_comprar==\"s\" or quiero_comprar==\"si quiero\"):\n",
    "                pass\n",
    "            \n",
    "            \n",
    "print(cesta)\n",
    "\n",
    "print(\"LISTA DE COMPRAS\")\n",
    "for k,v in cesta.items():\n",
    "    print(f\"{k}____{v}\")\n",
    "print(f\"TOTAL____{coste}\")\n"
   ]
  },
  {
   "cell_type": "code",
   "execution_count": null,
   "metadata": {},
   "outputs": [],
   "source": []
  },
  {
   "cell_type": "code",
   "execution_count": null,
   "metadata": {},
   "outputs": [],
   "source": [
    "#BIEN\n",
    "datos = {}\n",
    "lDatos=[\"nombre\",\"edad\",\"direccion\",\"telefono\"]\n",
    "\n",
    "for dato in  lDatos:\n",
    "    tus_datos = input(f\"Introduce {dato}\")\n",
    "    if(dato!=\"edad\" and dato!=\"telefono\"):\n",
    "        datos[dato]=tus_datos\n",
    "    else:\n",
    "        datos[dato]=int(tus_datos)\n",
    "print(datos[\"nombre\"],\"tiene\",datos[\"edad\"],\"años , vive en\",datos[\"direccion\"],\"y su numero de telefono es\",datos[\"telefono\"])"
   ]
  },
  {
   "cell_type": "markdown",
   "metadata": {},
   "source": [
    "### Ejercicio 8\n",
    "Escribir un programa que cree un diccionario de traducción español-inglés. El usuario introducirá las palabras en español e inglés separadas por dos puntos, y cada par \\<palabra>:\\<traducción> separados por comas. El programa debe crear un diccionario con las palabras y sus traducciones. Después pedirá una frase en español y utilizará el diccionario para traducirla palabra a palabra. Si una palabra no está en el diccionario debe dejarla sin traducir."
   ]
  },
  {
   "cell_type": "code",
   "execution_count": null,
   "metadata": {},
   "outputs": [],
   "source": [
    "# Solución \n",
    "\n",
    "## introduciendo palabras y traducciones al diccionario\n",
    "traduccion={}\n",
    "ingles=[]\n",
    "ingresar_palabras=True\n",
    "while(ingresar_palabras==True):\n",
    "    palabra_ingles=input(\"ingresa palabra en ingles\")\n",
    "    #meter palabra ingles en lista ingles\n",
    "    ingles.append(palabra_ingles)\n",
    "    print(ingles)\n",
    "    #meter palabra_ingles , diccionario traduccion con palabra en español como valor\n",
    "    for i in [traduccion]:\n",
    "        palabra_espanol=input(f\"ingresa {palabra_ingles} , en español\")\n",
    "        traduccion[palabra_ingles]=palabra_espanol\n",
    "        #preguntar al usuario si quiere ingresar mas palabras\n",
    "    mas_palabras=input(\"¿INGRESAR MAS PALABRAS? s/n \")\n",
    "    if(mas_palabras==\"s\" or mas_palabras==\"si\" or mas_palabras==1):\n",
    "        ingresar_palabras==True\n",
    "    else:\n",
    "        if(mas_palabras==\"n\" or mas_palabras==\"no\" or mas_palabras==0):\n",
    "            ingresar_palabras==False\n",
    "            break\n",
    "        \n",
    "print(traduccion)        \n",
    "\n",
    "#pedr a usuario una frase en español\n",
    "frase=input(\"introduzca frase en español\")\n",
    "frase.split\n",
    "print(frase)\n",
    "#transformar frase en lista, palabra a palabra\n",
    "\n",
    "\n",
    "    \n",
    "   \n",
    "\n",
    "    #for e in traduccion:\n",
    "    #    palabra_espanol=input(f\"ingresa {palabra_ingles}, en español{e}\")"
   ]
  },
  {
   "cell_type": "code",
   "execution_count": null,
   "metadata": {},
   "outputs": [],
   "source": [
    "###para introduir frase y evaluarla palabra por palabra\n",
    "\n",
    "traduccion={'bear': 'oso', 'nohey': 'miel', 'tree': 'arbol', 'to eat': 'comer', 'tomorrow': 'mañana'}\n",
    "#pedr a usuario una frase en español\n",
    "frase=input(\"introduzca frase en español\")\n",
    "#dividir frase en cada palabra\n",
    "cortada=frase.split(\",\")\n",
    "#print(cortada)\n",
    "#buscar cada palabra en el diccionario\n",
    "for trad in cortada:\n",
    "    aux=trad.split(\":\")\n",
    "    traduccion[aux[0]]=aux[1]\n",
    "    #if(cortada in traduccion):\n",
    "        #print(traduccion.get[cortada])\n",
    "        #print(traduccion.keys(\"{cortada}\"))\n",
    "    print(traduccion.keys({cortada}))\n",
    "\n",
    "#    else:\n",
    "#        print(palabreishon)\n",
    "#transformar frase en lista, palabra a palabra"
   ]
  },
  {
   "cell_type": "code",
   "execution_count": null,
   "metadata": {},
   "outputs": [],
   "source": [
    "#usando orden de solucion\n",
    "\n",
    "traduccion={'bear': 'oso', 'nohey': 'miel', 'tree': 'arbol', 'to eat': 'comer', 'tomorrow': 'mañana'}\n",
    "#pedr a usuario una frase en español\n",
    "frase=input(\"introduzca frase en español\")\n",
    "#dividir frase en cada palabra\n",
    "cortada=frase.split(\",\")\n",
    "#print(cortada)\n",
    "#buscar cada palabra en el diccionario\n",
    "for cortada in traduccion.values():\n",
    "    if(cortada in traduccion):\n",
    "        #print(traduccion.get[cortada])\n",
    "        #print(traduccion.keys(\"{cortada}\"))\n",
    "        print(traduccion.keys({cortada}))\n",
    "        espanol=input(\"ingresa español\")\n",
    "print(traduccion.get(espanol,espanol))\n",
    "#    else:\n",
    "#        print(palabreishon)\n",
    "#transformar frase en lista, palabra a palabra"
   ]
  },
  {
   "cell_type": "markdown",
   "metadata": {},
   "source": [
    "### Ejercicio 9\n",
    "Escribir un programa que gestione las facturas pendientes de cobro de una empresa. Las facturas se almacenarán en un diccionario donde la clave de cada factura será el número de factura y el valor el coste de la factura. El programa debe preguntar al usuario si quiere añadir una nueva factura, pagar una existente o terminar. Si desea añadir una nueva factura se preguntará por el número de factura y su coste y se añadirá al diccionario. Si se desea pagar una factura se preguntará por el número de factura y se eliminará del diccionario. Después de cada operación el programa debe mostrar por pantalla la cantidad cobrada hasta el momento y la cantidad pendiente de cobro."
   ]
  },
  {
   "cell_type": "code",
   "execution_count": 12,
   "metadata": {},
   "outputs": [
    {
     "name": "stdout",
     "output_type": "stream",
     "text": [
      "Recaudado: 0\n",
      "Pendiente de cobro:  0\n",
      "{'1': 222.0}\n",
      "Recaudado: 0\n",
      "Pendiente de cobro:  0\n",
      "{'1': 222.0, '2': 233.0}\n",
      "Recaudado: 0\n",
      "Pendiente de cobro:  0\n",
      "{'1': 222.0, '2': 233.0, '3': 456.0}\n",
      "Recaudado: 0\n",
      "Pendiente de cobro:  0\n",
      "Vas a pagar una factura\n",
      "Recaudado: 222.0\n",
      "Pendiente de cobro:  -222.0\n",
      "Recaudado: 222.0\n",
      "Pendiente de cobro:  -222.0\n"
     ]
    },
    {
     "ename": "KeyboardInterrupt",
     "evalue": "Interrupted by user",
     "output_type": "error",
     "traceback": [
      "\u001b[1;31m---------------------------------------------------------------------------\u001b[0m",
      "\u001b[1;31mKeyboardInterrupt\u001b[0m                         Traceback (most recent call last)",
      "Cell \u001b[1;32mIn [12], line 31\u001b[0m\n\u001b[0;32m     28\u001b[0m \u001b[39mprint\u001b[39m(\u001b[39m'\u001b[39m\u001b[39mPendiente de cobro: \u001b[39m\u001b[39m'\u001b[39m, pendiente)\n\u001b[0;32m     30\u001b[0m \u001b[39m###TERMINAR T\u001b[39;00m\n\u001b[1;32m---> 31\u001b[0m opcion\u001b[39m=\u001b[39m\u001b[39minput\u001b[39;49m(\u001b[39m\"\u001b[39;49m\u001b[39mFACTURA: añadir(A), pagar(P), terminar(T)\u001b[39;49m\u001b[39m\"\u001b[39;49m)\n",
      "File \u001b[1;32m~\\AppData\\Roaming\\Python\\Python310\\site-packages\\ipykernel\\kernelbase.py:1177\u001b[0m, in \u001b[0;36mKernel.raw_input\u001b[1;34m(self, prompt)\u001b[0m\n\u001b[0;32m   1173\u001b[0m \u001b[39mif\u001b[39;00m \u001b[39mnot\u001b[39;00m \u001b[39mself\u001b[39m\u001b[39m.\u001b[39m_allow_stdin:\n\u001b[0;32m   1174\u001b[0m     \u001b[39mraise\u001b[39;00m StdinNotImplementedError(\n\u001b[0;32m   1175\u001b[0m         \u001b[39m\"\u001b[39m\u001b[39mraw_input was called, but this frontend does not support input requests.\u001b[39m\u001b[39m\"\u001b[39m\n\u001b[0;32m   1176\u001b[0m     )\n\u001b[1;32m-> 1177\u001b[0m \u001b[39mreturn\u001b[39;00m \u001b[39mself\u001b[39;49m\u001b[39m.\u001b[39;49m_input_request(\n\u001b[0;32m   1178\u001b[0m     \u001b[39mstr\u001b[39;49m(prompt),\n\u001b[0;32m   1179\u001b[0m     \u001b[39mself\u001b[39;49m\u001b[39m.\u001b[39;49m_parent_ident[\u001b[39m\"\u001b[39;49m\u001b[39mshell\u001b[39;49m\u001b[39m\"\u001b[39;49m],\n\u001b[0;32m   1180\u001b[0m     \u001b[39mself\u001b[39;49m\u001b[39m.\u001b[39;49mget_parent(\u001b[39m\"\u001b[39;49m\u001b[39mshell\u001b[39;49m\u001b[39m\"\u001b[39;49m),\n\u001b[0;32m   1181\u001b[0m     password\u001b[39m=\u001b[39;49m\u001b[39mFalse\u001b[39;49;00m,\n\u001b[0;32m   1182\u001b[0m )\n",
      "File \u001b[1;32m~\\AppData\\Roaming\\Python\\Python310\\site-packages\\ipykernel\\kernelbase.py:1219\u001b[0m, in \u001b[0;36mKernel._input_request\u001b[1;34m(self, prompt, ident, parent, password)\u001b[0m\n\u001b[0;32m   1216\u001b[0m             \u001b[39mbreak\u001b[39;00m\n\u001b[0;32m   1217\u001b[0m \u001b[39mexcept\u001b[39;00m \u001b[39mKeyboardInterrupt\u001b[39;00m:\n\u001b[0;32m   1218\u001b[0m     \u001b[39m# re-raise KeyboardInterrupt, to truncate traceback\u001b[39;00m\n\u001b[1;32m-> 1219\u001b[0m     \u001b[39mraise\u001b[39;00m \u001b[39mKeyboardInterrupt\u001b[39;00m(\u001b[39m\"\u001b[39m\u001b[39mInterrupted by user\u001b[39m\u001b[39m\"\u001b[39m) \u001b[39mfrom\u001b[39;00m \u001b[39mNone\u001b[39m\n\u001b[0;32m   1220\u001b[0m \u001b[39mexcept\u001b[39;00m \u001b[39mException\u001b[39;00m:\n\u001b[0;32m   1221\u001b[0m     \u001b[39mself\u001b[39m\u001b[39m.\u001b[39mlog\u001b[39m.\u001b[39mwarning(\u001b[39m\"\u001b[39m\u001b[39mInvalid Message:\u001b[39m\u001b[39m\"\u001b[39m, exc_info\u001b[39m=\u001b[39m\u001b[39mTrue\u001b[39;00m)\n",
      "\u001b[1;31mKeyboardInterrupt\u001b[0m: Interrupted by user"
     ]
    }
   ],
   "source": [
    "# Solución\n",
    "numero_factura=[]\n",
    "coste_factura=[]\n",
    "facturas={}\n",
    "opcion='o'\n",
    "coste_total=0\n",
    "cobrado=0\n",
    "pendiente=0\n",
    "while(opcion!=\"t\" or opcion!=\"T\"):\n",
    "    if(opcion==\"A\"):\n",
    "        ##############AÑADIR FACTURA A\n",
    "        #ingresar clave de factura y coste\n",
    "        nueva_factura=input(\"ingresa clave de factura\")\n",
    "        coste_nueva_factura=float(input(\"ingresa coste de nuva factura\"))\n",
    "        #añadir numero de factura a lista y su valor(coste)\n",
    "        facturas[nueva_factura]=coste_nueva_factura\n",
    "        print(facturas)\n",
    "        coste_total=coste_total+coste_nueva_factura\n",
    "        \n",
    "    #####################PAGAR UNA FACTURA P\n",
    "    if(opcion=='P'):\n",
    "        print(\"Vas a pagar una factura\")\n",
    "        clave = input('Introduce el número de la factura a pagar: ')\n",
    "        coste = facturas.pop(clave, 0)\n",
    "        cobrado += coste\n",
    "        pendiente -= coste\n",
    "    print('Recaudado:', cobrado)\n",
    "    print('Pendiente de cobro: ', pendiente)\n",
    "\n",
    "    ###TERMINAR T\n",
    "    opcion=input(\"FACTURA: añadir(A), pagar(P), terminar(T)\")\n"
   ]
  }
 ],
 "metadata": {
  "kernelspec": {
   "display_name": "Python 3.10.4 64-bit",
   "language": "python",
   "name": "python3"
  },
  "language_info": {
   "codemirror_mode": {
    "name": "ipython",
    "version": 3
   },
   "file_extension": ".py",
   "mimetype": "text/x-python",
   "name": "python",
   "nbconvert_exporter": "python",
   "pygments_lexer": "ipython3",
   "version": "3.10.4"
  },
  "orig_nbformat": 4,
  "vscode": {
   "interpreter": {
    "hash": "1b14cc28e908b3e60405afee52de7726ef4b45933adff97ba011d02847356674"
   }
  }
 },
 "nbformat": 4,
 "nbformat_minor": 2
}
