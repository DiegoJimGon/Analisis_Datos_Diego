{
 "cells": [
  {
   "cell_type": "markdown",
   "metadata": {},
   "source": [
    "# Ejercicios: Diccionarios"
   ]
  },
  {
   "cell_type": "markdown",
   "metadata": {},
   "source": [
    "### Ejercicio 1\n",
    "Escribir un programa que guarde en una variable el diccionario {'Euro':'€', 'Dollar':'$', 'Yen':'¥'}, pregunte al usuario por una divisa y muestre su símbolo o un mensaje de aviso si la divisa no está en el diccionario."
   ]
  },
  {
   "cell_type": "code",
   "execution_count": null,
   "metadata": {},
   "outputs": [],
   "source": [
    "# Solución BIEN\n",
    "divisas={'Euro':'€', 'Dollar':'$', 'Yen':'¥'}\n",
    "moneda=input(\"ingresa nombre de moneda\")\n",
    "\n",
    "if(moneda in  divisas):\n",
    "    print(divisas[moneda])\n",
    "else:\n",
    "    print(\"error\")\n",
    "\n",
    "\n",
    "#print((divisas.values()))\n",
    "\n",
    "#print(\"{moneda}\" in divisas)\n",
    "#print((divisas.values()))"
   ]
  },
  {
   "cell_type": "code",
   "execution_count": null,
   "metadata": {},
   "outputs": [],
   "source": []
  },
  {
   "cell_type": "code",
   "execution_count": null,
   "metadata": {},
   "outputs": [],
   "source": []
  },
  {
   "cell_type": "code",
   "execution_count": null,
   "metadata": {},
   "outputs": [],
   "source": [
    "y"
   ]
  },
  {
   "cell_type": "code",
   "execution_count": null,
   "metadata": {},
   "outputs": [],
   "source": [
    "# Solución MAL\n",
    "divisas={\"Euro\":\"€\",\"Dollar\":\"$\",\"Yen\":\"¥\"}\n",
    "moneda=input(\"ingresa nombre de moneda\")\n",
    "\n",
    "for k,v in divisas.items():\n",
    "    if(k=='dolar' or k=='dollar' or k=='Dollar'):\n",
    "        print(\"k\" in divisas)\n",
    "        print(str(k(v)))\n",
    "for k,v in divisas.items():\n",
    "    if(k=='Euro' or k=='euro'):\n",
    "        print(str(k(v)))\n",
    "for k,v in divisas.items():\n",
    "    if(k=='Yen' or k=='yen'):\n",
    "          print(str(k(v)))\n",
    "    else:\n",
    "        print(f\"divisa ,{moneda} ,no está en el diccionario\")\n",
    "    "
   ]
  },
  {
   "cell_type": "code",
   "execution_count": null,
   "metadata": {},
   "outputs": [],
   "source": [
    "#MAL\n",
    "divisas={\"Euro\":\"€\",\"Dollar\":\"$\",\"Yen\":\"¥\"}\n",
    "\n",
    "#print(\"k\" in divisas)\n",
    "#print(\"Dollar\" in divisas)\n",
    "moneda=str(input(\"ingresa nombre de moneda\"))\n",
    "for moneda,signo in divisas.items():\n",
    "    if(print(\"{moneda}\" in divisas)==True):\n",
    "        print(f\"{moneda} , {signo}\")\n",
    "        #print(list(divisas.values()))\n",
    "        #print(list(divisas.values())) \n",
    "    else:\n",
    "        print(\"nada\")\n",
    "        \n",
    "if(print(\"moneda\" in divisas)==False):\n",
    "    print(f\"divisa ,{moneda} ,no está en el diccionario\")\n",
    "\n",
    "\n"
   ]
  },
  {
   "cell_type": "code",
   "execution_count": null,
   "metadata": {},
   "outputs": [],
   "source": []
  },
  {
   "cell_type": "markdown",
   "metadata": {},
   "source": [
    "### Ejercicio 2\n",
    "Escribir un programa que pregunte al usuario su nombre, edad, dirección y teléfono y lo guarde en un diccionario. Después debe mostrar por pantalla el mensaje \\<nombre> tiene \\<edad> años, vive en \\<dirección> y su número de teléfono es \\<teléfono>."
   ]
  },
  {
   "cell_type": "code",
   "execution_count": null,
   "metadata": {},
   "outputs": [],
   "source": [
    "# Solución MAL\n",
    "\n",
    "\n",
    "datos={\"nombre\":\"\",\"edad\":(),\"direccion\":(),\"telefono\":()}\n",
    "for introduce in range(len(datos)):\n",
    "    entrada=input(\"Introduce{datos}\")\n",
    "    if(entrada>=0):\n",
    "        entrada=int(entrada)\n",
    "        print(f\"{entrada}\")\n",
    "        \n",
    "    else:\n",
    "        entrada=str(entrada)\n",
    "        \n",
    "        for i in range(len(datos)):\n",
    "            print(str(input(\"ingresa datos{i}\")))\n",
    "    "
   ]
  },
  {
   "cell_type": "code",
   "execution_count": null,
   "metadata": {},
   "outputs": [],
   "source": [
    "#BIEN\n",
    "datos = {}\n",
    "lDatos=[\"nombre\",\"edad\",\"direccion\",\"telefono\"]\n",
    "\n",
    "for dato in  lDatos:\n",
    "    tus_datos = input(f\"Introduce {dato}\")\n",
    "    if(dato!=\"edad\" and dato!=\"telefono\"):\n",
    "        datos[dato]=tus_datos\n",
    "    else:\n",
    "        datos[dato]=int(tus_datos)\n",
    "print(datos[\"nombre\"],\"tiene\",datos[\"edad\"],\"años , vive en\",datos[\"direccion\"],\"y su numero de telefono es\",datos[\"telefono\"])"
   ]
  },
  {
   "cell_type": "code",
   "execution_count": null,
   "metadata": {},
   "outputs": [],
   "source": []
  },
  {
   "cell_type": "markdown",
   "metadata": {},
   "source": [
    "### Ejercicio 3\n",
    "Escribir un programa que guarde en un diccionario los precios de las frutas de la tabla, pregunte al usuario por una fruta, un número de kilos y muestre por pantalla el precio de ese número de kilos de fruta. Si la fruta no está en el diccionario debe mostrar un mensaje informando de ello.\n",
    "<center>\n",
    "\n",
    "|Fruta|Precio|\n",
    "|:-:|:-:|\n",
    "|Plátano|20.0|\n",
    "|Manzana|30.0|\n",
    "|Pera|40.0|\n",
    "|Naranja|25.0|"
   ]
  },
  {
   "cell_type": "code",
   "execution_count": null,
   "metadata": {},
   "outputs": [],
   "source": [
    "# Solución MAL\n",
    "#producto={\"platano\":20.0,\"manzana\":30.0,\"pera\":40.0,\"naranja\":25.0}\n",
    "\n",
    "\n",
    "\n",
    "fruta={\"platano\":20.0,\"manzana\":30.0,\"pera\":40.0,\"naranja\":25.0}\n",
    "\n",
    "\n",
    "pedir=str(input(\"¿Qué fruta quieres?\"))\n",
    "kilos=int(input(f\"Kilos a pedir de {pedir}\"))\n",
    "print(f\"Costo de {kilos} de {pedir} es = \",fruta[pedir]*kilos)\n",
    "#print(kilos*{fruta[pedir]})\n",
    "#kilos*(fruta[\"pedir\"])\n",
    "#for pedir in fruta:\n",
    "        \n",
    "#    if(\"pedir\" in fruta):\n",
    "        #mostrar el precio de ese numero de kilos de fruta\n",
    "        #pl,ma,pe,na=fruta\n",
    "#        print(*kilos)\n",
    "        #print(kilos*{fruta[\"pedir\"]})\n",
    "#    else:\n",
    "    \n",
    "#        print(\"no está esa fruta\")\n",
    "#si la fruta no está en el diccionario, mostrar \"fruta no encontrada\""
   ]
  },
  {
   "cell_type": "code",
   "execution_count": null,
   "metadata": {},
   "outputs": [],
   "source": []
  },
  {
   "cell_type": "code",
   "execution_count": null,
   "metadata": {},
   "outputs": [],
   "source": [
    "#Solucion BIEN\n",
    "fruta={\"platano\":20.0,\"manzana\":30.0,\"pera\":40.0,\"naranja\":25.0}\n",
    "\n",
    "\n",
    "pedir=str(input(\"¿Qué fruta quieres?\"))\n",
    "kilos=int(input(f\"Kilos a pedir de {pedir}\"))\n",
    "print(f\"Costo de {kilos}kg de {pedir} es = \",fruta[pedir]*kilos)\n",
    "\n",
    "#hay que concatenar y traer el valor del diccionario asi(diccionario[clave])\n",
    "#añadido porque no se actualiza repositorio\n",
    "\n"
   ]
  },
  {
   "cell_type": "markdown",
   "metadata": {},
   "source": [
    "### Ejercicio 4\n",
    "Escribir un programa que pregunte una fecha en formato dd/mm/aaaa y muestre por pantalla la misma fecha en formato dd de \\<mes> de aaaa donde \\<mes> es el nombre del mes."
   ]
  },
  {
   "cell_type": "code",
   "execution_count": null,
   "metadata": {},
   "outputs": [],
   "source": [
    "# Solución BIEN\n",
    "fecha={}\n",
    "datos=[\"dd\",\"mm\",\"aaaa\"]\n",
    "nombre_mes={1:\"enero\",2:\"febrero\",3:\"marzo\",4:\"abril\",5:\"mayo\",6:\"junio\",7:\"julio\",8:\"agosto\",9:\"septiembre\",10:\"octubre\",11:\"noviembre\",12:\"diciembre\"}\n",
    "\n",
    "\n",
    "#relacionar lista y diccionario para introducir los valores en ediccionario\n",
    "for i in datos:\n",
    "    #pedir datos\n",
    "    usuario=(int(input(\"introducir{datos}\")))\n",
    "    fecha[i]=usuario\n",
    "#condicionales para saber si mm va de 1 a 12\n",
    "if(fecha[\"mm\"]>=1 and fecha[\"mm\"]<=12):\n",
    "    \n",
    "    #mostrar en pantalla, CONCATEANDO y usando diccionario.get(diccionario[\"key\"]) para el caso de mes\n",
    "\n",
    "    print(fecha[\"dd\"],\"de\",nombre_mes.get(fecha[\"mm\"]),\"de\",fecha[\"aaaa\"])    \n",
    "    #print(fecha[\"dd\"],\"de\",print(f\"fecha(mm)\"),\"de\",fecha[\"aaaa\"])    \n",
    "\n",
    " \n",
    "\n"
   ]
  },
  {
   "cell_type": "code",
   "execution_count": null,
   "metadata": {},
   "outputs": [],
   "source": [
    "if(fecha[mm]>=1 and fecha[mm<=12]):\n"
   ]
  },
  {
   "cell_type": "markdown",
   "metadata": {},
   "source": [
    "### Ejercicio 5\n",
    "Escribir un programa que almacene el diccionario con los créditos de las asignaturas de un curso {'Matemáticas': 6, 'Física': 4, 'Química': 5} y después muestre por pantalla los créditos de cada asignatura en el formato \\<asignatura> tiene \\<créditos> créditos, donde \\<asignatura> es cada una de las asignaturas del curso, y \\<créditos> son sus créditos. Al final debe mostrar también el número total de créditos del curso."
   ]
  },
  {
   "cell_type": "code",
   "execution_count": null,
   "metadata": {},
   "outputs": [],
   "source": [
    "# Solución\n",
    "creditos={\"matematicas\":6,\"fisica\":4,\"quimica\":5}\n",
    "\n",
    "for k,v in creditos.items(len[creditos]):\n",
    "    print(creditos[k], \"tiene\",creditos[v],\"creditos\")\n",
    "    suma_creditos=suma_creditos+creditos[v]\n",
    "print(suma_creditos)\n"
   ]
  },
  {
   "cell_type": "code",
   "execution_count": null,
   "metadata": {},
   "outputs": [],
   "source": [
    "# Solución\n",
    "creditos={\"matematicas\":6,\"fisica\":4,\"quimica\":5}\n",
    "suma_creditos=0\n",
    "\n",
    "for llave,valor in creditos.items():\n",
    "    #print(creditos[llave],\"tiene\",creditos.get(valor),\"creditos\")\n",
    "    #suma_creditos=suma_creditos+creditos[valor]\n",
    "    print(f\"{llave} tiene {valor} creditos\")\n",
    "    suma_creditos=suma_creditos+creditos.get(llave)\n",
    "print(f\"total de creditos del curso:{suma_creditos}\")"
   ]
  },
  {
   "cell_type": "markdown",
   "metadata": {},
   "source": [
    "### Ejercicio 6\n",
    "Escribir un programa que cree un diccionario vacío y lo vaya llenado con información sobre una persona (por ejemplo nombre, edad, sexo, teléfono, correo electrónico, etc.) que se le pida al usuario. Cada vez que se añada un nuevo dato debe imprimirse el contenido del diccionario."
   ]
  },
  {
   "cell_type": "code",
   "execution_count": null,
   "metadata": {},
   "outputs": [],
   "source": [
    "# Solución\n",
    "informacion={}\n",
    "datos=[\"nombre\",\"edad\",\"sexo\",\"telefono\",\"correo_electronico\"]\n",
    "\n",
    "for i in datos:\n",
    "    usuario=input(f\"introduce  {informacion}\")\n",
    "    print(usuario)\n",
    "    if(i!=\"edad\" and i!=\"telefono\"):\n",
    "        usuario=informacion[i]\n",
    "    else:\n",
    "        int(usuario)=informacion[i]"
   ]
  },
  {
   "cell_type": "markdown",
   "metadata": {},
   "source": [
    "### Ejercicio 7\n",
    "Escribir un programa que cree un diccionario simulando una cesta de la compra. El programa debe preguntar el artículo y su precio y añadir el par al diccionario, hasta que el usuario decida terminar. Después se debe mostrar por pantalla la lista de la compra y el coste total, con el siguiente formato:\n",
    "<center>\n",
    "\n",
    "|Lista de compras||\n",
    "|:-:|:-:|\n",
    "|Artículo 1|Precio 1|\n",
    "|Artículo 2|Precio 1|\n",
    "|Artículo 3|Precio 1|\n",
    "|...|...|\n",
    "|Total|Coste|"
   ]
  },
  {
   "cell_type": "code",
   "execution_count": 3,
   "metadata": {},
   "outputs": [
    {
     "ename": "KeyboardInterrupt",
     "evalue": "",
     "output_type": "error",
     "traceback": [
      "\u001b[1;31m---------------------------------------------------------------------------\u001b[0m",
      "\u001b[1;31mKeyboardInterrupt\u001b[0m                         Traceback (most recent call last)",
      "Cell \u001b[1;32mIn [3], line 6\u001b[0m\n\u001b[0;32m      4\u001b[0m quiero_comprar\u001b[39m=\u001b[39m\u001b[39mTrue\u001b[39;00m\n\u001b[0;32m      5\u001b[0m \u001b[39m#introducir productos y precios al diccionario\u001b[39;00m\n\u001b[1;32m----> 6\u001b[0m \u001b[39mwhile\u001b[39;00m(quiero_comprar\u001b[39m==\u001b[39;49m\u001b[39mTrue\u001b[39;49;00m):\n\u001b[0;32m      7\u001b[0m     \u001b[39mfor\u001b[39;00m p \u001b[39min\u001b[39;00m cesta:\n\u001b[0;32m      8\u001b[0m         producto\u001b[39m=\u001b[39m\u001b[39mstr\u001b[39m(\u001b[39minput\u001b[39m(\u001b[39m\"\u001b[39m\u001b[39mintrouce ARTICULO\u001b[39m\u001b[39m{p}\u001b[39;00m\u001b[39m\"\u001b[39m))\n",
      "\u001b[1;31mKeyboardInterrupt\u001b[0m: "
     ]
    }
   ],
   "source": [
    "# Solución\n",
    "cesta={}\n",
    "lista_cesta=[\"producto\",\"precio\",\"total\"]\n",
    "quiero_comprar=True\n",
    "#introducir productos y precios al diccionario\n",
    "while(quiero_comprar==\"s\"):\n",
    "    for p in cesta:\n",
    "        producto=str(input(\"introuce ARTICULO{p}\"))\n",
    "        produto=cesta[\"producto\"]\n",
    "        precio=int(input(\"introdice PRECIO del articulo{p}\"))\n",
    "        precio=cesta[producto]\n",
    "        \n",
    "        #suma de precios\n",
    "        coste=coste+cesta.get(precio)\n",
    "\n",
    "#preguntar si quiere seguir agregando a la CESTA\n",
    "#    int(input(\"¿Seguir agregando a la CESTA? s/n\"))\n",
    "#    if(quiero_comprar==\"n\" or quiero_comprar==\"no\"):\n",
    "#        quiero_comprar=False\n",
    "#        print(\"Fin\")\n",
    "#        break\n",
    "    \n",
    "#iprimir el diccionario(cesta) con llos valores(precios)\n",
    "\n",
    "#imprimir el \"total\" y coste (suma de los precios)\n",
    "\n",
    "\n"
   ]
  },
  {
   "cell_type": "code",
   "execution_count": null,
   "metadata": {},
   "outputs": [],
   "source": []
  },
  {
   "cell_type": "code",
   "execution_count": null,
   "metadata": {},
   "outputs": [],
   "source": []
  },
  {
   "cell_type": "code",
   "execution_count": null,
   "metadata": {},
   "outputs": [],
   "source": []
  },
  {
   "cell_type": "markdown",
   "metadata": {},
   "source": [
    "### Ejercicio 8\n",
    "Escribir un programa que cree un diccionario de traducción español-inglés. El usuario introducirá las palabras en español e inglés separadas por dos puntos, y cada par \\<palabra>:\\<traducción> separados por comas. El programa debe crear un diccionario con las palabras y sus traducciones. Después pedirá una frase en español y utilizará el diccionario para traducirla palabra a palabra. Si una palabra no está en el diccionario debe dejarla sin traducir."
   ]
  },
  {
   "cell_type": "code",
   "execution_count": null,
   "metadata": {},
   "outputs": [],
   "source": [
    "# Solución"
   ]
  },
  {
   "cell_type": "markdown",
   "metadata": {},
   "source": [
    "### Ejercicio 9\n",
    "Escribir un programa que gestione las facturas pendientes de cobro de una empresa. Las facturas se almacenarán en un diccionario donde la clave de cada factura será el número de factura y el valor el coste de la factura. El programa debe preguntar al usuario si quiere añadir una nueva factura, pagar una existente o terminar. Si desea añadir una nueva factura se preguntará por el número de factura y su coste y se añadirá al diccionario. Si se desea pagar una factura se preguntará por el número de factura y se eliminará del diccionario. Después de cada operación el programa debe mostrar por pantalla la cantidad cobrada hasta el momento y la cantidad pendiente de cobro."
   ]
  },
  {
   "cell_type": "code",
   "execution_count": null,
   "metadata": {},
   "outputs": [],
   "source": [
    "# Solución"
   ]
  }
 ],
 "metadata": {
  "kernelspec": {
   "display_name": "Python 3.10.4 64-bit",
   "language": "python",
   "name": "python3"
  },
  "language_info": {
   "codemirror_mode": {
    "name": "ipython",
    "version": 3
   },
   "file_extension": ".py",
   "mimetype": "text/x-python",
   "name": "python",
   "nbconvert_exporter": "python",
   "pygments_lexer": "ipython3",
   "version": "3.10.4"
  },
  "orig_nbformat": 4,
  "vscode": {
   "interpreter": {
    "hash": "1b14cc28e908b3e60405afee52de7726ef4b45933adff97ba011d02847356674"
   }
  }
 },
 "nbformat": 4,
 "nbformat_minor": 2
}
