{
 "cells": [
  {
   "cell_type": "markdown",
   "metadata": {},
   "source": [
    "# Ejercicios: Estructura condicional"
   ]
  },
  {
   "cell_type": "markdown",
   "metadata": {},
   "source": [
    "### Ejercicio 1\n",
    "Escribir un programa que pregunte al usuario su edad y muestre por pantalla si es mayor de edad o no."
   ]
  },
  {
   "cell_type": "code",
   "execution_count": 4,
   "metadata": {},
   "outputs": [
    {
     "name": "stdout",
     "output_type": "stream",
     "text": [
      "con -2, no eres mayor de edad\n"
     ]
    }
   ],
   "source": [
    "# Solución\n",
    "edad=int(input(\"ingrese edad\"))\n",
    "if(18<=edad):\n",
    "    print(f\"con {edad}, eres mayor de edad\")\n",
    "else:\n",
    "    print(f\"con {edad}, no eres mayor de edad\") "
   ]
  },
  {
   "cell_type": "markdown",
   "metadata": {},
   "source": [
    "### Ejercicio 2\n",
    "Escribir un programa que almacene una <span style=\"color:#66D9EF\">contraseña</span> en una variable, pregunte al usuario por la <span style=\"color:#66D9EF\">contraseña</span> e imprima por pantalla si la <span style=\"color:#66D9EF\">contraseña</span> introducida por el usuario coincide con la guardada en la variable sin tener en cuenta mayúsculas y minúsculas."
   ]
  },
  {
   "cell_type": "code",
   "execution_count": 1,
   "metadata": {},
   "outputs": [
    {
     "name": "stdout",
     "output_type": "stream",
     "text": [
      "contraseña correcta\n"
     ]
    }
   ],
   "source": [
    "# Solución\n",
    "contrasenia=\"HolaLuna1\" \n",
    "while(True):\n",
    "    ingresa_contrasenia = input(\"ingrese contraseña\")\n",
    "    if (ingresa_contrasenia.upper() == contrasenia.upper()):\n",
    "        break\n",
    "    print(\"contraseña introducida no coincide con la contraseña guardada\")\n",
    "print(\"contraseña correcta\")\n",
    "\n",
    "\n",
    "    \n"
   ]
  },
  {
   "cell_type": "markdown",
   "metadata": {},
   "source": [
    "### Ejercicio 3\n",
    "Escribir un programa que pida al usuario dos números y muestre por pantalla su división. Si el divisor es cero el programa debe mostrar un error."
   ]
  },
  {
   "cell_type": "code",
   "execution_count": 16,
   "metadata": {},
   "outputs": [
    {
     "name": "stdout",
     "output_type": "stream",
     "text": [
      "error\n"
     ]
    }
   ],
   "source": [
    "# Solución\n",
    "num_1=int(input(\"ingresar numero\"))\n",
    "num_2=int(input(\"ingresar otro numero\"))\n",
    "if(num_2!=0):\n",
    "    division=num_1//num_2\n",
    "    print(f\"{num_1} entre {num_2} es igual a {division}\")\n",
    "    \n",
    "else:\n",
    "    print(\"error\")"
   ]
  },
  {
   "cell_type": "code",
   "execution_count": null,
   "metadata": {},
   "outputs": [],
   "source": []
  },
  {
   "cell_type": "markdown",
   "metadata": {},
   "source": [
    "### Ejercicio 4\n",
    "Escribir un programa que pida al usuario un número entero y muestre por pantalla si es par o impar."
   ]
  },
  {
   "cell_type": "code",
   "execution_count": 15,
   "metadata": {},
   "outputs": [
    {
     "name": "stdout",
     "output_type": "stream",
     "text": [
      "numero ingresado 4 es par\n"
     ]
    }
   ],
   "source": [
    "# Solución\n",
    "num=int(input(\"ingresa numero entero\"))\n",
    "\n",
    "if(num%2==0):\n",
    "    print(f\"numero ingresado {num} es par\")\n",
    "else:\n",
    "    print(f\"numero {num} es impar\")"
   ]
  },
  {
   "cell_type": "markdown",
   "metadata": {},
   "source": [
    "### Ejercicio 5\n",
    "Para pagar un determinado impuesto se debe ser mayor de 16 años y tener unos ingresos iguales o superiores a $5000 mensuales. Escribir un programa que pregunte al usuario su edad y sus ingresos mensuales y muestre por pantalla si el usuario tiene que pagar o no."
   ]
  },
  {
   "cell_type": "code",
   "execution_count": 3,
   "metadata": {},
   "outputs": [
    {
     "name": "stdout",
     "output_type": "stream",
     "text": [
      "no debe pagar impuesto\n"
     ]
    }
   ],
   "source": [
    "# Solución\n",
    "\n",
    "pregunta_edad=int(input(\"¿Cuál es tu edad?\"))\n",
    "pregunta_ingresos=float(input(\"Escribe Ingreso mensual\"))\n",
    "if(pregunta_edad>=16 and pregunta_ingresos>= 5000):\n",
    "    print(f\"con {pregunta_edad} años y {pregunta_ingresos} de ingreso mensual, el ususario debe pagar el impuesto\")\n",
    "else:\n",
    "    print(\"no debe pagar impuesto\")\n",
    "    \n"
   ]
  },
  {
   "cell_type": "code",
   "execution_count": null,
   "metadata": {},
   "outputs": [],
   "source": []
  },
  {
   "cell_type": "code",
   "execution_count": null,
   "metadata": {},
   "outputs": [],
   "source": []
  },
  {
   "cell_type": "markdown",
   "metadata": {},
   "source": [
    "### Ejercicio 6\n",
    "Los alumnos de un curso se han dividido en dos grupos A y B de acuerdo al sexo y el nombre. El grupo A esta formado por las mujeres con un nombre anterior a la M y los hombres con un nombre posterior a la N y el grupo B por el resto. Escribir un programa que pregunte al usuario su nombre y sexo, y muestre por pantalla el grupo que le corresponde."
   ]
  },
  {
   "cell_type": "code",
   "execution_count": 11,
   "metadata": {},
   "outputs": [
    {
     "name": "stdout",
     "output_type": "stream",
     "text": [
      "grupo B\n"
     ]
    }
   ],
   "source": [
    "# Solución\n",
    "sexo=input(\"sexo H/M\")\n",
    "nombre=input(\"ingresar nombre\")\n",
    "\n",
    "\n",
    "if(sexo=='M' and nombre[0]>'N' or sexo.lower()=='H'and nombre[0]>'N'):\n",
    "    print(\"grupo A\")\n",
    "else:\n",
    "    print(\"grupo B\")\n",
    "\n"
   ]
  },
  {
   "cell_type": "markdown",
   "metadata": {},
   "source": [
    "### Ejercicio 7\n",
    "En una determinada empresa, sus empleados son evaluados al final de cada año. Los puntos que pueden obtener en la evaluación comienzan en 0.0 y pueden ir aumentando, traduciéndose en mejores beneficios. Los puntos que pueden conseguir los empleados pueden ser 0.0, 0.4, 0.6 o más, pero no valores intermedios entre las cifras mencionadas. A continuación se muestra una tabla con los niveles correspondientes a cada puntuación. La cantidad de dinero conseguida en cada nivel es de $2,400 multiplicada por la puntuación del nivel.\n",
    "<center>\n",
    "\n",
    "|Nivel|Puntuación|\n",
    "|:-:|:-:|\n",
    "|Inaceptable|0.0|\n",
    "|Aceptable|0.4|\n",
    "|Meritorio|0.6 o más|\n",
    "\n",
    "Escribir un programa que lea la puntuación del usuario e indique su nivel de rendimiento, así como la cantidad de dinero que recibirá el usuario.\n",
    "\n",
    "\n"
   ]
  },
  {
   "cell_type": "code",
   "execution_count": 7,
   "metadata": {},
   "outputs": [
    {
     "name": "stdout",
     "output_type": "stream",
     "text": [
      "rendimiento0.0 con cantidad a recibir : 0.0\n"
     ]
    }
   ],
   "source": [
    "# Solución\n",
    "puntuacion=float(input(\"Inglesar puntuacion\"))\n",
    "dinero_conseguido=float(2400)\n",
    "\n",
    "\n",
    "if(puntuacion==0.0):\n",
    "    puntos_inaceptable=puntuacion*dinero_conseguido\n",
    "    print(f\"rendimiento{puntuacion} con cantidad a recibir : {puntos_inaceptable}\")\n",
    "    \n",
    "elif(puntuacion==0.4):\n",
    "    puntos_aceptable=puntuacion*dinero_conseguido\n",
    "    print(f\"rendimiento{puntuacion} con cantidad a recibir : {puntos_aceptable}\")\n",
    "elif(puntuacion>=0.6):\n",
    "    puntos_meritorio=puntuacion*dinero_conseguido\n",
    "    print(f\"rendimiento,{puntuacion} con cantidad a recibir : {puntos_meritorio}\")\n",
    "     \n",
    "else:\n",
    "    print(\"ingrese una puntuación valida (0.0, 0.4 0.6 ó más)\")"
   ]
  },
  {
   "cell_type": "markdown",
   "metadata": {},
   "source": [
    "### Ejercicio 8\n",
    "Escribir un programa para una empresa que tiene salas de juegos para todas las edades y quiere calcular de forma automática el precio que debe cobrar a sus clientes por entrar. El programa debe preguntar al usuario la edad del cliente y mostrar el precio de la entrada. Si el cliente es menor de 4 años puede entrar gratis, si tiene entre 4 y 18 años debe pagar $5 y si es mayor de 18 años, $10."
   ]
  },
  {
   "cell_type": "code",
   "execution_count": 15,
   "metadata": {},
   "outputs": [
    {
     "name": "stdout",
     "output_type": "stream",
     "text": [
      "usuario paga ${precio_0} ; entra gratis\n"
     ]
    }
   ],
   "source": [
    "# Solucióne\n",
    "edad_cliente=int(input(\"ingresa años cumplidos\"))\n",
    "\n",
    "precio_0=0\n",
    "precio_1=5\n",
    "precio_2=10\n",
    "\n",
    "\n",
    "if(4<=edad_cliente and edad_cliente<=18):\n",
    "    print(f\"usuario debe pagar,${precio_1}\")\n",
    "elif(edad_cliente>18):\n",
    "    print(f\"usuario debe pagar :${precio_2}\")\n",
    "else:\n",
    "    print(f\"usuario paga ${precio_0} ; entra gratis\")\n",
    "\n"
   ]
  },
  {
   "cell_type": "code",
   "execution_count": null,
   "metadata": {},
   "outputs": [],
   "source": []
  },
  {
   "cell_type": "markdown",
   "metadata": {},
   "source": [
    "### Ejercicio 9\n",
    "La pizzería Planeta ofrece pizzas vegetarianas y no vegetarianas a sus clientes. Los ingredientes para cada tipo de pizza aparecen a continuación.  \n",
    "\n",
    "* Vegetarianos: Pimiento y tofu.  \n",
    "* No vegetarianos: Peperoni, Jamón y Salmón.  \n",
    "\n",
    "Escribir un programa que pregunte al usuario si quiere una pizza vegetariana o no, y en función de su respuesta le muestre un menú con los ingredientes disponibles para que elija. Solo se puede eligir un ingrediente además de la mozzarella y el tomate que están en todas la pizzas. Al final se debe mostrar por pantalla si la pizza elegida es vegetariana o no y todos los ingredientes que lleva.\n",
    "\n",
    "\n"
   ]
  },
  {
   "cell_type": "code",
   "execution_count": 31,
   "metadata": {},
   "outputs": [
    {
     "name": "stdout",
     "output_type": "stream",
     "text": [
      "Seleccionó pizza NO VEGETARIANA\n",
      "ingredientes no vegetarianos: -Peperoni -Jamon _Salmon\n"
     ]
    }
   ],
   "source": [
    "# Solución\n",
    "pizza_vegetariana=input(\"¿Quiere pizza venetariana? s/n\")\n",
    "\n",
    "\n",
    "if(pizza_vegetariana=='s'):\n",
    "    print(\"Seleccionó pizza VEGETARIANA\")\n",
    "    print(\"Vegetarianos: ELEGIR INGREDIENTES _Pimiento _TOFU\")\n",
    "    ingrediente_vegetariano=(input(\"escribe el ingrediente de tu eleccion\"))\n",
    "    \n",
    "    \n",
    "    if(ingrediente_vegetariano.lower()=='pimiento' or ingrediente_vegetariano.lower()=='tofu'):\n",
    "        print(f\"La pizza es vegetariana\")\n",
    "        print(ingrediente_vegetariano)\n",
    "        print(\"_Tomate\")\n",
    "        print(\"_Mozzarela\")\n",
    "        \n",
    "    \n",
    "else:\n",
    "    print(\"Seleccionó pizza NO VEGETARIANA\")\n",
    "    print(\"ingredientes no vegetarianos: -Peperoni -Jamon _Salmon\")\n",
    "    ingrediente_carnivoro=(input(\"escribe el ingrediente de tu eleccion\"))\n",
    "\n",
    "    if(ingrediente_carnivoro.lower()=='peperoni' or ingrediente_carnivoro.lower()=='jamon'):\n",
    "        print(f\"La pizza es vegetariana\")\n",
    "        print(ingrediente_carnivoro)\n",
    "        print(\"_Tomate\")\n",
    "        print(\"_Mozzarela\")\n",
    "\n",
    "\n",
    "\n",
    "    "
   ]
  },
  {
   "cell_type": "code",
   "execution_count": null,
   "metadata": {},
   "outputs": [],
   "source": []
  },
  {
   "cell_type": "code",
   "execution_count": null,
   "metadata": {},
   "outputs": [],
   "source": []
  },
  {
   "cell_type": "code",
   "execution_count": null,
   "metadata": {},
   "outputs": [],
   "source": []
  },
  {
   "cell_type": "code",
   "execution_count": null,
   "metadata": {},
   "outputs": [],
   "source": []
  },
  {
   "cell_type": "code",
   "execution_count": null,
   "metadata": {},
   "outputs": [],
   "source": []
  },
  {
   "cell_type": "code",
   "execution_count": null,
   "metadata": {},
   "outputs": [],
   "source": []
  },
  {
   "cell_type": "code",
   "execution_count": null,
   "metadata": {},
   "outputs": [],
   "source": []
  }
 ],
 "metadata": {
  "kernelspec": {
   "display_name": "Python 3.10.5 64-bit",
   "language": "python",
   "name": "python3"
  },
  "language_info": {
   "codemirror_mode": {
    "name": "ipython",
    "version": 3
   },
   "file_extension": ".py",
   "mimetype": "text/x-python",
   "name": "python",
   "nbconvert_exporter": "python",
   "pygments_lexer": "ipython3",
   "version": "3.10.5"
  },
  "orig_nbformat": 4,
  "vscode": {
   "interpreter": {
    "hash": "77abe205c72c096294b3a4a26264acecc5dbf8fb16ba6ed375b92e4d65784221"
   }
  }
 },
 "nbformat": 4,
 "nbformat_minor": 2
}
