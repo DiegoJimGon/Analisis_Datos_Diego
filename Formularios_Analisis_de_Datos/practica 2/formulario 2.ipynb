{
 "cells": [
  {
   "cell_type": "markdown",
   "metadata": {},
   "source": [
    "Subir por cada pregunta un archivo con extensión py, a cada archivo se el puede colocar el nombre del ejercicio, ejemplo( ejercicio_4.py o ejercicio4.py), o el nombre del algoritmo (pormedio_3numeros.py)"
   ]
  },
  {
   "cell_type": "markdown",
   "metadata": {},
   "source": [
    "Práctica 2 - Números enteros y reales.\n",
    "Escribir un programa que convierta un valor dado en grados Faherenheir a grados Celsius. Recordar que la fórmula para la conversión es: (F°-32)*5/9"
   ]
  },
  {
   "cell_type": "code",
   "execution_count": 2,
   "metadata": {},
   "outputs": [
    {
     "name": "stdout",
     "output_type": "stream",
     "text": [
      "120 Faherenheir son  48.888888888888886 grados Celcius \n"
     ]
    }
   ],
   "source": [
    "grados_faheren=int(input(\"introduzca grados Faherenheir\"))\n",
    "\n",
    "grados_cel=(grados_faheren-32)*5/9\n",
    "print(f\"{grados_faheren} Faherenheir son  {grados_cel} grados Celcius \")"
   ]
  },
  {
   "cell_type": "markdown",
   "metadata": {},
   "source": [
    "Dados dos números, mostrar la suma, resta, división y multiplicación de ambos."
   ]
  },
  {
   "cell_type": "code",
   "execution_count": 22,
   "metadata": {},
   "outputs": [
    {
     "name": "stdout",
     "output_type": "stream",
     "text": [
      "suma\n",
      "2+0=2\n",
      "resta\n",
      "2-0=2\n",
      "multiplicación\n",
      "2*0=0\n",
      "division no se puede dividir entre 0\n"
     ]
    }
   ],
   "source": [
    "numero_1=int(input(\"introduce un número\"))\n",
    "numero_2=int(input(\"introduce otro número\"))\n",
    "\n",
    "print(f\"suma\")\n",
    "print(f\"{numero_1}+{numero_2}={numero_1+numero_2}\")\n",
    "print(f\"resta\")\n",
    "print(f\"{numero_1}-{numero_2}={numero_1-numero_2}\")\n",
    "print(f\"multiplicación\")\n",
    "print(f\"{numero_1}*{numero_2}={numero_1*numero_2}\")\n",
    "if(numero_2==0):\n",
    "    print(f\"division no se puede dividir entre 0\")\n",
    "else:\n",
    "    print(f\"{numero_1}/{numero_2}={numero_1/numero_2}\")"
   ]
  },
  {
   "cell_type": "code",
   "execution_count": 21,
   "metadata": {},
   "outputs": [
    {
     "name": "stdout",
     "output_type": "stream",
     "text": [
      "7\n",
      "-7\n",
      "0.0\n",
      "0\n"
     ]
    }
   ],
   "source": [
    "\n",
    "suma=0\n",
    "resta=0\n",
    "division=0\n",
    "multiplicacion=0\n",
    "numero=0\n",
    "for i in range(2):\n",
    "    numero=(int(input(\"introduce 2 numeros{i}\")))\n",
    "    suma=suma+numero\n",
    "    #print(numero)\n",
    "    resta=resta-numero\n",
    "    division=division/numero\n",
    "    multiplicacion=multiplicacion*numero\n",
    "    \n",
    "    \n",
    "print(f\"{suma}\")\n",
    "#print(f\"{numero_1}+{numero_2}={numero_1+numero_2}\")\n",
    "\n",
    "print(f\"{resta}\")\n",
    "#print(f\"{numero_1}-{numero_2}={numero_1-numero_2}\")\n",
    "\n",
    "print(f\"{division}\")\n",
    "\n",
    "#print(f\"{numero_1}/{numero_2}={numero_1/numero_2}\")\n",
    "\n",
    "print(f\"{multiplicacion}\")\n",
    "#print(f\"{numero_1}*{numero_2}={numero_1*numero_2}\")"
   ]
  },
  {
   "cell_type": "markdown",
   "metadata": {},
   "source": [
    "Calcular el perímetro y área de un rectángulo dada su base y su altura."
   ]
  },
  {
   "cell_type": "code",
   "execution_count": 6,
   "metadata": {},
   "outputs": [
    {
     "name": "stdout",
     "output_type": "stream",
     "text": [
      "perimetro=28.0 area=48.0\n"
     ]
    }
   ],
   "source": [
    "base=float(input(\"introduce valor de base(valor mayor a altura\"))\n",
    "altura=float(input(\"introduce valor de  altura\"))\n",
    "\n",
    "if(altura<base or base< altura):\n",
    "    perimetro=base*2+altura*2\n",
    "    area=base*altura\n",
    "    print(f\"perimetro={perimetro} area={area}\")\n",
    "elif(base==altura):\n",
    "    print(\"valor de la base no corresponde a un rectangulo\")\n",
    "\n"
   ]
  },
  {
   "cell_type": "markdown",
   "metadata": {},
   "source": [
    "Calcular la media de tres números pedidos por teclado.\n"
   ]
  },
  {
   "cell_type": "code",
   "execution_count": 28,
   "metadata": {},
   "outputs": [
    {
     "name": "stdout",
     "output_type": "stream",
     "text": [
      "ingresa 3 numeros\n",
      "a suma de las cantidades ingresadas es: 20\n",
      " El primedio de las cantidades es:6.666666666666667\n"
     ]
    }
   ],
   "source": [
    "print(\"ingresa 3 numeros\")\n",
    "\n",
    "suma=0\n",
    "numero_1=(int(input(\"ingresa primera cantidad\")))\n",
    "numero_2=(int(input(\"ingresa segunda cantidad\")))\n",
    "numero_3=(int(input(\"ingresa tercera cantidad\")))\n",
    "suma=numero_1+numero_2+numero_3\n",
    "print(f\"a suma de las cantidades ingresadas es: {suma}\\n El primedio de las cantidades es:{suma/3}\")"
   ]
  },
  {
   "cell_type": "code",
   "execution_count": 25,
   "metadata": {},
   "outputs": [
    {
     "name": "stdout",
     "output_type": "stream",
     "text": [
      "promedio de 2 numeros ingresados es \n",
      " 10.0\n"
     ]
    }
   ],
   "source": [
    "suma=0\n",
    "n=(int(input(\"ingrese la cantidad de  numeros a promediar\")))\n",
    "\n",
    "for i in range(0,n,1):\n",
    "    numero=float(input(\"ingrese numero\"))\n",
    "    suma=suma+numero\n",
    "promedio=suma/n\n",
    "\n",
    "print(f\"promedio de {n} numeros ingresados es \\n {suma/n}\")"
   ]
  }
 ],
 "metadata": {
  "kernelspec": {
   "display_name": "Python 3.10.4 64-bit",
   "language": "python",
   "name": "python3"
  },
  "language_info": {
   "codemirror_mode": {
    "name": "ipython",
    "version": 3
   },
   "file_extension": ".py",
   "mimetype": "text/x-python",
   "name": "python",
   "nbconvert_exporter": "python",
   "pygments_lexer": "ipython3",
   "version": "3.10.4"
  },
  "orig_nbformat": 4,
  "vscode": {
   "interpreter": {
    "hash": "1b14cc28e908b3e60405afee52de7726ef4b45933adff97ba011d02847356674"
   }
  }
 },
 "nbformat": 4,
 "nbformat_minor": 2
}
