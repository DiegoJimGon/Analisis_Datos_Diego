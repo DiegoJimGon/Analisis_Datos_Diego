{
 "cells": [
  {
   "cell_type": "markdown",
   "metadata": {},
   "source": [
    "Sabe si numero es positivo o negativo"
   ]
  },
  {
   "cell_type": "code",
   "execution_count": null,
   "metadata": {},
   "outputs": [],
   "source": [
    "n=int(input(\"ingresa numero\"))\n",
    "\n",
    "if(n<0):\n",
    "    print(f\"{n} es negativo\")\n",
    "elif(n>0):\n",
    "    print(f\"{n} es positivo\")\n",
    "else:\n",
    "    print(f\"{n} es 0\")"
   ]
  },
  {
   "cell_type": "markdown",
   "metadata": {},
   "source": [
    "Programa que imprima si el número ingresado esta en el rango de 1 a 7"
   ]
  },
  {
   "cell_type": "code",
   "execution_count": 12,
   "metadata": {},
   "outputs": [
    {
     "name": "stdout",
     "output_type": "stream",
     "text": [
      "el numero :100 está FUERA DEL RANGO (1-7)\n",
      "100 es mayor al rango 1 al 7\n"
     ]
    }
   ],
   "source": [
    "n=int(input(\"ingresa un numero \"))\n",
    "\n",
    "if(1<=n and n<=7):\n",
    "    print(f\"el numero,{n}  está EN EL RANGO de 1 a 7\")\n",
    "    \n",
    "else:\n",
    "    print(f\"el numero :{n} está FUERA DEL RANGO (1-7)\")\n",
    "    if(n<1):\n",
    "        print(f\"{n} es menor al rango 1 al 7\")\n",
    "    else:\n",
    "        print(f\"{n} es mayor al rango 1 al 7\")\n",
    "    \n",
    "    \n",
    "    "
   ]
  },
  {
   "cell_type": "markdown",
   "metadata": {},
   "source": [
    "Programa que pida un monto(pesos) e interes, si el interes es mayor al 30%, mostrar un mensaje \"El interes ingresado es incorrecto\", sino informar el importe total, el monto mas el interes (%)."
   ]
  },
  {
   "cell_type": "code",
   "execution_count": 13,
   "metadata": {},
   "outputs": [
    {
     "name": "stdout",
     "output_type": "stream",
     "text": [
      "monto:100.0\n",
      "interes:24.5\n",
      "el monto + interes= 124.5\n"
     ]
    }
   ],
   "source": [
    "monto=float(input(\"ingrese monto en pesos\"))\n",
    "interes=float(input(\"ingrese interes (1-30\"))\n",
    "#intereses=0\n",
    "interes=interes*0.01\n",
    "#print(interes)\n",
    "\n",
    "if(interes<=0.3):\n",
    "    print(f\"monto:{monto}\")\n",
    "#   print(f\"importe total:\")\n",
    "    intereses=monto*interes\n",
    "    print(f\"interes:{intereses}\")\n",
    "    print(f\"el monto + interes= {monto+intereses}\")\n",
    "else:\n",
    "    print(\"el interes es incorrecto\")\n",
    "    "
   ]
  },
  {
   "cell_type": "code",
   "execution_count": null,
   "metadata": {},
   "outputs": [],
   "source": []
  },
  {
   "cell_type": "code",
   "execution_count": null,
   "metadata": {},
   "outputs": [],
   "source": []
  }
 ],
 "metadata": {
  "kernelspec": {
   "display_name": "Python 3.10.4 64-bit",
   "language": "python",
   "name": "python3"
  },
  "language_info": {
   "codemirror_mode": {
    "name": "ipython",
    "version": 3
   },
   "file_extension": ".py",
   "mimetype": "text/x-python",
   "name": "python",
   "nbconvert_exporter": "python",
   "pygments_lexer": "ipython3",
   "version": "3.10.4"
  },
  "orig_nbformat": 4,
  "vscode": {
   "interpreter": {
    "hash": "1b14cc28e908b3e60405afee52de7726ef4b45933adff97ba011d02847356674"
   }
  }
 },
 "nbformat": 4,
 "nbformat_minor": 2
}
