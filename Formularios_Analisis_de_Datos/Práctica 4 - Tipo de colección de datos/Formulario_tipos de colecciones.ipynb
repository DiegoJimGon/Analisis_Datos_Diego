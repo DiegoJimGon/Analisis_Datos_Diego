{
 "cells": [
  {
   "cell_type": "markdown",
   "metadata": {},
   "source": [
    "###Práctica 4 - Tipo de colección de datos."
   ]
  },
  {
   "cell_type": "markdown",
   "metadata": {},
   "source": [
    "Realizar un programa que inicialice una lista con 10 valores aleatorios (del 1 al 10) y posteriormente muestre en pantalla cada elemento de la lista junto con su cuadrado y su cubo."
   ]
  },
  {
   "cell_type": "code",
   "execution_count": 30,
   "metadata": {},
   "outputs": [
    {
     "name": "stdout",
     "output_type": "stream",
     "text": [
      "de 5,cuadrado=25,cubo=125\n",
      "de 10,cuadrado=100,cubo=1000\n",
      "de 6,cuadrado=36,cubo=216\n",
      "de 7,cuadrado=49,cubo=343\n",
      "de 4,cuadrado=16,cubo=64\n",
      "de 8,cuadrado=64,cubo=512\n",
      "de 1,cuadrado=1,cubo=1\n",
      "de 2,cuadrado=4,cubo=8\n",
      "de 9,cuadrado=81,cubo=729\n",
      "de 3,cuadrado=9,cubo=27\n",
      "[]\n",
      "[5, 10, 6, 7, 4, 8, 1, 2, 9, 3]\n"
     ]
    }
   ],
   "source": [
    "import random\n",
    "lista=[1,2,3,4,5,6,7,8,9,10]\n",
    "ran=[]\n",
    "cubo=0\n",
    "cuadrado=0\n",
    "\n",
    "for i in  range(len(lista)):\n",
    "    ran.append(lista.pop(random.randint(0,len(lista)-1)))\n",
    "    #print(lista)\n",
    "    #print(ran)\n",
    "\n",
    "\n",
    "\n",
    "for x in range(0,10):\n",
    "    cuadrado=ran[x]**2\n",
    "    cubo=ran[x]**3\n",
    "    print(f\"de {ran[x]},cuadrado={cuadrado},cubo={cubo}\")\n",
    "print(lista)\n",
    "print(ran)\n"
   ]
  },
  {
   "cell_type": "markdown",
   "metadata": {},
   "source": [
    "Crear una lista e inicializarla con 5 cadenas de caracteres leídas por teclado. Copia los elementos de la lista en otra lista pero en orden inverso, y muestra sus elementos por pantalla."
   ]
  },
  {
   "cell_type": "code",
   "execution_count": 13,
   "metadata": {},
   "outputs": [
    {
     "name": "stdout",
     "output_type": "stream",
     "text": [
      "['as', 'es', 'is', 'os', 'us']\n",
      "['us', 'os', 'is', 'es', 'as']\n"
     ]
    }
   ],
   "source": [
    "lista=[]\n",
    "lista_2=[]\n",
    "for i in range(0,4+1):\n",
    "    lista.append(input(\"ingrese frase\"))\n",
    "    \n",
    "for o in range(len(lista)):\n",
    "    #lista_2.append(lista.sort(reverse=True))\n",
    "    lista_2.append(lista[o])\n",
    "    lista_2.sort(reverse=True)\n",
    "print(lista)\n",
    "print(lista_2)"
   ]
  },
  {
   "cell_type": "code",
   "execution_count": null,
   "metadata": {},
   "outputs": [],
   "source": [
    "numeros.sort(reverse=True)\n",
    "print(numeros)"
   ]
  },
  {
   "cell_type": "markdown",
   "metadata": {},
   "source": [
    "Se quiere realizar un programa que lea por teclado las 5 notas optenidas por un alumno (compredidas entre 0 y 10). A continuación debe mostrar todas las notas, la nota media, la nota más alta y la menor."
   ]
  },
  {
   "cell_type": "code",
   "execution_count": 28,
   "metadata": {},
   "outputs": [
    {
     "name": "stdout",
     "output_type": "stream",
     "text": [
      "5\n",
      "10\n",
      "15\n",
      "20\n",
      "25\n",
      "nota media:::25/5=5.0\n",
      "calificacion mayor=5\n",
      "calificacion menor=5\n"
     ]
    }
   ],
   "source": [
    "calif=[]\n",
    "suma=0\n",
    "for i in range(5):\n",
    "    nota=int(input(\"ingrese nota{i}\"))\n",
    "    \n",
    "    if 0<=nota and nota<=10:\n",
    "        calif.append(nota)\n",
    "        suma=suma+nota\n",
    "        #print(suma)\n",
    "    else:\n",
    "        if nota>10 or nota<0:\n",
    "            pass\n",
    "            print(\"ingrese otra nota valida de 0 a 10\")\n",
    "            \n",
    "print(f\"nota media:::{suma}/{len(calif)}={suma/len(calif)}\")\n",
    "print(f\"calificacion mayor={max(calif)}\")\n",
    "print(f\"calificacion menor={min(calif)}\")\n",
    "\n",
    "##15 intentos"
   ]
  },
  {
   "cell_type": "markdown",
   "metadata": {},
   "source": [
    "Codifica un programa en python que nos permita guardar los nombres de los alumnos de una clase y las notas que han obtenido. Cada alumno pude tener distinta cantidad de notas. Guardar la información en un diccionario cuya claves  serán los nombres de los alumnos y los valores serán listados con las notas de cada alumno. El Programa pedirá el número de alumnos que vamos a introducir, pedirá su nombre e irá pidiendo sus notas hasta que introduzcamos un número negativo"
   ]
  },
  {
   "cell_type": "code",
   "execution_count": null,
   "metadata": {},
   "outputs": [],
   "source": [
    "#INTRODUCIR EL NNUMERO DE ALUMNOS\n",
    "\n",
    "cont_alumnos=0\n",
    "nombres=[]\n",
    "boleta={}\n",
    "alumno=[]\n",
    "num_alumnos=int(input(\"ingrese el numero de alumnos en la clase\"))\n",
    "\n",
    "for n in num_alumnos:\n",
    "    print(\"ingrese nombre de alumno\")\n",
    "    while not calif<0:\n",
    "        nombre=input(\"nombre de alumno\")\n",
    "        calif=float(input(\"ingres calificacion\"))\n",
    "        if calif>=0 or calif<=10:\n",
    "            alumno.append(calif)\n",
    "            \n",
    "        else:\n",
    "            if calif<0:\n",
    "                alumno=boleta[nombre]\n",
    "                print(boleta)\n",
    "                            \n",
    "        "
   ]
  },
  {
   "cell_type": "markdown",
   "metadata": {},
   "source": [
    "Crear una tupla con los meses del año, pide números al usuarios, si el número está entre 1 y la longitud máxima de la tupla, muestra el contenido de esa posición sino muestra un mensaje de error. El programa termina cuando el usuario introduce un cero."
   ]
  },
  {
   "cell_type": "code",
   "execution_count": null,
   "metadata": {},
   "outputs": [],
   "source": []
  }
 ],
 "metadata": {
  "kernelspec": {
   "display_name": "Python 3.10.4 64-bit",
   "language": "python",
   "name": "python3"
  },
  "language_info": {
   "codemirror_mode": {
    "name": "ipython",
    "version": 3
   },
   "file_extension": ".py",
   "mimetype": "text/x-python",
   "name": "python",
   "nbconvert_exporter": "python",
   "pygments_lexer": "ipython3",
   "version": "3.10.4"
  },
  "orig_nbformat": 4,
  "vscode": {
   "interpreter": {
    "hash": "1b14cc28e908b3e60405afee52de7726ef4b45933adff97ba011d02847356674"
   }
  }
 },
 "nbformat": 4,
 "nbformat_minor": 2
}
